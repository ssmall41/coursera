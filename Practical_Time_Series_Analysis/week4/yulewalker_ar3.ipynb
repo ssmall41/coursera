{
 "cells": [
  {
   "cell_type": "markdown",
   "metadata": {},
   "source": [
    "# Estimation of model patrameters of an AR(3) simulation\n"
   ]
  },
  {
   "cell_type": "code",
   "execution_count": null,
   "metadata": {
    "collapsed": true
   },
   "outputs": [],
   "source": [
    "# x_t=phi1*x_(t-1)+phi2* x_(t-2)+\\phi_3*x_(t-3)+z_t\n",
    "# z_t~ N(0, sigma^2)"
   ]
  },
  {
   "cell_type": "code",
   "execution_count": 1,
   "metadata": {
    "collapsed": false
   },
   "outputs": [],
   "source": [
    "set.seed(2017)\n",
    "sigma=4\n",
    "phi=NULL\n",
    "phi[1:3]=c(1/3,1/2,7/100)\n",
    "n=100000"
   ]
  },
  {
   "cell_type": "markdown",
   "metadata": {},
   "source": [
    "## Simulate AR(3) process\n"
   ]
  },
  {
   "cell_type": "code",
   "execution_count": 2,
   "metadata": {
    "collapsed": true
   },
   "outputs": [],
   "source": [
    "ar3.process=arima.sim(n,model=list(ar=c(1/3,1/2, 7/100)), sd=4)"
   ]
  },
  {
   "cell_type": "code",
   "execution_count": 3,
   "metadata": {
    "collapsed": false
   },
   "outputs": [
    {
     "data": {
      "text/html": [
       "<ol class=list-inline>\n",
       "\t<li>0.78596456991166</li>\n",
       "\t<li>0.818090088602057</li>\n",
       "\t<li>0.736916680511059</li>\n",
       "</ol>\n"
      ],
      "text/latex": [
       "\\begin{enumerate*}\n",
       "\\item 0.78596456991166\n",
       "\\item 0.818090088602057\n",
       "\\item 0.736916680511059\n",
       "\\end{enumerate*}\n"
      ],
      "text/markdown": [
       "1. 0.78596456991166\n",
       "2. 0.818090088602057\n",
       "3. 0.736916680511059\n",
       "\n",
       "\n"
      ],
      "text/plain": [
       "[1] 0.7859646 0.8180901 0.7369167"
      ]
     },
     "metadata": {},
     "output_type": "display_data"
    }
   ],
   "source": [
    "r=NULL\n",
    "r[1:3]=acf(ar3.process, plot=F)$acf[2:4]\n",
    "r"
   ]
  },
  {
   "cell_type": "code",
   "execution_count": 4,
   "metadata": {
    "collapsed": false
   },
   "outputs": [
    {
     "data": {
      "text/html": [
       "<table>\n",
       "<tbody>\n",
       "\t<tr><td>1.0000000</td><td>0.7859646</td><td>0.8180901</td></tr>\n",
       "\t<tr><td>0.7859646</td><td>1.0000000</td><td>0.7859646</td></tr>\n",
       "\t<tr><td>0.8180901</td><td>0.7859646</td><td>1.0000000</td></tr>\n",
       "</tbody>\n",
       "</table>\n"
      ],
      "text/latex": [
       "\\begin{tabular}{lll}\n",
       "\t 1.0000000 & 0.7859646 & 0.8180901\\\\\n",
       "\t 0.7859646 & 1.0000000 & 0.7859646\\\\\n",
       "\t 0.8180901 & 0.7859646 & 1.0000000\\\\\n",
       "\\end{tabular}\n"
      ],
      "text/markdown": [
       "\n",
       "| 1.0000000 | 0.7859646 | 0.8180901 | \n",
       "| 0.7859646 | 1.0000000 | 0.7859646 | \n",
       "| 0.8180901 | 0.7859646 | 1.0000000 | \n",
       "\n",
       "\n"
      ],
      "text/plain": [
       "     [,1]      [,2]      [,3]     \n",
       "[1,] 1.0000000 0.7859646 0.8180901\n",
       "[2,] 0.7859646 1.0000000 0.7859646\n",
       "[3,] 0.8180901 0.7859646 1.0000000"
      ]
     },
     "metadata": {},
     "output_type": "display_data"
    }
   ],
   "source": [
    "R=matrix(1,3,3) \n",
    "R[1,2]=r[1] \n",
    "R[1,3]=r[2]\n",
    "R[2,1]=r[1]\n",
    "R[2,3]=r[1]\n",
    "R[3,1]=r[2]\n",
    "R[3,2]=r[1]\n",
    "R"
   ]
  },
  {
   "cell_type": "code",
   "execution_count": 5,
   "metadata": {
    "collapsed": false
   },
   "outputs": [
    {
     "data": {
      "text/html": [
       "<table>\n",
       "<tbody>\n",
       "\t<tr><td>0.7859646</td></tr>\n",
       "\t<tr><td>0.8180901</td></tr>\n",
       "\t<tr><td>0.7369167</td></tr>\n",
       "</tbody>\n",
       "</table>\n"
      ],
      "text/latex": [
       "\\begin{tabular}{l}\n",
       "\t 0.7859646\\\\\n",
       "\t 0.8180901\\\\\n",
       "\t 0.7369167\\\\\n",
       "\\end{tabular}\n"
      ],
      "text/markdown": [
       "\n",
       "| 0.7859646 | \n",
       "| 0.8180901 | \n",
       "| 0.7369167 | \n",
       "\n",
       "\n"
      ],
      "text/plain": [
       "     [,1]     \n",
       "[1,] 0.7859646\n",
       "[2,] 0.8180901\n",
       "[3,] 0.7369167"
      ]
     },
     "metadata": {},
     "output_type": "display_data"
    }
   ],
   "source": [
    "# b-column vector on the right\n",
    "b=matrix(,3,1)# b- column vector with no entries\n",
    "b[1,1]=r[1]\n",
    "b[2,1]=r[2]\n",
    "b[3,1]=r[3]\n",
    "b"
   ]
  },
  {
   "cell_type": "code",
   "execution_count": 6,
   "metadata": {
    "collapsed": false
   },
   "outputs": [
    {
     "data": {
      "text/html": [
       "<table>\n",
       "<tbody>\n",
       "\t<tr><td>0.33812448</td></tr>\n",
       "\t<tr><td>0.49849991</td></tr>\n",
       "\t<tr><td>0.06849712</td></tr>\n",
       "</tbody>\n",
       "</table>\n"
      ],
      "text/latex": [
       "\\begin{tabular}{l}\n",
       "\t 0.33812448\\\\\n",
       "\t 0.49849991\\\\\n",
       "\t 0.06849712\\\\\n",
       "\\end{tabular}\n"
      ],
      "text/markdown": [
       "\n",
       "| 0.33812448 | \n",
       "| 0.49849991 | \n",
       "| 0.06849712 | \n",
       "\n",
       "\n"
      ],
      "text/plain": [
       "     [,1]      \n",
       "[1,] 0.33812448\n",
       "[2,] 0.49849991\n",
       "[3,] 0.06849712"
      ]
     },
     "metadata": {},
     "output_type": "display_data"
    }
   ],
   "source": [
    "# solve Rx=b and find phi's\n",
    "phi.hat=solve(R,b)\n",
    "phi.hat"
   ]
  },
  {
   "cell_type": "code",
   "execution_count": 7,
   "metadata": {
    "collapsed": false
   },
   "outputs": [
    {
     "data": {
      "text/html": [
       "15.9790027182324"
      ],
      "text/latex": [
       "15.9790027182324"
      ],
      "text/markdown": [
       "15.9790027182324"
      ],
      "text/plain": [
       "[1] 15.979"
      ]
     },
     "metadata": {},
     "output_type": "display_data"
    }
   ],
   "source": [
    "# sigme estimation\n",
    "c0=acf(ar3.process, type='covariance', plot=F)$acf[1]\n",
    "var.hat=c0*(1-sum(phi.hat*r))\n",
    "var.hat"
   ]
  },
  {
   "cell_type": "markdown",
   "metadata": {},
   "source": [
    "# Plots"
   ]
  },
  {
   "cell_type": "code",
   "execution_count": null,
   "metadata": {
    "collapsed": false
   },
   "outputs": [],
   "source": [
    "par(mfrow=c(3,1))\n",
    "plot(ar3.process, main='Simulated AR(3)')\n",
    "acf(ar3.process, main='ACF')\n",
    "pacf(ar3.process, main='PACF')"
   ]
  },
  {
   "cell_type": "code",
   "execution_count": null,
   "metadata": {
    "collapsed": true
   },
   "outputs": [],
   "source": []
  }
 ],
 "metadata": {
  "kernelspec": {
   "display_name": "R",
   "language": "R",
   "name": "ir"
  },
  "language_info": {
   "codemirror_mode": "r",
   "file_extension": ".r",
   "mimetype": "text/x-r-source",
   "name": "R",
   "pygments_lexer": "r",
   "version": "3.3.2"
  }
 },
 "nbformat": 4,
 "nbformat_minor": 0
}
