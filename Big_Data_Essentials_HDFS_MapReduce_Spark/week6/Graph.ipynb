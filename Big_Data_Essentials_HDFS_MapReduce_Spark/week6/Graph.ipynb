{
 "cells": [
  {
   "cell_type": "code",
   "execution_count": 1,
   "metadata": {},
   "outputs": [],
   "source": [
    "from pyspark import SparkConf, SparkContext\n",
    "sc = SparkContext(conf=SparkConf().setAppName(\"MyApp\").setMaster(\"local\"))"
   ]
  },
  {
   "cell_type": "code",
   "execution_count": 2,
   "metadata": {},
   "outputs": [],
   "source": [
    "# Read the file\n",
    "def parse_edge(s):\n",
    "    user, follower = s.split(\"\\t\")\n",
    "    return (int(user), int(follower))\n",
    "\n",
    "n = 400  # number of partitions\n",
    "edges = sc.textFile(\"/data/twitter/twitter_sample_small.txt\").map(parse_edge).cache()\n",
    "forward_edges = edges.map(lambda e: (e[1], e[0])).partitionBy(n).persist()\n",
    "\n",
    "start_node = 12\n",
    "end_node = 34"
   ]
  },
  {
   "cell_type": "code",
   "execution_count": 3,
   "metadata": {},
   "outputs": [],
   "source": [
    "def attach_node(x):\n",
    "    return (x[1][1], x[1][0] + [x[1][1]])"
   ]
  },
  {
   "cell_type": "code",
   "execution_count": 21,
   "metadata": {},
   "outputs": [
    {
     "name": "stdout",
     "output_type": "stream",
     "text": [
      "1\n",
      "[(126, [12, 126]), (380, [12, 380]), (422, [12, 422]), (648, [12, 648])]\n",
      "2\n",
      "[(53, [12, 422, 53])]\n",
      "3\n",
      "[(31, [12, 422, 53, 31]), (52, [12, 422, 53, 52]), (57, [12, 422, 53, 57]), (150, [12, 422, 53, 150]), (187, [12, 422, 53, 187]), (292, [12, 422, 53, 292]), (652, [12, 422, 53, 652])]\n",
      "4\n",
      "[(13, [12, 422, 53, 31, 13]), (107, [12, 422, 53, 52, 107])]\n",
      "5\n",
      "[(15, [12, 422, 53, 52, 107, 15]), (20, [12, 422, 53, 52, 107, 20]), (586, [12, 422, 53, 52, 107, 586])]\n",
      "6\n",
      "[(23, [12, 422, 53, 52, 107, 20, 23]), (87, [12, 422, 53, 52, 107, 20, 87]), (292, [12, 422, 53, 52, 107, 20, 292]), (295, [12, 422, 53, 52, 107, 20, 295]), (107, [12, 422, 53, 52, 107, 586, 107])]\n",
      "7\n",
      "[(16, [12, 422, 53, 52, 107, 20, 23, 16]), (38, [12, 422, 53, 52, 107, 20, 23, 38]), (274, [12, 422, 53, 52, 107, 20, 23, 274]), (64, [12, 422, 53, 52, 107, 20, 87, 64]), (15, [12, 422, 53, 52, 107, 586, 107, 15]), (20, [12, 422, 53, 52, 107, 586, 107, 20]), (586, [12, 422, 53, 52, 107, 586, 107, 586])]\n",
      "[(34, [12, 422, 53, 52, 107, 20, 23, 274, 34])]\n"
     ]
    }
   ],
   "source": [
    "paths = sc.parallelize([(start_node, [start_node, ])])\n",
    "counter = 0\n",
    "while True:\n",
    "    \n",
    "    paths = paths.join(forward_edges).map(attach_node)\n",
    "    completed_paths = paths.filter(lambda x: x[0] == end_node)\n",
    "    if completed_paths.count() > 0:\n",
    "        print(completed_paths.collect())\n",
    "        break\n",
    "    \n",
    "    counter += 1\n",
    "    print(counter)\n",
    "    print(paths.collect())\n",
    "    #if counter == 2:\n",
    "    #    break"
   ]
  },
  {
   "cell_type": "code",
   "execution_count": 36,
   "metadata": {},
   "outputs": [
    {
     "name": "stdout",
     "output_type": "stream",
     "text": [
      "12,422,53,52,107,20,23,274,34\n"
     ]
    }
   ],
   "source": [
    "res = completed_paths.take(1)\n",
    "print(','.join([str(x) for x in res[0][1]]))"
   ]
  },
  {
   "cell_type": "code",
   "execution_count": null,
   "metadata": {},
   "outputs": [],
   "source": []
  }
 ],
 "metadata": {
  "kernelspec": {
   "display_name": "Python 2",
   "language": "python",
   "name": "python2"
  },
  "language_info": {
   "codemirror_mode": {
    "name": "ipython",
    "version": 2
   },
   "file_extension": ".py",
   "mimetype": "text/x-python",
   "name": "python",
   "nbconvert_exporter": "python",
   "pygments_lexer": "ipython2",
   "version": "2.7.12"
  }
 },
 "nbformat": 4,
 "nbformat_minor": 2
}
