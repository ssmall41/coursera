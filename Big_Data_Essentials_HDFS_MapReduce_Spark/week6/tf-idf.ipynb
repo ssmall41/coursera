{
 "cells": [
  {
   "cell_type": "code",
   "execution_count": 1,
   "metadata": {},
   "outputs": [
    {
     "name": "stdout",
     "output_type": "stream",
     "text": [
      "Writing mapper.py\n"
     ]
    }
   ],
   "source": [
    "%%writefile mapper.py\n",
    "from __future__ import division\n",
    "import sys\n",
    "import re\n",
    "from collections import Counter\n",
    "\n",
    "reload(sys)\n",
    "sys.setdefaultencoding('utf-8') # required to convert to unicode\n",
    "\n",
    "with open('stop_words_en.txt') as f:\n",
    "    stop_words = set(f.read().split())\n",
    "\n",
    "for line in sys.stdin:\n",
    "    try:\n",
    "        article_id, text = unicode(line.strip()).split('\\t', 1)\n",
    "        article_id = int(article_id)\n",
    "    except ValueError as e:\n",
    "        continue\n",
    "    words = re.split(\"\\W*\\s+\\W*\", text, flags=re.UNICODE)\n",
    "    words = [x.lower() for x in words if x.lower() not in stop_words]\n",
    "    words_set = set(words)\n",
    "    \n",
    "    num_of_words_in_doc = len(words)\n",
    "    counts = Counter(words)\n",
    "    \n",
    "    for word in words_set:\n",
    "        num_of_word_in_doc = counts[word]\n",
    "        tf = num_of_word_in_doc / num_of_words_in_doc\n",
    "        print \"%s\\t%d\\t%f\" % (word, article_id, tf)"
   ]
  },
  {
   "cell_type": "code",
   "execution_count": 2,
   "metadata": {},
   "outputs": [
    {
     "name": "stdout",
     "output_type": "stream",
     "text": [
      "Writing reducer.py\n"
     ]
    }
   ],
   "source": [
    "%%writefile reducer.py\n",
    "from __future__ import division\n",
    "import sys\n",
    "from math import log\n",
    "\n",
    "current_word = None\n",
    "articles_dict = dict()\n",
    "\n",
    "for line in sys.stdin:\n",
    "    try:\n",
    "        word, article_id, tf = line.strip().split('\\t')\n",
    "        article_id = int(article_id)\n",
    "        tf = float(tf)\n",
    "    except ValueError as e:\n",
    "        continue\n",
    "    \n",
    "    if current_word != word:\n",
    "        if current_word:\n",
    "            idf = 1 / log(1 + len(articles_dict))\n",
    "            for key_article_id, tf in articles_dict.iteritems():\n",
    "                tfidf = tf * idf\n",
    "                print \"%s\\t%d\\t%f\" % (current_word, key_article_id, tfidf)\n",
    "        articles_dict = dict()\n",
    "        current_word = word\n",
    "    articles_dict[article_id] = tf\n",
    "\n",
    "if current_word:\n",
    "    print \"%s\\t%d\\t%f\" % (current_word, article_id, tfidf)"
   ]
  },
  {
   "cell_type": "code",
   "execution_count": 10,
   "metadata": {},
   "outputs": [
    {
     "name": "stdout",
     "output_type": "stream",
     "text": [
      "0.000351\n"
     ]
    },
    {
     "name": "stderr",
     "output_type": "stream",
     "text": [
      "rm: `tf_idf': No such file or directory\n",
      "19/04/04 14:53:16 INFO client.RMProxy: Connecting to ResourceManager at /0.0.0.0:8032\n",
      "19/04/04 14:53:17 INFO client.RMProxy: Connecting to ResourceManager at /0.0.0.0:8032\n",
      "19/04/04 14:53:18 INFO mapred.FileInputFormat: Total input files to process : 1\n",
      "19/04/04 14:53:18 INFO mapreduce.JobSubmitter: number of splits:2\n",
      "19/04/04 14:53:18 INFO mapreduce.JobSubmitter: Submitting tokens for job: job_1554382337295_0001\n",
      "19/04/04 14:53:19 INFO impl.YarnClientImpl: Submitted application application_1554382337295_0001\n",
      "19/04/04 14:53:19 INFO mapreduce.Job: The url to track the job: http://b6efa8fb5d42:8088/proxy/application_1554382337295_0001/\n",
      "19/04/04 14:53:19 INFO mapreduce.Job: Running job: job_1554382337295_0001\n",
      "19/04/04 14:53:29 INFO mapreduce.Job: Job job_1554382337295_0001 running in uber mode : false\n",
      "19/04/04 14:53:29 INFO mapreduce.Job:  map 0% reduce 0%\n",
      "19/04/04 14:53:48 INFO mapreduce.Job:  map 53% reduce 0%\n",
      "19/04/04 14:53:54 INFO mapreduce.Job:  map 67% reduce 0%\n",
      "19/04/04 14:53:55 INFO mapreduce.Job:  map 100% reduce 0%\n",
      "19/04/04 14:54:17 INFO mapreduce.Job:  map 100% reduce 11%\n",
      "19/04/04 14:54:20 INFO mapreduce.Job:  map 100% reduce 13%\n",
      "19/04/04 14:54:22 INFO mapreduce.Job:  map 100% reduce 24%\n",
      "19/04/04 14:54:26 INFO mapreduce.Job:  map 100% reduce 37%\n",
      "19/04/04 14:54:27 INFO mapreduce.Job:  map 100% reduce 38%\n",
      "19/04/04 14:54:28 INFO mapreduce.Job:  map 100% reduce 50%\n",
      "19/04/04 14:54:30 INFO mapreduce.Job:  map 100% reduce 63%\n",
      "19/04/04 14:54:31 INFO mapreduce.Job:  map 100% reduce 75%\n",
      "19/04/04 14:54:36 INFO mapreduce.Job:  map 100% reduce 88%\n",
      "19/04/04 14:54:37 INFO mapreduce.Job:  map 100% reduce 100%\n",
      "19/04/04 14:54:38 INFO mapreduce.Job: Job job_1554382337295_0001 completed successfully\n",
      "19/04/04 14:54:38 INFO mapreduce.Job: Counters: 50\n",
      "\tFile System Counters\n",
      "\t\tFILE: Number of bytes read=83708136\n",
      "\t\tFILE: Number of bytes written=168815616\n",
      "\t\tFILE: Number of read operations=0\n",
      "\t\tFILE: Number of large read operations=0\n",
      "\t\tFILE: Number of write operations=0\n",
      "\t\tHDFS: Number of bytes read=76874501\n",
      "\t\tHDFS: Number of bytes written=76761713\n",
      "\t\tHDFS: Number of read operations=30\n",
      "\t\tHDFS: Number of large read operations=0\n",
      "\t\tHDFS: Number of write operations=16\n",
      "\tJob Counters \n",
      "\t\tKilled reduce tasks=1\n",
      "\t\tLaunched map tasks=2\n",
      "\t\tLaunched reduce tasks=8\n",
      "\t\tData-local map tasks=2\n",
      "\t\tTotal time spent by all maps in occupied slots (ms)=48218\n",
      "\t\tTotal time spent by all reduces in occupied slots (ms)=183162\n",
      "\t\tTotal time spent by all map tasks (ms)=48218\n",
      "\t\tTotal time spent by all reduce tasks (ms)=183162\n",
      "\t\tTotal vcore-milliseconds taken by all map tasks=48218\n",
      "\t\tTotal vcore-milliseconds taken by all reduce tasks=183162\n",
      "\t\tTotal megabyte-milliseconds taken by all map tasks=49375232\n",
      "\t\tTotal megabyte-milliseconds taken by all reduce tasks=187557888\n",
      "\tMap-Reduce Framework\n",
      "\t\tMap input records=4100\n",
      "\t\tMap output records=3472743\n",
      "\t\tMap output bytes=76762592\n",
      "\t\tMap output materialized bytes=83708184\n",
      "\t\tInput split bytes=228\n",
      "\t\tCombine input records=0\n",
      "\t\tCombine output records=0\n",
      "\t\tReduce input groups=426865\n",
      "\t\tReduce shuffle bytes=83708184\n",
      "\t\tReduce input records=3472743\n",
      "\t\tReduce output records=3472685\n",
      "\t\tSpilled Records=6945486\n",
      "\t\tShuffled Maps =16\n",
      "\t\tFailed Shuffles=0\n",
      "\t\tMerged Map outputs=16\n",
      "\t\tGC time elapsed (ms)=2189\n",
      "\t\tCPU time spent (ms)=80870\n",
      "\t\tPhysical memory (bytes) snapshot=1933643776\n",
      "\t\tVirtual memory (bytes) snapshot=19660402688\n",
      "\t\tTotal committed heap usage (bytes)=1580204032\n",
      "\tShuffle Errors\n",
      "\t\tBAD_ID=0\n",
      "\t\tCONNECTION=0\n",
      "\t\tIO_ERROR=0\n",
      "\t\tWRONG_LENGTH=0\n",
      "\t\tWRONG_MAP=0\n",
      "\t\tWRONG_REDUCE=0\n",
      "\tFile Input Format Counters \n",
      "\t\tBytes Read=76874273\n",
      "\tFile Output Format Counters \n",
      "\t\tBytes Written=76761713\n",
      "19/04/04 14:54:38 INFO streaming.StreamJob: Output directory: tf_idf\n"
     ]
    }
   ],
   "source": [
    "%%bash\n",
    "\n",
    "OUT_DIR=\"tf_idf\"\n",
    "NUM_REDUCERS=8\n",
    "\n",
    "hdfs dfs -rm -r -skipTrash ${OUT_DIR} > /dev/null\n",
    "\n",
    "yarn jar /opt/cloudera/parcels/CDH/lib/hadoop-mapreduce/hadoop-streaming.jar \\\n",
    "    -D mapred.jab.name=\"Streaming tf_idf\" \\\n",
    "    -D mapreduce.job.reduces=${NUM_REDUCERS} \\\n",
    "    -files mapper.py,reducer.py,/datasets/stop_words_en.txt \\\n",
    "    -mapper \"python mapper.py\" \\\n",
    "    -reducer \"python reducer.py\" \\\n",
    "    -input /data/wiki/en_articles_part \\\n",
    "    -output ${OUT_DIR} > /dev/null\n",
    "\n",
    "hdfs dfs -cat tf_idf/* | grep -P 'labor\\t12\\t' | cut -f3"
   ]
  },
  {
   "cell_type": "code",
   "execution_count": null,
   "metadata": {},
   "outputs": [],
   "source": []
  }
 ],
 "metadata": {
  "kernelspec": {
   "display_name": "Python 2",
   "language": "python",
   "name": "python2"
  },
  "language_info": {
   "codemirror_mode": {
    "name": "ipython",
    "version": 2
   },
   "file_extension": ".py",
   "mimetype": "text/x-python",
   "name": "python",
   "nbconvert_exporter": "python",
   "pygments_lexer": "ipython2",
   "version": "2.7.12"
  }
 },
 "nbformat": 4,
 "nbformat_minor": 2
}
