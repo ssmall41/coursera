{
 "cells": [
  {
   "cell_type": "markdown",
   "metadata": {},
   "source": [
    "# Part 3"
   ]
  },
  {
   "cell_type": "code",
   "execution_count": 1,
   "metadata": {},
   "outputs": [],
   "source": [
    "! hdfs dfs -mkdir assignment1"
   ]
  },
  {
   "cell_type": "code",
   "execution_count": 2,
   "metadata": {},
   "outputs": [],
   "source": [
    "! hdfs dfs -put test.txt assignment1"
   ]
  },
  {
   "cell_type": "code",
   "execution_count": 3,
   "metadata": {},
   "outputs": [
    {
     "name": "stdout",
     "output_type": "stream",
     "text": [
      "-rw-r--r--   1 jovyan supergroup        224 2019-02-05 14:10 assignment1/test.txt\r\n"
     ]
    }
   ],
   "source": [
    "! hdfs dfs -ls assignment1/test.txt"
   ]
  },
  {
   "cell_type": "code",
   "execution_count": 4,
   "metadata": {},
   "outputs": [],
   "source": [
    "! hdfs dfs -chmod o-r assignment1/test.txt"
   ]
  },
  {
   "cell_type": "code",
   "execution_count": 6,
   "metadata": {},
   "outputs": [
    {
     "name": "stdout",
     "output_type": "stream",
     "text": [
      "Line 1\r\n",
      "Line 2\r\n",
      "Line 3\r\n",
      "Line 4\r\n",
      "Line 5\r\n",
      "Line 6\r\n",
      "Line 7\r\n",
      "Line 8\r\n",
      "Line 9\r\n",
      "Line 10\r\n"
     ]
    }
   ],
   "source": [
    "! hdfs dfs -cat assignment1/test.txt | head -10"
   ]
  },
  {
   "cell_type": "code",
   "execution_count": 7,
   "metadata": {},
   "outputs": [],
   "source": [
    "! hdfs dfs -mv assignment1/test.txt assignment1/test2.txt"
   ]
  },
  {
   "cell_type": "code",
   "execution_count": 8,
   "metadata": {},
   "outputs": [
    {
     "name": "stdout",
     "output_type": "stream",
     "text": [
      "Found 1 items\n",
      "-rw-r-----   1 jovyan supergroup        224 2019-02-05 14:10 assignment1/test2.txt\n"
     ]
    }
   ],
   "source": [
    "%%bash\n",
    "hdfs dfs -ls assignment1"
   ]
  },
  {
   "cell_type": "markdown",
   "metadata": {},
   "source": [
    "# Part 4"
   ]
  },
  {
   "cell_type": "code",
   "execution_count": 11,
   "metadata": {},
   "outputs": [
    {
     "name": "stdout",
     "output_type": "stream",
     "text": [
      "-rwxrwxrwx   1 jovyan supergroup   76861985 2017-11-28 21:41 /data/wiki/en_articles_part/articles-part\r\n"
     ]
    }
   ],
   "source": [
    "! hdfs dfs -ls /data/wiki/en_articles_part/articles-part"
   ]
  },
  {
   "cell_type": "code",
   "execution_count": 23,
   "metadata": {},
   "outputs": [
    {
     "name": "stdout",
     "output_type": "stream",
     "text": [
      "Connecting to namenode via http://localhost:50070/fsck?ugi=jovyan&files=1&blocks=1&locations=1&path=%2Fdata%2Fwiki%2Fen_articles_part\r\n",
      "FSCK started by jovyan (auth:SIMPLE) from /127.0.0.1 for path /data/wiki/en_articles_part at Tue Feb 05 14:49:47 UTC 2019\r\n",
      "/data/wiki/en_articles_part <dir>\r\n",
      "/data/wiki/en_articles_part/articles-part 76861985 bytes, 1 block(s):  OK\r\n",
      "0. BP-912138591-172.17.0.1-1508245861251:blk_1073741825_1001 len=76861985 Live_repl=1 [DatanodeInfoWithStorage[127.0.0.1:50010,DS-abfda850-d766-4f78-a27c-3744043afccc,DISK]]\r\n",
      "\r\n",
      "Status: HEALTHY\r\n",
      " Total size:\t76861985 B\r\n",
      " Total dirs:\t1\r\n",
      " Total files:\t1\r\n",
      " Total symlinks:\t\t0\r\n",
      " Total blocks (validated):\t1 (avg. block size 76861985 B)\r\n",
      " Minimally replicated blocks:\t1 (100.0 %)\r\n",
      " Over-replicated blocks:\t0 (0.0 %)\r\n",
      " Under-replicated blocks:\t0 (0.0 %)\r\n",
      " Mis-replicated blocks:\t\t0 (0.0 %)\r\n",
      " Default replication factor:\t1\r\n",
      " Average block replication:\t1.0\r\n",
      " Corrupt blocks:\t\t0\r\n",
      " Missing replicas:\t\t0 (0.0 %)\r\n",
      " Number of data-nodes:\t\t1\r\n",
      " Number of racks:\t\t1\r\n",
      "FSCK ended at Tue Feb 05 14:49:47 UTC 2019 in 1 milliseconds\r\n",
      "\r\n",
      "\r\n",
      "The filesystem under path '/data/wiki/en_articles_part' is HEALTHY\r\n"
     ]
    }
   ],
   "source": [
    "! hdfs fsck /data/wiki/en_articles_part -files -blocks -locations"
   ]
  },
  {
   "cell_type": "code",
   "execution_count": 25,
   "metadata": {},
   "outputs": [
    {
     "name": "stdout",
     "output_type": "stream",
     "text": [
      "Connecting to namenode via http://localhost:50070/fsck?ugi=jovyan&blockId=blk_1073741825+&path=%2F\r\n",
      "FSCK started by jovyan (auth:SIMPLE) from /127.0.0.1 at Tue Feb 05 14:50:58 UTC 2019\r\n",
      "\r\n",
      "Block Id: blk_1073741825\r\n",
      "Block belongs to: /data/wiki/en_articles_part/articles-part\r\n",
      "No. of Expected Replica: 1\r\n",
      "No. of live Replica: 1\r\n",
      "No. of excess Replica: 0\r\n",
      "No. of stale Replica: 0\r\n",
      "No. of decommissioned Replica: 0\r\n",
      "No. of decommissioning Replica: 0\r\n",
      "No. of corrupted Replica: 0\r\n",
      "Block replica on datanode/rack: c0366a4b7f50/default-rack is HEALTHY\r\n"
     ]
    }
   ],
   "source": [
    "! hdfs fsck -blockId blk_1073741825"
   ]
  },
  {
   "cell_type": "code",
   "execution_count": null,
   "metadata": {},
   "outputs": [],
   "source": []
  }
 ],
 "metadata": {
  "kernelspec": {
   "display_name": "Python 2",
   "language": "python",
   "name": "python2"
  },
  "language_info": {
   "codemirror_mode": {
    "name": "ipython",
    "version": 2
   },
   "file_extension": ".py",
   "mimetype": "text/x-python",
   "name": "python",
   "nbconvert_exporter": "python",
   "pygments_lexer": "ipython2",
   "version": "2.7.12"
  }
 },
 "nbformat": 4,
 "nbformat_minor": 2
}
