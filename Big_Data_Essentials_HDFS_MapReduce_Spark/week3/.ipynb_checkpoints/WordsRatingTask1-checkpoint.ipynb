{
 "cells": [
  {
   "cell_type": "markdown",
   "metadata": {
    "colab_type": "text",
    "id": "Ebk-YqgqEOw1"
   },
   "source": [
    "# Hadoop Streaming assignment 1: Words Rating"
   ]
  },
  {
   "cell_type": "markdown",
   "metadata": {
    "colab_type": "text",
    "id": "XDLjl7hGEOw2"
   },
   "source": [
    "The purpose of this task is to create your own WordCount program for Wikipedia dump processing and learn basic concepts of the MapReduce.\n",
    "\n",
    "In this task you have to find the 7th word by popularity and its quantity in the reverse order (most popular first) in Wikipedia data (`/data/wiki/en_articles_part`).\n",
    "\n",
    "There are several points for this task:\n",
    "\n",
    "1) As an output, you have to get the 7th word and its quantity separated by a tab character.\n",
    "\n",
    "2) You must use the second job to obtain a totally ordered result.\n",
    "\n",
    "3) Do not forget to redirect all trash and output to /dev/null.\n",
    "\n",
    "Here you can find the draft of the task main steps. You can use other methods for solution obtaining."
   ]
  },
  {
   "cell_type": "markdown",
   "metadata": {
    "colab_type": "text",
    "id": "lIUikVIDEOw2"
   },
   "source": [
    "## Step 1. Create mapper and reducer.\n",
    "\n",
    "<b>Hint:</b>  Demo task contains almost all the necessary pieces to complete this assignment. You may use the demo to implement the first MapReduce Job."
   ]
  },
  {
   "cell_type": "code",
   "execution_count": 1,
   "metadata": {
    "colab": {
     "autoexec": {
      "startup": false,
      "wait_interval": 0
     }
    },
    "colab_type": "code",
    "id": "A7T5mxDwEOw4"
   },
   "outputs": [
    {
     "name": "stdout",
     "output_type": "stream",
     "text": [
      "Overwriting mapper1.py\n"
     ]
    }
   ],
   "source": [
    "%%writefile mapper1.py\n",
    "\n",
    "import sys\n",
    "import re\n",
    "\n",
    "reload(sys)\n",
    "sys.setdefaultencoding('utf-8') # required to convert to unicode\n",
    "\n",
    "for line in sys.stdin:\n",
    "    try:\n",
    "        article_id, text = unicode(line.strip()).split('\\t', 1)\n",
    "    except ValueError as e:\n",
    "        continue\n",
    "    words = re.split(\"\\W*\\s+\\W*\", text, flags=re.UNICODE)\n",
    "    for word in words:\n",
    "        print >> sys.stderr, \"reporter:counter:Wiki stats,Total words,%d\" % 1\n",
    "        print \"%s\\t%d\" % (word.lower(), 1)"
   ]
  },
  {
   "cell_type": "code",
   "execution_count": 2,
   "metadata": {
    "colab": {
     "autoexec": {
      "startup": false,
      "wait_interval": 0
     }
    },
    "colab_type": "code",
    "id": "oE8KFKqpEOw5"
   },
   "outputs": [
    {
     "name": "stdout",
     "output_type": "stream",
     "text": [
      "Overwriting reducer1.py\n"
     ]
    }
   ],
   "source": [
    "%%writefile reducer1.py\n",
    "\n",
    "import sys\n",
    "\n",
    "current_key = None\n",
    "word_sum = 0\n",
    "\n",
    "for line in sys.stdin:\n",
    "    try:\n",
    "        key, count = line.strip().split('\\t', 1)\n",
    "        count = int(count)\n",
    "    except ValueError as e:\n",
    "        continue\n",
    "    if current_key != key:\n",
    "        if current_key:\n",
    "            print \"%s\\t%d\" % (current_key, word_sum)\n",
    "        word_sum = 0\n",
    "        current_key = key\n",
    "    word_sum += count\n",
    "\n",
    "if current_key:\n",
    "    print \"%s\\t%d\" % (current_key, word_sum)"
   ]
  },
  {
   "cell_type": "code",
   "execution_count": null,
   "metadata": {
    "colab": {
     "autoexec": {
      "startup": false,
      "wait_interval": 0
     }
    },
    "colab_type": "code",
    "id": "LJtc3_u0uXSz"
   },
   "outputs": [],
   "source": [
    "# You can use this cell for other experiments: for example, for combiner."
   ]
  },
  {
   "cell_type": "markdown",
   "metadata": {
    "colab_type": "text",
    "id": "KYZpcwY9EOw6"
   },
   "source": [
    "## Step 2. Create sort job.\n",
    "\n",
    "<b>Hint:</b> You may use MapReduce comparator to solve this step. Make sure that the keys are sorted in ascending order."
   ]
  },
  {
   "cell_type": "code",
   "execution_count": 14,
   "metadata": {
    "colab": {
     "autoexec": {
      "startup": false,
      "wait_interval": 0
     }
    },
    "colab_type": "code",
    "id": "g-NMzQ79EOw7"
   },
   "outputs": [
    {
     "name": "stdout",
     "output_type": "stream",
     "text": [
      "Overwriting mapper_sorter.py\n"
     ]
    }
   ],
   "source": [
    "%%writefile mapper_sorter.py\n",
    "# Your code for sort job here. Don't forget to use magic writefile\n",
    "\n",
    "import sys\n",
    "\n",
    "reload(sys)\n",
    "sys.setdefaultencoding('utf-8') # required to convert to unicode\n",
    "\n",
    "for line in sys.stdin:\n",
    "    try:\n",
    "        word, count = line.strip().split('\\t', 1)\n",
    "        count = int(count)\n",
    "    except ValueError as e:\n",
    "        continue\n",
    "    print \"%d\\t%s\" % (count, word)"
   ]
  },
  {
   "cell_type": "code",
   "execution_count": 15,
   "metadata": {
    "colab": {
     "autoexec": {
      "startup": false,
      "wait_interval": 0
     }
    },
    "colab_type": "code",
    "id": "qs6SKs7wO4be"
   },
   "outputs": [
    {
     "name": "stdout",
     "output_type": "stream",
     "text": [
      "Overwriting reducer_sorter.py\n"
     ]
    }
   ],
   "source": [
    "%%writefile reducer_sorter.py\n",
    "\n",
    "import sys\n",
    "\n",
    "for line in sys.stdin:\n",
    "    try:\n",
    "        count, key = line.strip().split('\\t', 1)\n",
    "        count = int(count)\n",
    "    except ValueError as e:\n",
    "        continue\n",
    "    print \"%s\\t%d\" % (key, count)"
   ]
  },
  {
   "cell_type": "markdown",
   "metadata": {
    "colab_type": "text",
    "id": "4OBE81GZEOw8"
   },
   "source": [
    "## Step 3. Bash commands\n",
    "\n",
    "<b> Hint: </b> For printing the exact row you may use basic UNIX commands. For instance, sed/head/tail/... (if you know other commands, you can use them).\n",
    "\n",
    "To run both jobs, you must use two consecutive yarn-commands. Remember that the input for the second job is the ouput for the first job."
   ]
  },
  {
   "cell_type": "code",
   "execution_count": 16,
   "metadata": {
    "colab": {
     "autoexec": {
      "startup": false,
      "wait_interval": 0
     }
    },
    "colab_type": "code",
    "id": "1q9NczdIEOw9",
    "scrolled": true
   },
   "outputs": [
    {
     "name": "stdout",
     "output_type": "stream",
     "text": [
      "0,1,0\t1\n",
      "ﺻـ\t1\n"
     ]
    },
    {
     "name": "stderr",
     "output_type": "stream",
     "text": [
      "19/02/13 22:34:08 INFO client.RMProxy: Connecting to ResourceManager at /0.0.0.0:8032\n",
      "19/02/13 22:34:09 INFO client.RMProxy: Connecting to ResourceManager at /0.0.0.0:8032\n",
      "19/02/13 22:34:09 INFO mapred.FileInputFormat: Total input files to process : 8\n",
      "19/02/13 22:34:09 INFO mapreduce.JobSubmitter: number of splits:8\n",
      "19/02/13 22:34:09 INFO mapreduce.JobSubmitter: Submitting tokens for job: job_1550089084340_0021\n",
      "19/02/13 22:34:10 INFO impl.YarnClientImpl: Submitted application application_1550089084340_0021\n",
      "19/02/13 22:34:10 INFO mapreduce.Job: The url to track the job: http://ca6316f91787:8088/proxy/application_1550089084340_0021/\n",
      "19/02/13 22:34:10 INFO mapreduce.Job: Running job: job_1550089084340_0021\n",
      "19/02/13 22:34:16 INFO mapreduce.Job: Job job_1550089084340_0021 running in uber mode : false\n",
      "19/02/13 22:34:16 INFO mapreduce.Job:  map 0% reduce 0%\n",
      "19/02/13 22:34:26 INFO mapreduce.Job:  map 75% reduce 0%\n",
      "19/02/13 22:34:30 INFO mapreduce.Job:  map 100% reduce 0%\n",
      "19/02/13 22:34:36 INFO mapreduce.Job:  map 100% reduce 13%\n",
      "19/02/13 22:34:37 INFO mapreduce.Job:  map 100% reduce 25%\n",
      "19/02/13 22:34:38 INFO mapreduce.Job:  map 100% reduce 38%\n",
      "19/02/13 22:34:39 INFO mapreduce.Job:  map 100% reduce 63%\n",
      "19/02/13 22:34:40 INFO mapreduce.Job:  map 100% reduce 75%\n",
      "19/02/13 22:34:42 INFO mapreduce.Job:  map 100% reduce 100%\n",
      "19/02/13 22:34:43 INFO mapreduce.Job: Job job_1550089084340_0021 completed successfully\n",
      "19/02/13 22:34:43 INFO mapreduce.Job: Counters: 50\n",
      "\tFile System Counters\n",
      "\t\tFILE: Number of bytes read=6224930\n",
      "\t\tFILE: Number of bytes written=14694652\n",
      "\t\tFILE: Number of read operations=0\n",
      "\t\tFILE: Number of large read operations=0\n",
      "\t\tFILE: Number of write operations=0\n",
      "\t\tHDFS: Number of bytes read=5371377\n",
      "\t\tHDFS: Number of bytes written=5370513\n",
      "\t\tHDFS: Number of read operations=48\n",
      "\t\tHDFS: Number of large read operations=0\n",
      "\t\tHDFS: Number of write operations=16\n",
      "\tJob Counters \n",
      "\t\tKilled map tasks=1\n",
      "\t\tLaunched map tasks=8\n",
      "\t\tLaunched reduce tasks=8\n",
      "\t\tData-local map tasks=8\n",
      "\t\tTotal time spent by all maps in occupied slots (ms)=56772\n",
      "\t\tTotal time spent by all reduces in occupied slots (ms)=52527\n",
      "\t\tTotal time spent by all map tasks (ms)=56772\n",
      "\t\tTotal time spent by all reduce tasks (ms)=52527\n",
      "\t\tTotal vcore-milliseconds taken by all map tasks=56772\n",
      "\t\tTotal vcore-milliseconds taken by all reduce tasks=52527\n",
      "\t\tTotal megabyte-milliseconds taken by all map tasks=58134528\n",
      "\t\tTotal megabyte-milliseconds taken by all reduce tasks=53787648\n",
      "\tMap-Reduce Framework\n",
      "\t\tMap input records=427175\n",
      "\t\tMap output records=427175\n",
      "\t\tMap output bytes=5370522\n",
      "\t\tMap output materialized bytes=6225266\n",
      "\t\tInput split bytes=864\n",
      "\t\tCombine input records=0\n",
      "\t\tCombine output records=0\n",
      "\t\tReduce input groups=2075\n",
      "\t\tReduce shuffle bytes=6225266\n",
      "\t\tReduce input records=427175\n",
      "\t\tReduce output records=427175\n",
      "\t\tSpilled Records=854350\n",
      "\t\tShuffled Maps =64\n",
      "\t\tFailed Shuffles=0\n",
      "\t\tMerged Map outputs=64\n",
      "\t\tGC time elapsed (ms)=2740\n",
      "\t\tCPU time spent (ms)=32190\n",
      "\t\tPhysical memory (bytes) snapshot=3623505920\n",
      "\t\tVirtual memory (bytes) snapshot=31700877312\n",
      "\t\tTotal committed heap usage (bytes)=2478833664\n",
      "\tShuffle Errors\n",
      "\t\tBAD_ID=0\n",
      "\t\tCONNECTION=0\n",
      "\t\tIO_ERROR=0\n",
      "\t\tWRONG_LENGTH=0\n",
      "\t\tWRONG_MAP=0\n",
      "\t\tWRONG_REDUCE=0\n",
      "\tFile Input Format Counters \n",
      "\t\tBytes Read=5370513\n",
      "\tFile Output Format Counters \n",
      "\t\tBytes Written=5370513\n",
      "19/02/13 22:34:43 INFO streaming.StreamJob: Output directory: assignment1_next_out\n",
      "cat: Unable to write to output stream.\n",
      "cat: Unable to write to output stream.\n"
     ]
    }
   ],
   "source": [
    "%%bash\n",
    "\n",
    "#OUT_DIR=\"assignment1_\"$(date +\"%s%6N\")\n",
    "OUT_DIR=\"assignment1\"\n",
    "OUT_DIR2=\"assignment1_next_out\"\n",
    "NUM_REDUCERS=8\n",
    "\n",
    "#hdfs dfs -rm -r -skipTrash ${OUT_DIR} ${OUT_DIR2} > /dev/null\n",
    "hdfs dfs -rm -r -skipTrash ${OUT_DIR2} > /dev/null\n",
    "\n",
    "# Code for your first job\n",
    "# yarn jar /opt/cloudera/parcels/CDH/lib/hadoop-mapreduce/hadoop-streaming.jar ...\n",
    "#yarn jar /opt/cloudera/parcels/CDH/lib/hadoop-mapreduce/hadoop-streaming.jar \\\n",
    "#    -D mapred.jab.name=\"Streaming wordCount\" \\\n",
    "#    -D mapreduce.job.reduces=${NUM_REDUCERS} \\\n",
    "#    -files mapper1.py,reducer1.py \\\n",
    "#    -mapper \"python mapper1.py\" \\\n",
    "#    -combiner \"python reducer1.py\" \\\n",
    "#    -reducer \"python reducer1.py\" \\\n",
    "#    -input /data/wiki/en_articles_part \\\n",
    "#    -output ${OUT_DIR} > /dev/null\n",
    "\n",
    "# Code for your second job\n",
    "# yarn jar /opt/cloudera/parcels/CDH/lib/hadoop-mapreduce/hadoop-streaming.jar ...\n",
    "yarn jar /opt/cloudera/parcels/CDH/lib/hadoop-mapreduce/hadoop-streaming.jar \\\n",
    "    -D mapred.jab.name=\"Sorter\" \\\n",
    "    -D mapreduce.job.reduces=${NUM_REDUCERS} \\\n",
    "    -D mapreduce.job.output.key.comparator.closs=org.apache.hadoop.mapreduce.lib.partition.KeyFieldBasedComparator \\\n",
    "    -D mapreduce.map.output.key.field.separator=\\t \\\n",
    "    -D mapreduce.partition.keycomparator.options=-k1,1nr \\\n",
    "    -files mapper_sorter.py,reducer_sorter.py \\\n",
    "    -mapper \"python mapper_sorter.py\" \\\n",
    "    -reducer \"python reducer_sorter.py\" \\\n",
    "    -input ${OUT_DIR} \\\n",
    "    -output ${OUT_DIR2} > /dev/null\n",
    "\n",
    "# Code for obtaining the results\n",
    "hdfs dfs -cat ${OUT_DIR}/part-00000 | sed -n '7p;8q'\n",
    "hdfs dfs -cat ${OUT_DIR2}/part-00000 | sed -n '7p;8q'\n",
    "#hdfs dfs -rm -r -skipTrash ${OUT_DIR}* > /dev/null"
   ]
  },
  {
   "cell_type": "code",
   "execution_count": 6,
   "metadata": {},
   "outputs": [
    {
     "name": "stdout",
     "output_type": "stream",
     "text": [
      "Found 9 items\n",
      "-rw-r--r--   1 jovyan supergroup          0 2019-02-13 22:28 assignment1_next_out/_SUCCESS\n",
      "-rw-r--r--   1 jovyan supergroup    3655191 2019-02-13 22:28 assignment1_next_out/part-00000\n",
      "-rw-r--r--   1 jovyan supergroup     673576 2019-02-13 22:28 assignment1_next_out/part-00001\n",
      "-rw-r--r--   1 jovyan supergroup     316779 2019-02-13 22:28 assignment1_next_out/part-00002\n",
      "-rw-r--r--   1 jovyan supergroup     213737 2019-02-13 22:28 assignment1_next_out/part-00003\n",
      "-rw-r--r--   1 jovyan supergroup     159104 2019-02-13 22:28 assignment1_next_out/part-00004\n",
      "-rw-r--r--   1 jovyan supergroup     130714 2019-02-13 22:28 assignment1_next_out/part-00005\n",
      "-rw-r--r--   1 jovyan supergroup     113558 2019-02-13 22:28 assignment1_next_out/part-00006\n",
      "-rw-r--r--   1 jovyan supergroup     107854 2019-02-13 22:28 assignment1_next_out/part-00007\n"
     ]
    }
   ],
   "source": [
    "%%bash\n",
    "\n",
    "hdfs dfs -ls assignment1_next_out/"
   ]
  },
  {
   "cell_type": "code",
   "execution_count": null,
   "metadata": {},
   "outputs": [],
   "source": [
    "%%bash\n",
    "\n",
    "hdfs dfs -rm -r assignment1_1550094289589996 assignment1_next_out wordcount_result_1550089431501773"
   ]
  },
  {
   "cell_type": "code",
   "execution_count": 35,
   "metadata": {},
   "outputs": [
    {
     "name": "stderr",
     "output_type": "stream",
     "text": [
      "cat: `word_count_result/part-00000': No such file or directory\n"
     ]
    }
   ],
   "source": [
    "%%bash\n",
    "\n",
    "hdfs dfs -cat word_count_result/part-00000 | tail -50"
   ]
  },
  {
   "cell_type": "code",
   "execution_count": 29,
   "metadata": {},
   "outputs": [
    {
     "name": "stderr",
     "output_type": "stream",
     "text": [
      "  File \"./mapper_sorter.py\", line 14\n",
      "    print \"%d\\t%s\" % (count, word)\n",
      "                 ^\n",
      "SyntaxError: invalid syntax\n",
      "cat: write error: Broken pipe\n"
     ]
    }
   ],
   "source": [
    "%%bash\n",
    "\n",
    "#hdfs dfs -get assignment1/part-00000\n",
    "\n",
    "cat part-00000 | python ./mapper_sorter.py #| sort | python ./reducer_sorter.py"
   ]
  },
  {
   "cell_type": "code",
   "execution_count": 37,
   "metadata": {},
   "outputs": [
    {
     "name": "stdout",
     "output_type": "stream",
     "text": [
      "Found 2 items\n",
      "drwxr-xr-x   - jovyan supergroup          0 2019-02-13 22:28 assignment1\n",
      "drwxr-xr-x   - jovyan supergroup          0 2019-02-13 22:34 assignment1_next_out\n"
     ]
    }
   ],
   "source": [
    "%%bash\n",
    "\n",
    "hdfs dfs -ls"
   ]
  },
  {
   "cell_type": "code",
   "execution_count": null,
   "metadata": {},
   "outputs": [],
   "source": []
  }
 ],
 "metadata": {
  "colab": {
   "collapsed_sections": [],
   "default_view": {},
   "name": "701_to_students.ipynb",
   "provenance": [],
   "version": "0.3.2",
   "views": {}
  },
  "kernelspec": {
   "display_name": "Python 3",
   "language": "python",
   "name": "python3"
  },
  "language_info": {
   "codemirror_mode": {
    "name": "ipython",
    "version": 3
   },
   "file_extension": ".py",
   "mimetype": "text/x-python",
   "name": "python",
   "nbconvert_exporter": "python",
   "pygments_lexer": "ipython3",
   "version": "3.6.7"
  }
 },
 "nbformat": 4,
 "nbformat_minor": 1
}
