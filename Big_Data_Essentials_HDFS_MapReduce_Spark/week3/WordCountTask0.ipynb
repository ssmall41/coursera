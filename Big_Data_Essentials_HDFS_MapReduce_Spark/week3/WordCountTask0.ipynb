{
 "cells": [
  {
   "cell_type": "code",
   "execution_count": 16,
   "metadata": {},
   "outputs": [
    {
     "name": "stdout",
     "output_type": "stream",
     "text": [
      "Overwriting mapper.py\n"
     ]
    }
   ],
   "source": [
    "%%writefile mapper.py\n",
    "\n",
    "import sys\n",
    "import re\n",
    "\n",
    "reload(sys)\n",
    "sys.setdefaultencoding('utf-8') # required to convert to unicode\n",
    "\n",
    "for line in sys.stdin:\n",
    "    try:\n",
    "        article_id, text = unicode(line.strip()).split('\\t', 1)\n",
    "    except ValueError as e:\n",
    "        continue\n",
    "    \n",
    "    # Remove non-ascii characters\n",
    "    text = ''.join(i for i in text if ord(i)<128)\n",
    "    \n",
    "    text = re.sub(\"^\\W+|\\W+$\", \"\", text, flags=re.UNICODE)\n",
    "    words = re.split(\"\\W*\\s+\\W*\", text, flags=re.UNICODE)\n",
    "    for word in words:\n",
    "        print >> sys.stderr, \"reporter:counter:Wiki stats,Total words,%d\" % 1\n",
    "        print \"%s\\t%d\" % (word.lower(), 1)"
   ]
  },
  {
   "cell_type": "code",
   "execution_count": 17,
   "metadata": {},
   "outputs": [
    {
     "name": "stdout",
     "output_type": "stream",
     "text": [
      "Overwriting reducer.py\n"
     ]
    }
   ],
   "source": [
    "%%writefile reducer.py\n",
    "\n",
    "import sys\n",
    "\n",
    "current_key = None\n",
    "word_sum = 0"
   ]
  },
  {
   "cell_type": "code",
   "execution_count": 18,
   "metadata": {},
   "outputs": [
    {
     "name": "stdout",
     "output_type": "stream",
     "text": [
      "Appending to reducer.py\n"
     ]
    }
   ],
   "source": [
    "%%writefile -a reducer.py\n",
    "\n",
    "for line in sys.stdin:\n",
    "    try:\n",
    "        key, count = line.strip().split('\\t', 1)\n",
    "        count = int(count)\n",
    "    except ValueError as e:\n",
    "        continue\n",
    "    if current_key != key:\n",
    "        if current_key:\n",
    "            print \"%s\\t%d\" % (current_key, word_sum)\n",
    "        word_sum = 0\n",
    "        current_key = key\n",
    "    word_sum += count\n",
    "\n",
    "if current_key:\n",
    "    print \"%s\\t%d\" % (current_key, word_sum)"
   ]
  },
  {
   "cell_type": "code",
   "execution_count": 19,
   "metadata": {},
   "outputs": [
    {
     "name": "stdout",
     "output_type": "stream",
     "text": [
      "Found 1 items\r\n",
      "drwxrwxrwx   - jovyan supergroup          0 2018-08-01 17:15 /data/wiki/en_articles_part\r\n"
     ]
    }
   ],
   "source": [
    "! hdfs dfs -ls /data/wiki"
   ]
  },
  {
   "cell_type": "code",
   "execution_count": 20,
   "metadata": {},
   "outputs": [
    {
     "name": "stdout",
     "output_type": "stream",
     "text": [
      "0%however\t1\n",
      "0&\\mathrm{if\t1\n",
      "0'x\t1\n",
      "0(8)320-1234\t1\n",
      "0)).(1\t2\n",
      "0,03\t1\n",
      "0,1,0\t1\n",
      "0,1,2,3,4,5,6,7,8,9\t1\n",
      "0,1,\\dots,n\t1\n",
      "0,5\t1\n"
     ]
    },
    {
     "name": "stderr",
     "output_type": "stream",
     "text": [
      "rm: `wordcount_result_1550411284107631': No such file or directory\n",
      "19/02/17 13:48:07 INFO client.RMProxy: Connecting to ResourceManager at /0.0.0.0:8032\n",
      "19/02/17 13:48:07 INFO client.RMProxy: Connecting to ResourceManager at /0.0.0.0:8032\n",
      "19/02/17 13:48:08 INFO mapred.FileInputFormat: Total input files to process : 1\n",
      "19/02/17 13:48:08 INFO mapreduce.JobSubmitter: number of splits:2\n",
      "19/02/17 13:48:08 INFO mapreduce.JobSubmitter: Submitting tokens for job: job_1550410596063_0003\n",
      "19/02/17 13:48:08 INFO impl.YarnClientImpl: Submitted application application_1550410596063_0003\n",
      "19/02/17 13:48:08 INFO mapreduce.Job: The url to track the job: http://08453e1f2c84:8088/proxy/application_1550410596063_0003/\n",
      "19/02/17 13:48:08 INFO mapreduce.Job: Running job: job_1550410596063_0003\n",
      "19/02/17 13:48:14 INFO mapreduce.Job: Job job_1550410596063_0003 running in uber mode : false\n",
      "19/02/17 13:48:14 INFO mapreduce.Job:  map 0% reduce 0%\n",
      "19/02/17 13:48:31 INFO mapreduce.Job:  map 22% reduce 0%\n",
      "19/02/17 13:48:37 INFO mapreduce.Job:  map 33% reduce 0%\n",
      "19/02/17 13:48:43 INFO mapreduce.Job:  map 43% reduce 0%\n",
      "19/02/17 13:48:49 INFO mapreduce.Job:  map 47% reduce 0%\n",
      "19/02/17 13:48:55 INFO mapreduce.Job:  map 58% reduce 0%\n",
      "19/02/17 13:49:01 INFO mapreduce.Job:  map 67% reduce 0%\n",
      "19/02/17 13:49:05 INFO mapreduce.Job:  map 100% reduce 0%\n",
      "19/02/17 13:49:12 INFO mapreduce.Job:  map 100% reduce 13%\n",
      "19/02/17 13:49:15 INFO mapreduce.Job:  map 100% reduce 25%\n",
      "19/02/17 13:49:17 INFO mapreduce.Job:  map 100% reduce 38%\n",
      "19/02/17 13:49:20 INFO mapreduce.Job:  map 100% reduce 50%\n",
      "19/02/17 13:49:21 INFO mapreduce.Job:  map 100% reduce 75%\n",
      "19/02/17 13:49:22 INFO mapreduce.Job:  map 100% reduce 100%\n",
      "19/02/17 13:49:23 INFO mapreduce.Job: Job job_1550410596063_0003 completed successfully\n",
      "19/02/17 13:49:23 INFO mapreduce.Job: Counters: 51\n",
      "\tFile System Counters\n",
      "\t\tFILE: Number of bytes read=17639297\n",
      "\t\tFILE: Number of bytes written=27767954\n",
      "\t\tFILE: Number of read operations=0\n",
      "\t\tFILE: Number of large read operations=0\n",
      "\t\tFILE: Number of write operations=0\n",
      "\t\tHDFS: Number of bytes read=76874501\n",
      "\t\tHDFS: Number of bytes written=5230657\n",
      "\t\tHDFS: Number of read operations=30\n",
      "\t\tHDFS: Number of large read operations=0\n",
      "\t\tHDFS: Number of write operations=16\n",
      "\tJob Counters \n",
      "\t\tKilled reduce tasks=1\n",
      "\t\tLaunched map tasks=2\n",
      "\t\tLaunched reduce tasks=8\n",
      "\t\tData-local map tasks=2\n",
      "\t\tTotal time spent by all maps in occupied slots (ms)=97439\n",
      "\t\tTotal time spent by all reduces in occupied slots (ms)=58749\n",
      "\t\tTotal time spent by all map tasks (ms)=97439\n",
      "\t\tTotal time spent by all reduce tasks (ms)=58749\n",
      "\t\tTotal vcore-milliseconds taken by all map tasks=97439\n",
      "\t\tTotal vcore-milliseconds taken by all reduce tasks=58749\n",
      "\t\tTotal megabyte-milliseconds taken by all map tasks=99777536\n",
      "\t\tTotal megabyte-milliseconds taken by all reduce tasks=60158976\n",
      "\tMap-Reduce Framework\n",
      "\t\tMap input records=4100\n",
      "\t\tMap output records=11914631\n",
      "\t\tMap output bytes=97529337\n",
      "\t\tMap output materialized bytes=8789400\n",
      "\t\tInput split bytes=228\n",
      "\t\tCombine input records=11914631\n",
      "\t\tCombine output records=635037\n",
      "\t\tReduce input groups=422326\n",
      "\t\tReduce shuffle bytes=8789400\n",
      "\t\tReduce input records=635037\n",
      "\t\tReduce output records=422326\n",
      "\t\tSpilled Records=1905111\n",
      "\t\tShuffled Maps =16\n",
      "\t\tFailed Shuffles=0\n",
      "\t\tMerged Map outputs=16\n",
      "\t\tGC time elapsed (ms)=2313\n",
      "\t\tCPU time spent (ms)=171200\n",
      "\t\tPhysical memory (bytes) snapshot=1990664192\n",
      "\t\tVirtual memory (bytes) snapshot=19843940352\n",
      "\t\tTotal committed heap usage (bytes)=1320157184\n",
      "\tShuffle Errors\n",
      "\t\tBAD_ID=0\n",
      "\t\tCONNECTION=0\n",
      "\t\tIO_ERROR=0\n",
      "\t\tWRONG_LENGTH=0\n",
      "\t\tWRONG_MAP=0\n",
      "\t\tWRONG_REDUCE=0\n",
      "\tWiki stats\n",
      "\t\tTotal words=11914631\n",
      "\tFile Input Format Counters \n",
      "\t\tBytes Read=76874273\n",
      "\tFile Output Format Counters \n",
      "\t\tBytes Written=5230657\n",
      "19/02/17 13:49:23 INFO streaming.StreamJob: Output directory: wordcount_result_1550411284107631\n",
      "cat: Unable to write to output stream.\n"
     ]
    }
   ],
   "source": [
    "%%bash\n",
    "\n",
    "OUT_DIR=\"wordcount_result_\"$(date +\"%s%6N\")\n",
    "NUM_REDUCERS=8\n",
    "\n",
    "hdfs dfs -rm -r -skipTrash ${OUT_DIR} > /dev/null\n",
    "\n",
    "yarn jar /opt/cloudera/parcels/CDH/lib/hadoop-mapreduce/hadoop-streaming.jar \\\n",
    "    -D mapred.jab.name=\"Streaming wordCount\" \\\n",
    "    -D mapreduce.job.reduces=${NUM_REDUCERS} \\\n",
    "    -files mapper.py,reducer.py \\\n",
    "    -mapper \"python mapper.py\" \\\n",
    "    -combiner \"python reducer.py\" \\\n",
    "    -reducer \"python reducer.py\" \\\n",
    "    -input /data/wiki/en_articles_part \\\n",
    "    -output ${OUT_DIR} > /dev/null\n",
    "\n",
    "hdfs dfs -cat ${OUT_DIR}/part-00000 | head"
   ]
  },
  {
   "cell_type": "code",
   "execution_count": 21,
   "metadata": {},
   "outputs": [
    {
     "name": "stdout",
     "output_type": "stream",
     "text": [
      "Found 9 items\n",
      "-rw-r--r--   1 jovyan supergroup          0 2019-02-17 13:49 wordcount_result_1550411284107631/_SUCCESS\n",
      "-rw-r--r--   1 jovyan supergroup     654281 2019-02-17 13:49 wordcount_result_1550411284107631/part-00000\n",
      "-rw-r--r--   1 jovyan supergroup     659230 2019-02-17 13:49 wordcount_result_1550411284107631/part-00001\n",
      "-rw-r--r--   1 jovyan supergroup     646947 2019-02-17 13:49 wordcount_result_1550411284107631/part-00002\n",
      "-rw-r--r--   1 jovyan supergroup     655413 2019-02-17 13:49 wordcount_result_1550411284107631/part-00003\n",
      "-rw-r--r--   1 jovyan supergroup     650224 2019-02-17 13:49 wordcount_result_1550411284107631/part-00004\n",
      "-rw-r--r--   1 jovyan supergroup     658647 2019-02-17 13:49 wordcount_result_1550411284107631/part-00005\n",
      "-rw-r--r--   1 jovyan supergroup     649555 2019-02-17 13:49 wordcount_result_1550411284107631/part-00006\n",
      "-rw-r--r--   1 jovyan supergroup     656360 2019-02-17 13:49 wordcount_result_1550411284107631/part-00007\n"
     ]
    }
   ],
   "source": [
    "%%bash\n",
    "\n",
    "hdfs dfs -ls wordcount_result_1550411284107631/"
   ]
  },
  {
   "cell_type": "code",
   "execution_count": 22,
   "metadata": {},
   "outputs": [
    {
     "name": "stdout",
     "output_type": "stream",
     "text": [
      "\n",
      "zodiacal\t8\n",
      "zoeonaol\t1\n",
      "zoetrope-type\t1\n",
      "zofia\t2\n",
      "zogby\t3\n",
      "zograph\t1\n",
      "zoheleth\t1\n",
      "zoku\t1\n",
      "zollstock\t1\n",
      "zoltn\t13\n",
      "zombees\t1\n",
      "zon\t5\n",
      "zone.darwin\t1\n",
      "zone.the\t2\n",
      "zongo\t8\n",
      "zongren's\t1\n",
      "zonguldak\t4\n",
      "zongyao\t1\n",
      "zongyuan\t1\n",
      "zonker\t4\n",
      "zoogeographic\t1\n",
      "zoological\t40\n",
      "zoom-kom\t1\n",
      "zoomlion\t1\n",
      "zoomusicology\t1\n",
      "zooppa\t1\n",
      "zootomy\t1\n",
      "zoques\t4\n",
      "zoram\t3\n",
      "zorapterans\t1\n",
      "zorched\t1\n",
      "zoroastrianism\t22\n",
      "zoroastrians\t9\n",
      "zoromes\t1\n",
      "zose\t1\n",
      "zosima\t1\n",
      "zotys\t1\n",
      "zoubin\t1\n",
      "zouch's\t1\n",
      "zpo\t2\n",
      "zpu-1\\2\\4\t1\n",
      "zra\t1\n",
      "zrmanja\t2\n",
      "zry\t2\n",
      "zseries\t1\n",
      "zsigmond\t3\n",
      "zstr_count\t1\n",
      "zu-23\\2\t1\n",
      "zuabu\t1\n",
      "zuazoelections\t1\n",
      "zucchelli\t1\n",
      "zucchini\t5\n",
      "zuera\t1\n",
      "zuideramstel\t1\n",
      "zuidoost\t2\n",
      "zuiverloon\t1\n",
      "zulaketa\t1\n",
      "zuleima\t1\n",
      "zulia\t1\n",
      "zulu-english\t1\n",
      "zululand\t1\n",
      "zuma\t7\n",
      "zumaya\t2\n",
      "zumthor\t1\n",
      "zunino\t5\n",
      "zunz\t3\n",
      "zupanja\t1\n",
      "zurck).in\t1\n",
      "zurich\t67\n",
      "zurita\t1\n",
      "zushi\t1\n",
      "zuylen\t2\n",
      "zvcr-fm\t1\n",
      "zverki\t2\n",
      "zvetana\t2\n",
      "zvornik\t1\n",
      "zwarte\t1\n",
      "zweittexten\t1\n",
      "zwerin\t2\n",
      "zwikker\t1\n",
      "zwischenkrper\t1\n",
      "zwitter\t1\n",
      "zwitterion\t3\n",
      "zwolle's\t1\n",
      "zwolsche\t1\n",
      "zworykin\t2\n",
      "zx81\t2\n",
      "zxb-25e\t1\n",
      "zygosicyos\t2\n",
      "zyklon\t8\n",
      "zymodemes\t1\n",
      "zytrax.com\t1\n",
      "zyuden\t1\n",
      "zyx\t2\n",
      "z}{(1\t1\n",
      "z}}\\text\t5\n",
      "z}~\\mathbf{e}_z\t2\n"
     ]
    }
   ],
   "source": [
    "%%bash\n",
    "\n",
    "hdfs dfs -tail wordcount_result_1550411284107631/part-00000"
   ]
  },
  {
   "cell_type": "code",
   "execution_count": null,
   "metadata": {},
   "outputs": [],
   "source": []
  }
 ],
 "metadata": {
  "kernelspec": {
   "display_name": "Python 2",
   "language": "python",
   "name": "python2"
  },
  "language_info": {
   "codemirror_mode": {
    "name": "ipython",
    "version": 2
   },
   "file_extension": ".py",
   "mimetype": "text/x-python",
   "name": "python",
   "nbconvert_exporter": "python",
   "pygments_lexer": "ipython2",
   "version": "2.7.12"
  }
 },
 "nbformat": 4,
 "nbformat_minor": 2
}
