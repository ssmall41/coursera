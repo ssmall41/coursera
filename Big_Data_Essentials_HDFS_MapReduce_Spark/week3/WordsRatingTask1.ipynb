{
 "cells": [
  {
   "cell_type": "markdown",
   "metadata": {
    "colab_type": "text",
    "id": "Ebk-YqgqEOw1"
   },
   "source": [
    "# Hadoop Streaming assignment 1: Words Rating"
   ]
  },
  {
   "cell_type": "markdown",
   "metadata": {
    "colab_type": "text",
    "id": "XDLjl7hGEOw2"
   },
   "source": [
    "The purpose of this task is to create your own WordCount program for Wikipedia dump processing and learn basic concepts of the MapReduce.\n",
    "\n",
    "In this task you have to find the 7th word by popularity and its quantity in the reverse order (most popular first) in Wikipedia data (`/data/wiki/en_articles_part`).\n",
    "\n",
    "There are several points for this task:\n",
    "\n",
    "1) As an output, you have to get the 7th word and its quantity separated by a tab character.\n",
    "\n",
    "2) You must use the second job to obtain a totally ordered result.\n",
    "\n",
    "3) Do not forget to redirect all trash and output to /dev/null.\n",
    "\n",
    "Here you can find the draft of the task main steps. You can use other methods for solution obtaining."
   ]
  },
  {
   "cell_type": "markdown",
   "metadata": {
    "colab_type": "text",
    "id": "lIUikVIDEOw2"
   },
   "source": [
    "## Step 1. Create mapper and reducer.\n",
    "\n",
    "<b>Hint:</b>  Demo task contains almost all the necessary pieces to complete this assignment. You may use the demo to implement the first MapReduce Job."
   ]
  },
  {
   "cell_type": "code",
   "execution_count": 27,
   "metadata": {
    "colab": {
     "autoexec": {
      "startup": false,
      "wait_interval": 0
     }
    },
    "colab_type": "code",
    "id": "A7T5mxDwEOw4"
   },
   "outputs": [
    {
     "name": "stdout",
     "output_type": "stream",
     "text": [
      "Overwriting mapper1.py\n"
     ]
    }
   ],
   "source": [
    "%%writefile mapper1.py\n",
    "\n",
    "import sys\n",
    "import re\n",
    "\n",
    "reload(sys)\n",
    "sys.setdefaultencoding('utf-8') # required to convert to unicode\n",
    "\n",
    "for line in sys.stdin:\n",
    "    try:\n",
    "        article_id, text = unicode(line.strip()).split('\\t', 1)\n",
    "    except ValueError as e:\n",
    "        continue\n",
    "\n",
    "    words = re.split(\"\\W*\\s+\\W*\", text, flags=re.UNICODE)\n",
    "    for word in words:\n",
    "        print >> sys.stderr, \"reporter:counter:Wiki stats,Total words,%d\" % 1\n",
    "        print \"%s\\t%d\" % (word.lower(), 1)"
   ]
  },
  {
   "cell_type": "code",
   "execution_count": 28,
   "metadata": {
    "colab": {
     "autoexec": {
      "startup": false,
      "wait_interval": 0
     }
    },
    "colab_type": "code",
    "id": "oE8KFKqpEOw5"
   },
   "outputs": [
    {
     "name": "stdout",
     "output_type": "stream",
     "text": [
      "Overwriting reducer1.py\n"
     ]
    }
   ],
   "source": [
    "%%writefile reducer1.py\n",
    "\n",
    "import sys\n",
    "\n",
    "current_key = None\n",
    "word_sum = 0\n",
    "\n",
    "for line in sys.stdin:\n",
    "    try:\n",
    "        key, count = line.strip().split('\\t', 1)\n",
    "        count = int(count)\n",
    "    except ValueError as e:\n",
    "        continue\n",
    "    if current_key != key:\n",
    "        if current_key:\n",
    "            print \"%s\\t%d\" % (current_key, word_sum)\n",
    "        word_sum = 0\n",
    "        current_key = key\n",
    "    word_sum += count\n",
    "\n",
    "if current_key:\n",
    "    print \"%s\\t%d\" % (current_key, word_sum)"
   ]
  },
  {
   "cell_type": "code",
   "execution_count": 29,
   "metadata": {
    "colab": {
     "autoexec": {
      "startup": false,
      "wait_interval": 0
     }
    },
    "colab_type": "code",
    "id": "LJtc3_u0uXSz"
   },
   "outputs": [],
   "source": [
    "# You can use this cell for other experiments: for example, for combiner."
   ]
  },
  {
   "cell_type": "markdown",
   "metadata": {
    "colab_type": "text",
    "id": "KYZpcwY9EOw6"
   },
   "source": [
    "## Step 2. Create sort job.\n",
    "\n",
    "<b>Hint:</b> You may use MapReduce comparator to solve this step. Make sure that the keys are sorted in ascending order."
   ]
  },
  {
   "cell_type": "code",
   "execution_count": 30,
   "metadata": {
    "colab": {
     "autoexec": {
      "startup": false,
      "wait_interval": 0
     }
    },
    "colab_type": "code",
    "id": "g-NMzQ79EOw7"
   },
   "outputs": [
    {
     "name": "stdout",
     "output_type": "stream",
     "text": [
      "Overwriting mapper_sorter.py\n"
     ]
    }
   ],
   "source": [
    "%%writefile mapper_sorter.py\n",
    "# Your code for sort job here. Don't forget to use magic writefile\n",
    "\n",
    "import sys\n",
    "\n",
    "reload(sys)\n",
    "sys.setdefaultencoding('utf-8') # required to convert to unicode\n",
    "\n",
    "for line in sys.stdin:\n",
    "    try:\n",
    "        word, count = line.strip().split('\\t', 1)\n",
    "        count = int(count)\n",
    "    except ValueError as e:\n",
    "        continue\n",
    "    print \"%d\\t%s\" % (count, word)"
   ]
  },
  {
   "cell_type": "code",
   "execution_count": 31,
   "metadata": {
    "colab": {
     "autoexec": {
      "startup": false,
      "wait_interval": 0
     }
    },
    "colab_type": "code",
    "id": "qs6SKs7wO4be"
   },
   "outputs": [
    {
     "name": "stdout",
     "output_type": "stream",
     "text": [
      "Overwriting reducer_sorter.py\n"
     ]
    }
   ],
   "source": [
    "%%writefile reducer_sorter.py\n",
    "\n",
    "import sys\n",
    "\n",
    "for line in sys.stdin:\n",
    "    try:\n",
    "        count, key = line.strip().split('\\t', 1)\n",
    "        count = int(count)\n",
    "    except ValueError as e:\n",
    "        continue\n",
    "    print \"%s\\t%d\" % (key, count)"
   ]
  },
  {
   "cell_type": "markdown",
   "metadata": {
    "colab_type": "text",
    "id": "4OBE81GZEOw8"
   },
   "source": [
    "## Step 3. Bash commands\n",
    "\n",
    "<b> Hint: </b> For printing the exact row you may use basic UNIX commands. For instance, sed/head/tail/... (if you know other commands, you can use them).\n",
    "\n",
    "To run both jobs, you must use two consecutive yarn-commands. Remember that the input for the second job is the ouput for the first job."
   ]
  },
  {
   "cell_type": "code",
   "execution_count": 60,
   "metadata": {
    "colab": {
     "autoexec": {
      "startup": false,
      "wait_interval": 0
     }
    },
    "colab_type": "code",
    "id": "1q9NczdIEOw9"
   },
   "outputs": [
    {
     "name": "stdout",
     "output_type": "stream",
     "text": [
      "0,1,0\t1\n",
      "is\t126420\n"
     ]
    },
    {
     "name": "stderr",
     "output_type": "stream",
     "text": [
      "rm: `assignment1_1550414126982088': No such file or directory\n",
      "rm: `assignment1_sorter_1550414126983021': No such file or directory\n",
      "19/02/17 14:35:29 INFO client.RMProxy: Connecting to ResourceManager at /0.0.0.0:8032\n",
      "19/02/17 14:35:29 INFO client.RMProxy: Connecting to ResourceManager at /0.0.0.0:8032\n",
      "19/02/17 14:35:30 INFO mapred.FileInputFormat: Total input files to process : 1\n",
      "19/02/17 14:35:30 INFO mapreduce.JobSubmitter: number of splits:2\n",
      "19/02/17 14:35:30 INFO mapreduce.JobSubmitter: Submitting tokens for job: job_1550410596063_0015\n",
      "19/02/17 14:35:30 INFO impl.YarnClientImpl: Submitted application application_1550410596063_0015\n",
      "19/02/17 14:35:30 INFO mapreduce.Job: The url to track the job: http://08453e1f2c84:8088/proxy/application_1550410596063_0015/\n",
      "19/02/17 14:35:30 INFO mapreduce.Job: Running job: job_1550410596063_0015\n",
      "19/02/17 14:35:36 INFO mapreduce.Job: Job job_1550410596063_0015 running in uber mode : false\n",
      "19/02/17 14:35:36 INFO mapreduce.Job:  map 0% reduce 0%\n",
      "19/02/17 14:35:52 INFO mapreduce.Job:  map 30% reduce 0%\n",
      "19/02/17 14:35:58 INFO mapreduce.Job:  map 42% reduce 0%\n",
      "19/02/17 14:36:03 INFO mapreduce.Job:  map 44% reduce 0%\n",
      "19/02/17 14:36:04 INFO mapreduce.Job:  map 47% reduce 0%\n",
      "19/02/17 14:36:09 INFO mapreduce.Job:  map 62% reduce 0%\n",
      "19/02/17 14:36:15 INFO mapreduce.Job:  map 67% reduce 0%\n",
      "19/02/17 14:36:17 INFO mapreduce.Job:  map 100% reduce 0%\n",
      "19/02/17 14:36:22 INFO mapreduce.Job:  map 100% reduce 13%\n",
      "19/02/17 14:36:24 INFO mapreduce.Job:  map 100% reduce 25%\n",
      "19/02/17 14:36:26 INFO mapreduce.Job:  map 100% reduce 38%\n",
      "19/02/17 14:36:28 INFO mapreduce.Job:  map 100% reduce 50%\n",
      "19/02/17 14:36:29 INFO mapreduce.Job:  map 100% reduce 63%\n",
      "19/02/17 14:36:30 INFO mapreduce.Job:  map 100% reduce 75%\n",
      "19/02/17 14:36:31 INFO mapreduce.Job:  map 100% reduce 100%\n",
      "19/02/17 14:36:32 INFO mapreduce.Job: Job job_1550410596063_0015 completed successfully\n",
      "19/02/17 14:36:32 INFO mapreduce.Job: Counters: 51\n",
      "\tFile System Counters\n",
      "\t\tFILE: Number of bytes read=17954826\n",
      "\t\tFILE: Number of bytes written=28258113\n",
      "\t\tFILE: Number of read operations=0\n",
      "\t\tFILE: Number of large read operations=0\n",
      "\t\tFILE: Number of write operations=0\n",
      "\t\tHDFS: Number of bytes read=76874501\n",
      "\t\tHDFS: Number of bytes written=5370513\n",
      "\t\tHDFS: Number of read operations=30\n",
      "\t\tHDFS: Number of large read operations=0\n",
      "\t\tHDFS: Number of write operations=16\n",
      "\tJob Counters \n",
      "\t\tKilled reduce tasks=1\n",
      "\t\tLaunched map tasks=2\n",
      "\t\tLaunched reduce tasks=8\n",
      "\t\tData-local map tasks=2\n",
      "\t\tTotal time spent by all maps in occupied slots (ms)=77813\n",
      "\t\tTotal time spent by all reduces in occupied slots (ms)=39396\n",
      "\t\tTotal time spent by all map tasks (ms)=77813\n",
      "\t\tTotal time spent by all reduce tasks (ms)=39396\n",
      "\t\tTotal vcore-milliseconds taken by all map tasks=77813\n",
      "\t\tTotal vcore-milliseconds taken by all reduce tasks=39396\n",
      "\t\tTotal megabyte-milliseconds taken by all map tasks=79680512\n",
      "\t\tTotal megabyte-milliseconds taken by all reduce tasks=40341504\n",
      "\tMap-Reduce Framework\n",
      "\t\tMap input records=4100\n",
      "\t\tMap output records=11937375\n",
      "\t\tMap output bytes=97842436\n",
      "\t\tMap output materialized bytes=8952763\n",
      "\t\tInput split bytes=228\n",
      "\t\tCombine input records=11937375\n",
      "\t\tCombine output records=640011\n",
      "\t\tReduce input groups=427175\n",
      "\t\tReduce shuffle bytes=8952763\n",
      "\t\tReduce input records=640011\n",
      "\t\tReduce output records=427175\n",
      "\t\tSpilled Records=1920033\n",
      "\t\tShuffled Maps =16\n",
      "\t\tFailed Shuffles=0\n",
      "\t\tMerged Map outputs=16\n",
      "\t\tGC time elapsed (ms)=1746\n",
      "\t\tCPU time spent (ms)=156720\n",
      "\t\tPhysical memory (bytes) snapshot=2044170240\n",
      "\t\tVirtual memory (bytes) snapshot=19854401536\n",
      "\t\tTotal committed heap usage (bytes)=1332740096\n",
      "\tShuffle Errors\n",
      "\t\tBAD_ID=0\n",
      "\t\tCONNECTION=0\n",
      "\t\tIO_ERROR=0\n",
      "\t\tWRONG_LENGTH=0\n",
      "\t\tWRONG_MAP=0\n",
      "\t\tWRONG_REDUCE=0\n",
      "\tWiki stats\n",
      "\t\tTotal words=11937375\n",
      "\tFile Input Format Counters \n",
      "\t\tBytes Read=76874273\n",
      "\tFile Output Format Counters \n",
      "\t\tBytes Written=5370513\n",
      "19/02/17 14:36:32 INFO streaming.StreamJob: Output directory: assignment1_1550414126982088\n",
      "19/02/17 14:36:33 INFO client.RMProxy: Connecting to ResourceManager at /0.0.0.0:8032\n",
      "19/02/17 14:36:33 INFO client.RMProxy: Connecting to ResourceManager at /0.0.0.0:8032\n",
      "19/02/17 14:36:34 INFO mapred.FileInputFormat: Total input files to process : 8\n",
      "19/02/17 14:36:34 INFO mapreduce.JobSubmitter: number of splits:8\n",
      "19/02/17 14:36:34 INFO mapreduce.JobSubmitter: Submitting tokens for job: job_1550410596063_0016\n",
      "19/02/17 14:36:34 INFO impl.YarnClientImpl: Submitted application application_1550410596063_0016\n",
      "19/02/17 14:36:34 INFO mapreduce.Job: The url to track the job: http://08453e1f2c84:8088/proxy/application_1550410596063_0016/\n",
      "19/02/17 14:36:34 INFO mapreduce.Job: Running job: job_1550410596063_0016\n",
      "19/02/17 14:36:42 INFO mapreduce.Job: Job job_1550410596063_0016 running in uber mode : false\n",
      "19/02/17 14:36:42 INFO mapreduce.Job:  map 0% reduce 0%\n",
      "19/02/17 14:36:52 INFO mapreduce.Job:  map 50% reduce 0%\n",
      "19/02/17 14:36:53 INFO mapreduce.Job:  map 75% reduce 0%\n",
      "19/02/17 14:36:57 INFO mapreduce.Job:  map 100% reduce 0%\n",
      "19/02/17 14:36:59 INFO mapreduce.Job:  map 100% reduce 100%\n",
      "19/02/17 14:36:59 INFO mapreduce.Job: Job job_1550410596063_0016 completed successfully\n",
      "19/02/17 14:36:59 INFO mapreduce.Job: Counters: 49\n",
      "\tFile System Counters\n",
      "\t\tFILE: Number of bytes read=6224888\n",
      "\t\tFILE: Number of bytes written=13712094\n",
      "\t\tFILE: Number of read operations=0\n",
      "\t\tFILE: Number of large read operations=0\n",
      "\t\tFILE: Number of write operations=0\n",
      "\t\tHDFS: Number of bytes read=5371513\n",
      "\t\tHDFS: Number of bytes written=5370513\n",
      "\t\tHDFS: Number of read operations=27\n",
      "\t\tHDFS: Number of large read operations=0\n",
      "\t\tHDFS: Number of write operations=2\n",
      "\tJob Counters \n",
      "\t\tLaunched map tasks=8\n",
      "\t\tLaunched reduce tasks=1\n",
      "\t\tData-local map tasks=8\n",
      "\t\tTotal time spent by all maps in occupied slots (ms)=53618\n",
      "\t\tTotal time spent by all reduces in occupied slots (ms)=4181\n",
      "\t\tTotal time spent by all map tasks (ms)=53618\n",
      "\t\tTotal time spent by all reduce tasks (ms)=4181\n",
      "\t\tTotal vcore-milliseconds taken by all map tasks=53618\n",
      "\t\tTotal vcore-milliseconds taken by all reduce tasks=4181\n",
      "\t\tTotal megabyte-milliseconds taken by all map tasks=54904832\n",
      "\t\tTotal megabyte-milliseconds taken by all reduce tasks=4281344\n",
      "\tMap-Reduce Framework\n",
      "\t\tMap input records=427175\n",
      "\t\tMap output records=427175\n",
      "\t\tMap output bytes=5370522\n",
      "\t\tMap output materialized bytes=6224930\n",
      "\t\tInput split bytes=1000\n",
      "\t\tCombine input records=0\n",
      "\t\tCombine output records=0\n",
      "\t\tReduce input groups=2075\n",
      "\t\tReduce shuffle bytes=6224930\n",
      "\t\tReduce input records=427175\n",
      "\t\tReduce output records=427175\n",
      "\t\tSpilled Records=854350\n",
      "\t\tShuffled Maps =8\n",
      "\t\tFailed Shuffles=0\n",
      "\t\tMerged Map outputs=8\n",
      "\t\tGC time elapsed (ms)=1640\n",
      "\t\tCPU time spent (ms)=18570\n",
      "\t\tPhysical memory (bytes) snapshot=2411163648\n",
      "\t\tVirtual memory (bytes) snapshot=17813147648\n",
      "\t\tTotal committed heap usage (bytes)=1738014720\n",
      "\tShuffle Errors\n",
      "\t\tBAD_ID=0\n",
      "\t\tCONNECTION=0\n",
      "\t\tIO_ERROR=0\n",
      "\t\tWRONG_LENGTH=0\n",
      "\t\tWRONG_MAP=0\n",
      "\t\tWRONG_REDUCE=0\n",
      "\tFile Input Format Counters \n",
      "\t\tBytes Read=5370513\n",
      "\tFile Output Format Counters \n",
      "\t\tBytes Written=5370513\n",
      "19/02/17 14:36:59 INFO streaming.StreamJob: Output directory: assignment1_sorter_1550414126983021\n",
      "cat: Unable to write to output stream.\n",
      "cat: Unable to write to output stream.\n"
     ]
    }
   ],
   "source": [
    "%%bash\n",
    "\n",
    "OUT_DIR=\"assignment1_\"$(date +\"%s%6N\")\n",
    "OUT_DIR2=\"assignment1_sorter_\"$(date +\"%s%6N\")\n",
    "#OUT_DIR=\"assignment1\"\n",
    "#OUT_DIR2=\"assignment1_next_out\"\n",
    "NUM_REDUCERS=8\n",
    "\n",
    "hdfs dfs -rm -r -skipTrash ${OUT_DIR} ${OUT_DIR2} > /dev/null\n",
    "#hdfs dfs -rm -r -skipTrash ${OUT_DIR2} > /dev/null\n",
    "\n",
    "# Code for your first job\n",
    "# yarn jar /opt/cloudera/parcels/CDH/lib/hadoop-mapreduce/hadoop-streaming.jar ...\n",
    "yarn jar /opt/cloudera/parcels/CDH/lib/hadoop-mapreduce/hadoop-streaming.jar \\\n",
    "    -D mapred.jab.name=\"Streaming wordCount\" \\\n",
    "    -D mapreduce.job.reduces=${NUM_REDUCERS} \\\n",
    "    -files mapper1.py,reducer1.py \\\n",
    "    -mapper \"python mapper1.py\" \\\n",
    "    -combiner \"python reducer1.py\" \\\n",
    "    -reducer \"python reducer1.py\" \\\n",
    "    -input /data/wiki/en_articles_part \\\n",
    "    -output ${OUT_DIR} > /dev/null\n",
    "\n",
    "# Code for your second job\n",
    "# yarn jar /opt/cloudera/parcels/CDH/lib/hadoop-mapreduce/hadoop-streaming.jar ...\n",
    "yarn jar /opt/cloudera/parcels/CDH/lib/hadoop-mapreduce/hadoop-streaming.jar \\\n",
    "    -D mapred.jab.name=\"With Sorter\" \\\n",
    "    -D mapreduce.job.reduces=1 \\\n",
    "    -D mapreduce.job.output.key.comparator.class=org.apache.hadoop.mapreduce.lib.partition.KeyFieldBasedComparator \\\n",
    "    -D mapreduce.map.output.key.field.separator=\\t \\\n",
    "    -D mapreduce.partition.keycomparator.options=-k1,1nr \\\n",
    "    -files mapper_sorter.py,reducer_sorter.py \\\n",
    "    -mapper \"python mapper_sorter.py\" \\\n",
    "    -reducer \"python reducer_sorter.py\" \\\n",
    "    -input ${OUT_DIR} \\\n",
    "    -output ${OUT_DIR2} > /dev/null\n",
    "\n",
    "# Code for obtaining the results\n",
    "hdfs dfs -cat ${OUT_DIR}/part-00000 | sed -n '7p;8q'\n",
    "hdfs dfs -cat ${OUT_DIR2}/part-00000 | sed -n '7p;8q'\n",
    "#hdfs dfs -rm -r -skipTrash ${OUT_DIR}* > /dev/null"
   ]
  },
  {
   "cell_type": "markdown",
   "metadata": {},
   "source": [
    "A few outputs, just to check up on things."
   ]
  },
  {
   "cell_type": "code",
   "execution_count": 57,
   "metadata": {},
   "outputs": [
    {
     "name": "stdout",
     "output_type": "stream",
     "text": [
      "Found 9 items\n",
      "-rw-r--r--   1 jovyan supergroup          0 2019-02-17 14:28 assignment1/_SUCCESS\n",
      "-rw-r--r--   1 jovyan supergroup     670229 2019-02-17 14:28 assignment1/part-00000\n",
      "-rw-r--r--   1 jovyan supergroup     675659 2019-02-17 14:28 assignment1/part-00001\n",
      "-rw-r--r--   1 jovyan supergroup     664543 2019-02-17 14:28 assignment1/part-00002\n",
      "-rw-r--r--   1 jovyan supergroup     673944 2019-02-17 14:28 assignment1/part-00003\n",
      "-rw-r--r--   1 jovyan supergroup     665191 2019-02-17 14:28 assignment1/part-00004\n",
      "-rw-r--r--   1 jovyan supergroup     679162 2019-02-17 14:28 assignment1/part-00005\n",
      "-rw-r--r--   1 jovyan supergroup     668021 2019-02-17 14:28 assignment1/part-00006\n",
      "-rw-r--r--   1 jovyan supergroup     673764 2019-02-17 14:28 assignment1/part-00007\n",
      "Found 2 items\n",
      "-rw-r--r--   1 jovyan supergroup          0 2019-02-17 14:29 assignment1_next_out/_SUCCESS\n",
      "-rw-r--r--   1 jovyan supergroup    5370513 2019-02-17 14:29 assignment1_next_out/part-00000\n"
     ]
    }
   ],
   "source": [
    "%%bash\n",
    "\n",
    "hdfs dfs -ls assignment1/\n",
    "hdfs dfs -ls assignment1_next_out/"
   ]
  },
  {
   "cell_type": "code",
   "execution_count": 58,
   "metadata": {},
   "outputs": [
    {
     "name": "stdout",
     "output_type": "stream",
     "text": [
      "the\t822164\n",
      "of\t447464\n",
      "and\t342715\n",
      "in\t292354\n",
      "to\t241467\n",
      "a\t236225\n",
      "is\t126420\n",
      "as\t103301\n",
      "for\t91245\n",
      "was\t90336\n"
     ]
    },
    {
     "name": "stderr",
     "output_type": "stream",
     "text": [
      "cat: Unable to write to output stream.\n"
     ]
    }
   ],
   "source": [
    "%%bash\n",
    "\n",
    "hdfs dfs -cat assignment1_next_out/part-00000 | head -10"
   ]
  },
  {
   "cell_type": "code",
   "execution_count": 46,
   "metadata": {},
   "outputs": [
    {
     "name": "stdout",
     "output_type": "stream",
     "text": [
      "...baby\t1\n",
      "0&\\mbox\t1\n",
      "0,0\t16\n",
      "0,1,3\t1\n",
      "0,17\t1\n",
      "0,1\\}^{m\t2\n",
      "0,1\\}^{n}\\times\t1\n",
      "0,20\t1\n",
      "0,8\t2\n",
      "0,\\tfrac{1}{2}\\pi\t1\n"
     ]
    },
    {
     "name": "stderr",
     "output_type": "stream",
     "text": [
      "cat: Unable to write to output stream.\n"
     ]
    }
   ],
   "source": [
    "%%bash\n",
    "\n",
    "hdfs dfs -cat assignment1/part-00003 | head -10"
   ]
  },
  {
   "cell_type": "code",
   "execution_count": null,
   "metadata": {},
   "outputs": [],
   "source": []
  },
  {
   "cell_type": "code",
   "execution_count": null,
   "metadata": {},
   "outputs": [],
   "source": []
  }
 ],
 "metadata": {
  "colab": {
   "collapsed_sections": [],
   "default_view": {},
   "name": "701_to_students.ipynb",
   "provenance": [],
   "version": "0.3.2",
   "views": {}
  },
  "kernelspec": {
   "display_name": "Python 2",
   "language": "python",
   "name": "python2"
  },
  "language_info": {
   "codemirror_mode": {
    "name": "ipython",
    "version": 2
   },
   "file_extension": ".py",
   "mimetype": "text/x-python",
   "name": "python",
   "nbconvert_exporter": "python",
   "pygments_lexer": "ipython2",
   "version": "2.7.12"
  }
 },
 "nbformat": 4,
 "nbformat_minor": 1
}
