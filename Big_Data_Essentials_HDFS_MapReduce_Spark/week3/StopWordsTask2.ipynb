{
 "cells": [
  {
   "cell_type": "markdown",
   "metadata": {
    "colab_type": "text",
    "id": "Xsd0oermS80K"
   },
   "source": [
    "# Hadoop Streaming assignment 2: Stop Words"
   ]
  },
  {
   "cell_type": "markdown",
   "metadata": {
    "colab_type": "text",
    "id": "V_0wfvKjS80L"
   },
   "source": [
    "The purpose of this task is to improve the previous \"Word rating\" program. You have to calculate how many stop words are there in the input dataset. Stop words list is in `/datasets/stop_words_en.txt` file. \n",
    "\n",
    "Use Hadoop counters to compute the number of stop words and total words in the dataset. The result is the percentage of stop words in the entire dataset (without percent symbol).\n",
    "\n",
    "There are several points for this task:\n",
    "\n",
    "1) As an output, you have to get the percentage of stop words in the entire dataset without percent symbol (correct answer on sample dataset is `41.603`).\n",
    "\n",
    "2) As you can see in the Hadoop Streaming userguide \"you will need to use `-files` option to tell the framework to pack your executable files as a part of a job submission.\"\n",
    "\n",
    "3) Do not forget to redirect junk output to `/dev/null`.\n",
    "\n",
    "4) You may modify mappers/reducers from \"Word rating\" task and parse its output to get the answer on \"Stop Words\" task.\n",
    "\n",
    "5) You may use mapper/reducer to get `\"Stop Words\"` and `\"Total Words\"` amounts and redirect them to sys.stderr. After that you may redirect the output of MapReduce to the parsed function. In this function you may find rows correspond to these amounts and compute the percentage.\n",
    "\n",
    "Here you can find the draft for the main steps of the task. You can use other methods to get the solution."
   ]
  },
  {
   "cell_type": "markdown",
   "metadata": {
    "colab_type": "text",
    "id": "EpO7whLNS80M"
   },
   "source": [
    "## Step 1. Create the mapper.\n",
    "\n",
    "<b>Hint:</b> Create the mapper, which calculates Total word and Stop word amounts. You may redirect this information to sys.stderr. This will make it possible to parse these data on the next steps.\n",
    "\n",
    "Example of the redirections:\n",
    "\n",
    "`print >> sys.stderr, \"reporter:counter:Wiki stats,Total words,%d\" % count`\n",
    "\n",
    "Remember about the Distributed cache. If we add option `-files mapper.py,reducer.py,/datasets/stop_words_en.txt`, then `mapper.py, reducer.py` and `stop_words_en.txt` file will be in the same directory on the datanodes. Hence, it is necessary to use a relative path `stop_words_en.txt` from the mapper to access this txt file."
   ]
  },
  {
   "cell_type": "code",
   "execution_count": 60,
   "metadata": {
    "colab": {
     "autoexec": {
      "startup": false,
      "wait_interval": 0
     }
    },
    "colab_type": "code",
    "id": "KU56zkC0S80M"
   },
   "outputs": [
    {
     "name": "stdout",
     "output_type": "stream",
     "text": [
      "Overwriting mapper.py\n"
     ]
    }
   ],
   "source": [
    "%%writefile mapper.py\n",
    "\n",
    "\n",
    "import sys\n",
    "import re\n",
    "\n",
    "\n",
    "reload(sys)\n",
    "sys.setdefaultencoding('utf-8')  # required to convert to unicode\n",
    "\n",
    "path = 'stop_words_en.txt'\n",
    "\n",
    "# Your code for reading stop words here\n",
    "with open(path) as sw_file:\n",
    "    #stopwords = sw_file.read().split('\\n')\n",
    "    stopwords = set(sw_file.read().split())\n",
    "\n",
    "for line in sys.stdin:\n",
    "    try:\n",
    "        article_id, text = unicode(line.strip()).split('\\t', 1)\n",
    "    except ValueError as e:\n",
    "        continue\n",
    "\n",
    "    words = re.split(\"\\W*\\s+\\W*\", text, flags=re.UNICODE)\n",
    "    \n",
    "    for w in words:\n",
    "        print >> sys.stderr, \"reporter:counter:Wiki_stats,total_words,%d\" % total_words\n",
    "        if w in stopwords:\n",
    "            print >> sys.stderr, \"reporter:counter:Wiki_stats,total_stopwords,%d\" % total_stops\n",
    "        print \"%s\\t%d\" % (w.lower(), 1)\n"
   ]
  },
  {
   "cell_type": "code",
   "execution_count": 41,
   "metadata": {},
   "outputs": [
    {
     "name": "stdout",
     "output_type": "stream",
     "text": [
      "Overwriting mapper.py\n"
     ]
    }
   ],
   "source": [
    "%%writefile mapper.py\n",
    "\n",
    "import sys\n",
    "import re\n",
    "\n",
    "reload(sys)\n",
    "sys.setdefaultencoding('utf-8') # required to convert to unicode\n",
    "\n",
    "with open('stop_words_en.txt') as f:\n",
    "    stop_words = set(f.read().split())\n",
    "\n",
    "for line in sys.stdin:\n",
    "    try:\n",
    "        article_id, text = unicode(line.strip()).split('\\t', 1)\n",
    "    except ValueError as e:\n",
    "        continue\n",
    "    words = re.split(\"\\W*\\s+\\W*\", text, flags=re.UNICODE)\n",
    "    for word in words:\n",
    "        print >> sys.stderr, \"reporter:counter:wiki,total_words,%d\" % 1\n",
    "        if word in stop_words:\n",
    "            print >> sys.stderr, \"reporter:counter:wiki,stop_words,%d\" % 1\n",
    "        print \"%s\\t%d\" % (word.lower(), 1)"
   ]
  },
  {
   "cell_type": "markdown",
   "metadata": {
    "colab_type": "text",
    "id": "-3EM-tBES80O"
   },
   "source": [
    "## Step 2. Create the reducer.\n",
    "\n",
    "Create the reducer, which will accumulate the information after the mapper step. You may implement the combiner if you want. It can be useful from optimizing and speed up your computations (see the lectures from the Week 2 for more details)."
   ]
  },
  {
   "cell_type": "code",
   "execution_count": 0,
   "metadata": {
    "colab": {
     "autoexec": {
      "startup": false,
      "wait_interval": 0
     }
    },
    "colab_type": "code",
    "id": "yslvpwpfS80P"
   },
   "outputs": [],
   "source": [
    "%%writefile reducer.py\n",
    "\n",
    "# Your code for reducer here."
   ]
  },
  {
   "cell_type": "markdown",
   "metadata": {
    "colab_type": "text",
    "id": "MZQKrDecS80Q"
   },
   "source": [
    "## Step 3. Create the parsed function.\n",
    "\n",
    "<b>Hint:</b> Create the function, which will parse MapReduce sys.stderr for Total word and Stop word amounts.\n",
    "\n",
    "The `./counter_process.py` script should do the following:\n",
    "\n",
    "- parse hadoop logs from Stderr,\n",
    "\n",
    "- retrieve values of 2 user-defined counters,\n",
    "\n",
    "- compute percentage and output it into the stdout."
   ]
  },
  {
   "cell_type": "code",
   "execution_count": 0,
   "metadata": {
    "colab": {
     "autoexec": {
      "startup": false,
      "wait_interval": 0
     }
    },
    "colab_type": "code",
    "id": "XptufhbMS80R"
   },
   "outputs": [],
   "source": [
    "%%writefile counter_process.py\n",
    "\n",
    "#! /usr/bin/env python\n",
    "\n",
    "import sys\n",
    "\n",
    "# Your functions may be here.\n",
    "\n",
    "\n",
    "\n",
    "if __name__ == '__main__':\n",
    "    # Your code here."
   ]
  },
  {
   "cell_type": "markdown",
   "metadata": {
    "colab_type": "text",
    "id": "O_7XrxbKS80S"
   },
   "source": [
    "## Step 4. Bash commands\n",
    "\n",
    "<b> Hints: </b> \n",
    "\n",
    "1) If you want to redirect standard output to txt file you may use the following argument in yarn jar:\n",
    "\n",
    "```\n",
    "yarn ... \\\n",
    "  ... \\\n",
    "  -output ${OUT_DIR} > /dev/null 2> $LOGS\n",
    "```\n",
    "\n",
    "2) For printing the percentage of stop words in the entire dataset you may parse the MapReduce output. Parsed script may be written in Python code. \n",
    "\n",
    "To get the result you may use the UNIX pipe operator `|`. The output of the first command acts as an input to the second command (see lecture file-content-exploration-2 for more details).\n",
    "\n",
    "With this operator you may use command `cat` to redirect the output of MapReduce to ./counter_process.py with arguments, which correspond to the `\"Stop words\"` and `\"Total words\"` counters. Example is the following:\n",
    "\n",
    "`cat $LOGS | python ./counter_process.py \"Stop words\" \"Total words\"`\n",
    "\n",
    "Now something about Hadoop counters naming. \n",
    " - Built-in Hadoop counters usually have UPPER_CASE names. To make the grading system possible to distinguish your custom counters and system ones please use the following pattern for their naming: `[Aa]aaa...` (all except the first letters should be in lowercase);\n",
    " - Another points is how Hadoop sorts the counters. It sorts them lexicographically. Grading system reads your first counter as Stop words counter and the second as Total words. Please name you counters in such way that Hadoop set the Stop words counter before the Total words. \n",
    " \n",
    "E.g. \"Stop words\" and \"Total words\" names are Ok because they correspond both requirements.\n",
    "\n",
    "3) In Python code sys.argv is a list, which contains the command-line arguments passed to the script. The name of the script is in `sys.argv[0]`. Other arguments begin from `sys.argv[1]`.\n",
    "\n",
    "Hence, if you have two arguments, which you send from the Bash to your python script, you may use arguments in your script with the following command:\n",
    "\n",
    "`function(sys.argv[1], sys.argv[2])`\n",
    "\n",
    "4) Do not forget about printing your MapReduce output in the last cell. You may use the next command:\n",
    "\n",
    "`cat $LOGS >&2`"
   ]
  },
  {
   "cell_type": "code",
   "execution_count": 61,
   "metadata": {
    "colab": {
     "autoexec": {
      "startup": false,
      "wait_interval": 0
     }
    },
    "colab_type": "code",
    "id": "bG3omEqzS80S"
   },
   "outputs": [],
   "source": [
    "%%bash\n",
    "\n",
    "#OUT_DIR=\"coursera_mr_task2\"$(date +\"%s%6N\")\n",
    "OUT_DIR=\"coursera_mr_task2\"\n",
    "NUM_REDUCERS=0\n",
    "LOGS=\"stderr_logs.txt\"\n",
    "\n",
    "hdfs dfs -rm -r -skipTrash ${OUT_DIR} > /dev/null\n",
    "\n",
    "yarn jar /opt/cloudera/parcels/CDH/lib/hadoop-mapreduce/hadoop-streaming.jar \\\n",
    "    -D mapred.jab.name=\"Streaming wordCount with stopwords\" \\\n",
    "    -D mapreduce.job.reduces=${NUM_REDUCERS} \\\n",
    "    -files mapper.py,/datasets/stop_words_en.txt \\\n",
    "    -mapper \"python mapper.py\" \\\n",
    "    -input /data/wiki/en_articles_part \\\n",
    "    -output ${OUT_DIR} > /dev/null 2> $LOGS\n",
    "    \n",
    "#cat $LOGS | python ./counter_process.py \"Stop words\" \"Total words\"\n",
    "#cat $LOGS >&2\n",
    "\n",
    "#hdfs dfs -rm -r -skipTrash ${OUT_DIR} > /dev/null\n"
   ]
  },
  {
   "cell_type": "markdown",
   "metadata": {},
   "source": [
    "Some code to checkout some data"
   ]
  },
  {
   "cell_type": "code",
   "execution_count": 45,
   "metadata": {},
   "outputs": [
    {
     "name": "stdout",
     "output_type": "stream",
     "text": [
      "Found 3 items\n",
      "-rw-r--r--   1 jovyan supergroup          0 2019-02-17 15:59 coursera_mr_task2/_SUCCESS\n",
      "-rw-r--r--   1 jovyan supergroup   48912581 2019-02-17 15:59 coursera_mr_task2/part-00000\n",
      "-rw-r--r--   1 jovyan supergroup   48929846 2019-02-17 15:59 coursera_mr_task2/part-00001\n"
     ]
    }
   ],
   "source": [
    "%%bash\n",
    "\n",
    "hdfs dfs -ls coursera_mr_task2/"
   ]
  },
  {
   "cell_type": "code",
   "execution_count": 62,
   "metadata": {
    "scrolled": false
   },
   "outputs": [
    {
     "name": "stdout",
     "output_type": "stream",
     "text": [
      "19/02/17 16:11:38 INFO client.RMProxy: Connecting to ResourceManager at /0.0.0.0:8032\n",
      "19/02/17 16:11:38 INFO client.RMProxy: Connecting to ResourceManager at /0.0.0.0:8032\n",
      "19/02/17 16:11:39 INFO mapred.FileInputFormat: Total input files to process : 1\n",
      "19/02/17 16:11:39 INFO mapreduce.JobSubmitter: number of splits:2\n",
      "19/02/17 16:11:39 INFO mapreduce.JobSubmitter: Submitting tokens for job: job_1550410596063_0032\n",
      "19/02/17 16:11:39 INFO impl.YarnClientImpl: Submitted application application_1550410596063_0032\n",
      "19/02/17 16:11:39 INFO mapreduce.Job: The url to track the job: http://08453e1f2c84:8088/proxy/application_1550410596063_0032/\n",
      "19/02/17 16:11:39 INFO mapreduce.Job: Running job: job_1550410596063_0032\n",
      "19/02/17 16:11:45 INFO mapreduce.Job: Job job_1550410596063_0032 running in uber mode : false\n",
      "19/02/17 16:11:45 INFO mapreduce.Job:  map 0% reduce 0%\n",
      "19/02/17 16:11:49 INFO mapreduce.Job: Task Id : attempt_1550410596063_0032_m_000001_0, Status : FAILED\n",
      "Error: java.lang.RuntimeException: PipeMapRed.waitOutputThreads(): subprocess failed with code 1\n",
      "\tat org.apache.hadoop.streaming.PipeMapRed.waitOutputThreads(PipeMapRed.java:325)\n",
      "\tat org.apache.hadoop.streaming.PipeMapRed.mapRedFinished(PipeMapRed.java:538)\n",
      "\tat org.apache.hadoop.streaming.PipeMapper.close(PipeMapper.java:130)\n",
      "\tat org.apache.hadoop.mapred.MapRunner.run(MapRunner.java:61)\n",
      "\tat org.apache.hadoop.streaming.PipeMapRunner.run(PipeMapRunner.java:34)\n",
      "\tat org.apache.hadoop.mapred.MapTask.runOldMapper(MapTask.java:453)\n",
      "\tat org.apache.hadoop.mapred.MapTask.run(MapTask.java:343)\n",
      "\tat org.apache.hadoop.mapred.YarnChild$2.run(YarnChild.java:175)\n",
      "\tat java.security.AccessController.doPrivileged(Native Method)\n",
      "\tat javax.security.auth.Subject.doAs(Subject.java:422)\n",
      "\tat org.apache.hadoop.security.UserGroupInformation.doAs(UserGroupInformation.java:1807)\n",
      "\tat org.apache.hadoop.mapred.YarnChild.main(YarnChild.java:169)\n",
      "\n",
      "19/02/17 16:11:49 INFO mapreduce.Job: Task Id : attempt_1550410596063_0032_m_000000_0, Status : FAILED\n",
      "Error: java.lang.RuntimeException: PipeMapRed.waitOutputThreads(): subprocess failed with code 1\n",
      "\tat org.apache.hadoop.streaming.PipeMapRed.waitOutputThreads(PipeMapRed.java:325)\n",
      "\tat org.apache.hadoop.streaming.PipeMapRed.mapRedFinished(PipeMapRed.java:538)\n",
      "\tat org.apache.hadoop.streaming.PipeMapper.close(PipeMapper.java:130)\n",
      "\tat org.apache.hadoop.mapred.MapRunner.run(MapRunner.java:61)\n",
      "\tat org.apache.hadoop.streaming.PipeMapRunner.run(PipeMapRunner.java:34)\n",
      "\tat org.apache.hadoop.mapred.MapTask.runOldMapper(MapTask.java:453)\n",
      "\tat org.apache.hadoop.mapred.MapTask.run(MapTask.java:343)\n",
      "\tat org.apache.hadoop.mapred.YarnChild$2.run(YarnChild.java:175)\n",
      "\tat java.security.AccessController.doPrivileged(Native Method)\n",
      "\tat javax.security.auth.Subject.doAs(Subject.java:422)\n",
      "\tat org.apache.hadoop.security.UserGroupInformation.doAs(UserGroupInformation.java:1807)\n",
      "\tat org.apache.hadoop.mapred.YarnChild.main(YarnChild.java:169)\n",
      "\n",
      "19/02/17 16:11:54 INFO mapreduce.Job: Task Id : attempt_1550410596063_0032_m_000001_1, Status : FAILED\n",
      "Error: java.lang.RuntimeException: PipeMapRed.waitOutputThreads(): subprocess failed with code 1\n",
      "\tat org.apache.hadoop.streaming.PipeMapRed.waitOutputThreads(PipeMapRed.java:325)\n",
      "\tat org.apache.hadoop.streaming.PipeMapRed.mapRedFinished(PipeMapRed.java:538)\n",
      "\tat org.apache.hadoop.streaming.PipeMapper.close(PipeMapper.java:130)\n",
      "\tat org.apache.hadoop.mapred.MapRunner.run(MapRunner.java:61)\n",
      "\tat org.apache.hadoop.streaming.PipeMapRunner.run(PipeMapRunner.java:34)\n",
      "\tat org.apache.hadoop.mapred.MapTask.runOldMapper(MapTask.java:453)\n",
      "\tat org.apache.hadoop.mapred.MapTask.run(MapTask.java:343)\n",
      "\tat org.apache.hadoop.mapred.YarnChild$2.run(YarnChild.java:175)\n",
      "\tat java.security.AccessController.doPrivileged(Native Method)\n",
      "\tat javax.security.auth.Subject.doAs(Subject.java:422)\n",
      "\tat org.apache.hadoop.security.UserGroupInformation.doAs(UserGroupInformation.java:1807)\n",
      "\tat org.apache.hadoop.mapred.YarnChild.main(YarnChild.java:169)\n",
      "\n",
      "19/02/17 16:11:54 INFO mapreduce.Job: Task Id : attempt_1550410596063_0032_m_000000_1, Status : FAILED\n",
      "Error: java.lang.RuntimeException: PipeMapRed.waitOutputThreads(): subprocess failed with code 1\n",
      "\tat org.apache.hadoop.streaming.PipeMapRed.waitOutputThreads(PipeMapRed.java:325)\n",
      "\tat org.apache.hadoop.streaming.PipeMapRed.mapRedFinished(PipeMapRed.java:538)\n",
      "\tat org.apache.hadoop.streaming.PipeMapper.close(PipeMapper.java:130)\n",
      "\tat org.apache.hadoop.mapred.MapRunner.run(MapRunner.java:61)\n",
      "\tat org.apache.hadoop.streaming.PipeMapRunner.run(PipeMapRunner.java:34)\n",
      "\tat org.apache.hadoop.mapred.MapTask.runOldMapper(MapTask.java:453)\n",
      "\tat org.apache.hadoop.mapred.MapTask.run(MapTask.java:343)\n",
      "\tat org.apache.hadoop.mapred.YarnChild$2.run(YarnChild.java:175)\n",
      "\tat java.security.AccessController.doPrivileged(Native Method)\n",
      "\tat javax.security.auth.Subject.doAs(Subject.java:422)\n",
      "\tat org.apache.hadoop.security.UserGroupInformation.doAs(UserGroupInformation.java:1807)\n",
      "\tat org.apache.hadoop.mapred.YarnChild.main(YarnChild.java:169)\n",
      "\n",
      "19/02/17 16:11:59 INFO mapreduce.Job: Task Id : attempt_1550410596063_0032_m_000001_2, Status : FAILED\n",
      "Error: java.lang.RuntimeException: PipeMapRed.waitOutputThreads(): subprocess failed with code 1\n",
      "\tat org.apache.hadoop.streaming.PipeMapRed.waitOutputThreads(PipeMapRed.java:325)\n",
      "\tat org.apache.hadoop.streaming.PipeMapRed.mapRedFinished(PipeMapRed.java:538)\n",
      "\tat org.apache.hadoop.streaming.PipeMapper.close(PipeMapper.java:130)\n",
      "\tat org.apache.hadoop.mapred.MapRunner.run(MapRunner.java:61)\n",
      "\tat org.apache.hadoop.streaming.PipeMapRunner.run(PipeMapRunner.java:34)\n",
      "\tat org.apache.hadoop.mapred.MapTask.runOldMapper(MapTask.java:453)\n",
      "\tat org.apache.hadoop.mapred.MapTask.run(MapTask.java:343)\n",
      "\tat org.apache.hadoop.mapred.YarnChild$2.run(YarnChild.java:175)\n",
      "\tat java.security.AccessController.doPrivileged(Native Method)\n",
      "\tat javax.security.auth.Subject.doAs(Subject.java:422)\n",
      "\tat org.apache.hadoop.security.UserGroupInformation.doAs(UserGroupInformation.java:1807)\n",
      "\tat org.apache.hadoop.mapred.YarnChild.main(YarnChild.java:169)\n",
      "\n",
      "19/02/17 16:12:00 INFO mapreduce.Job: Task Id : attempt_1550410596063_0032_m_000000_2, Status : FAILED\n",
      "Error: java.lang.RuntimeException: PipeMapRed.waitOutputThreads(): subprocess failed with code 1\n",
      "\tat org.apache.hadoop.streaming.PipeMapRed.waitOutputThreads(PipeMapRed.java:325)\n",
      "\tat org.apache.hadoop.streaming.PipeMapRed.mapRedFinished(PipeMapRed.java:538)\n",
      "\tat org.apache.hadoop.streaming.PipeMapper.close(PipeMapper.java:130)\n",
      "\tat org.apache.hadoop.mapred.MapRunner.run(MapRunner.java:61)\n",
      "\tat org.apache.hadoop.streaming.PipeMapRunner.run(PipeMapRunner.java:34)\n",
      "\tat org.apache.hadoop.mapred.MapTask.runOldMapper(MapTask.java:453)\n",
      "\tat org.apache.hadoop.mapred.MapTask.run(MapTask.java:343)\n",
      "\tat org.apache.hadoop.mapred.YarnChild$2.run(YarnChild.java:175)\n",
      "\tat java.security.AccessController.doPrivileged(Native Method)\n",
      "\tat javax.security.auth.Subject.doAs(Subject.java:422)\n",
      "\tat org.apache.hadoop.security.UserGroupInformation.doAs(UserGroupInformation.java:1807)\n",
      "\tat org.apache.hadoop.mapred.YarnChild.main(YarnChild.java:169)\n",
      "\n",
      "19/02/17 16:12:04 INFO mapreduce.Job:  map 100% reduce 0%\n",
      "19/02/17 16:12:04 INFO mapreduce.Job: Job job_1550410596063_0032 failed with state FAILED due to: Task failed task_1550410596063_0032_m_000001\n",
      "Job failed as tasks failed. failedMaps:1 failedReduces:0\n",
      "\n",
      "19/02/17 16:12:04 INFO mapreduce.Job: Counters: 13\n",
      "\tJob Counters \n",
      "\t\tFailed map tasks=7\n",
      "\t\tKilled map tasks=1\n",
      "\t\tLaunched map tasks=8\n",
      "\t\tOther local map tasks=6\n",
      "\t\tData-local map tasks=2\n",
      "\t\tTotal time spent by all maps in occupied slots (ms)=19532\n",
      "\t\tTotal time spent by all reduces in occupied slots (ms)=0\n",
      "\t\tTotal time spent by all map tasks (ms)=19532\n",
      "\t\tTotal vcore-milliseconds taken by all map tasks=19532\n",
      "\t\tTotal megabyte-milliseconds taken by all map tasks=20000768\n",
      "\tMap-Reduce Framework\n",
      "\t\tCPU time spent (ms)=0\n",
      "\t\tPhysical memory (bytes) snapshot=0\n",
      "\t\tVirtual memory (bytes) snapshot=0\n",
      "19/02/17 16:12:04 ERROR streaming.StreamJob: Job not successful!\n",
      "Streaming Command Failed!\n"
     ]
    }
   ],
   "source": [
    "%%bash\n",
    "\n",
    "cat stderr_logs.txt"
   ]
  },
  {
   "cell_type": "code",
   "execution_count": 44,
   "metadata": {},
   "outputs": [
    {
     "name": "stdout",
     "output_type": "stream",
     "text": [
      "total 100\n",
      "-rw-r--r-- 1 jovyan users   602 Feb 17 14:10 mapper1.py\n",
      "-rw-r--r-- 1 jovyan users   620 Feb 17 15:58 mapper.py\n",
      "-rw-r--r-- 1 jovyan users   346 Feb 17 14:10 mapper_sorter.py\n",
      "-rw-r--r-- 1 jovyan root    868 May  2  2018 README.md\n",
      "-rw-r--r-- 1 jovyan users   433 Feb 17 14:10 reducer1.py\n",
      "-rw-r--r-- 1 jovyan users   432 Feb 17 13:48 reducer.py\n",
      "-rw-r--r-- 1 jovyan users   199 Feb 17 14:10 reducer_sorter.py\n",
      "-rw-r--r-- 1 jovyan users  2744 Feb 17 15:59 stderr_logs.txt\n",
      "-rw-r--r-- 1 jovyan root  18768 Feb 17 16:01 StopWordsTask2.ipynb\n",
      "-rw-r--r-- 1 root   users   758 Feb 17 13:36 supervisord.log\n",
      "-rw-r--r-- 1 root   users     2 Feb 17 13:36 supervisord.pid\n",
      "-rw-r--r-- 1 jovyan root  13172 Feb 17 13:51 WordCountTask0.ipynb\n",
      "-rw-r--r-- 1 jovyan root  21645 Feb 17 15:25 WordsRatingTask1.ipynb\n"
     ]
    }
   ],
   "source": [
    "%%bash\n",
    "ls -l"
   ]
  },
  {
   "cell_type": "code",
   "execution_count": 3,
   "metadata": {},
   "outputs": [
    {
     "name": "stdout",
     "output_type": "stream",
     "text": [
      "a\n",
      "about\n",
      "above\n",
      "across\n",
      "after\n",
      "afterwards\n",
      "again\n",
      "against\n",
      "all\n",
      "almost\n",
      "alone\n",
      "along\n",
      "already\n",
      "also\n",
      "although\n",
      "always\n",
      "am\n",
      "among\n",
      "amongst\n",
      "amoungst\n"
     ]
    }
   ],
   "source": [
    "%%bash\n",
    "\n",
    "hdfs dfs -cat /datasets/stop_words_en.txt | head -20"
   ]
  },
  {
   "cell_type": "code",
   "execution_count": null,
   "metadata": {},
   "outputs": [],
   "source": []
  },
  {
   "cell_type": "code",
   "execution_count": null,
   "metadata": {},
   "outputs": [],
   "source": []
  },
  {
   "cell_type": "code",
   "execution_count": null,
   "metadata": {},
   "outputs": [],
   "source": []
  },
  {
   "cell_type": "code",
   "execution_count": null,
   "metadata": {},
   "outputs": [],
   "source": []
  }
 ],
 "metadata": {
  "colab": {
   "collapsed_sections": [],
   "default_view": {},
   "name": "702_to_students.ipynb",
   "provenance": [],
   "version": "0.3.2",
   "views": {}
  },
  "kernelspec": {
   "display_name": "Python 2",
   "language": "python",
   "name": "python2"
  },
  "language_info": {
   "codemirror_mode": {
    "name": "ipython",
    "version": 2
   },
   "file_extension": ".py",
   "mimetype": "text/x-python",
   "name": "python",
   "nbconvert_exporter": "python",
   "pygments_lexer": "ipython2",
   "version": "2.7.12"
  }
 },
 "nbformat": 4,
 "nbformat_minor": 1
}
