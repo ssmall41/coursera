{
 "cells": [
  {
   "cell_type": "markdown",
   "metadata": {},
   "source": [
    "# Neural Machine Translation\n",
    "\n",
    "Welcome to your first programming assignment for this week! \n",
    "\n",
    "You will build a Neural Machine Translation (NMT) model to translate human readable dates (\"25th of June, 2009\") into machine readable dates (\"2009-06-25\"). You will do this using an attention model, one of the most sophisticated sequence to sequence models. \n",
    "\n",
    "This notebook was produced together with NVIDIA's Deep Learning Institute. \n",
    "\n",
    "Let's load all the packages you will need for this assignment."
   ]
  },
  {
   "cell_type": "code",
   "execution_count": 1,
   "metadata": {},
   "outputs": [
    {
     "name": "stderr",
     "output_type": "stream",
     "text": [
      "Using TensorFlow backend.\n"
     ]
    }
   ],
   "source": [
    "from keras.layers import Bidirectional, Concatenate, Permute, Dot, Input, LSTM, Multiply\n",
    "from keras.layers import RepeatVector, Dense, Activation, Lambda\n",
    "from keras.optimizers import Adam\n",
    "from keras.utils import to_categorical\n",
    "from keras.models import load_model, Model\n",
    "import keras.backend as K\n",
    "import numpy as np\n",
    "\n",
    "from faker import Faker\n",
    "import random\n",
    "from tqdm import tqdm\n",
    "from babel.dates import format_date\n",
    "from nmt_utils import *\n",
    "import matplotlib.pyplot as plt\n",
    "%matplotlib inline"
   ]
  },
  {
   "cell_type": "markdown",
   "metadata": {},
   "source": [
    "## 1 - Translating human readable dates into machine readable dates\n",
    "\n",
    "The model you will build here could be used to translate from one language to another, such as translating from English to Hindi. However, language translation requires massive datasets and usually takes days of training on GPUs. To give you a place to experiment with these models even without using massive datasets, we will instead use a simpler \"date translation\" task. \n",
    "\n",
    "The network will input a date written in a variety of possible formats (*e.g. \"the 29th of August 1958\", \"03/30/1968\", \"24 JUNE 1987\"*) and translate them into standardized, machine readable dates (*e.g. \"1958-08-29\", \"1968-03-30\", \"1987-06-24\"*). We will have the network learn to output dates in the common machine-readable format YYYY-MM-DD. \n",
    "\n",
    "\n",
    "\n",
    "<!-- \n",
    "Take a look at [nmt_utils.py](./nmt_utils.py) to see all the formatting. Count and figure out how the formats work, you will need this knowledge later. !--> "
   ]
  },
  {
   "cell_type": "markdown",
   "metadata": {},
   "source": [
    "### 1.1 - Dataset\n",
    "\n",
    "We will train the model on a dataset of 10000 human readable dates and their equivalent, standardized, machine readable dates. Let's run the following cells to load the dataset and print some examples. "
   ]
  },
  {
   "cell_type": "code",
   "execution_count": 2,
   "metadata": {},
   "outputs": [
    {
     "name": "stderr",
     "output_type": "stream",
     "text": [
      "100%|██████████| 10000/10000 [00:01<00:00, 8540.35it/s]\n"
     ]
    }
   ],
   "source": [
    "m = 10000\n",
    "dataset, human_vocab, machine_vocab, inv_machine_vocab = load_dataset(m)"
   ]
  },
  {
   "cell_type": "code",
   "execution_count": 3,
   "metadata": {},
   "outputs": [
    {
     "data": {
      "text/plain": [
       "[('9 may 1998', '1998-05-09'),\n",
       " ('10.09.70', '1970-09-10'),\n",
       " ('4/28/90', '1990-04-28'),\n",
       " ('thursday january 26 1995', '1995-01-26'),\n",
       " ('monday march 7 1983', '1983-03-07'),\n",
       " ('sunday may 22 1988', '1988-05-22'),\n",
       " ('tuesday july 8 2008', '2008-07-08'),\n",
       " ('08 sep 1999', '1999-09-08'),\n",
       " ('1 jan 1981', '1981-01-01'),\n",
       " ('monday may 22 1995', '1995-05-22')]"
      ]
     },
     "execution_count": 3,
     "metadata": {},
     "output_type": "execute_result"
    }
   ],
   "source": [
    "dataset[:10]"
   ]
  },
  {
   "cell_type": "markdown",
   "metadata": {},
   "source": [
    "You've loaded:\n",
    "- `dataset`: a list of tuples of (human readable date, machine readable date)\n",
    "- `human_vocab`: a python dictionary mapping all characters used in the human readable dates to an integer-valued index \n",
    "- `machine_vocab`: a python dictionary mapping all characters used in machine readable dates to an integer-valued index. These indices are not necessarily consistent with `human_vocab`. \n",
    "- `inv_machine_vocab`: the inverse dictionary of `machine_vocab`, mapping from indices back to characters. \n",
    "\n",
    "Let's preprocess the data and map the raw text data into the index values. We will also use Tx=30 (which we assume is the maximum length of the human readable date; if we get a longer input, we would have to truncate it) and Ty=10 (since \"YYYY-MM-DD\" is 10 characters long). "
   ]
  },
  {
   "cell_type": "code",
   "execution_count": 4,
   "metadata": {},
   "outputs": [
    {
     "name": "stdout",
     "output_type": "stream",
     "text": [
      "X.shape: (10000, 30)\n",
      "Y.shape: (10000, 10)\n",
      "Xoh.shape: (10000, 30, 37)\n",
      "Yoh.shape: (10000, 10, 11)\n"
     ]
    }
   ],
   "source": [
    "Tx = 30\n",
    "Ty = 10\n",
    "X, Y, Xoh, Yoh = preprocess_data(dataset, human_vocab, machine_vocab, Tx, Ty)\n",
    "\n",
    "print(\"X.shape:\", X.shape)\n",
    "print(\"Y.shape:\", Y.shape)\n",
    "print(\"Xoh.shape:\", Xoh.shape)\n",
    "print(\"Yoh.shape:\", Yoh.shape)"
   ]
  },
  {
   "cell_type": "markdown",
   "metadata": {},
   "source": [
    "You now have:\n",
    "- `X`: a processed version of the human readable dates in the training set, where each character is replaced by an index mapped to the character via `human_vocab`. Each date is further padded to $T_x$ values with a special character (< pad >). `X.shape = (m, Tx)`\n",
    "- `Y`: a processed version of the machine readable dates in the training set, where each character is replaced by the index it is mapped to in `machine_vocab`. You should have `Y.shape = (m, Ty)`. \n",
    "- `Xoh`: one-hot version of `X`, the \"1\" entry's index is mapped to the character thanks to `human_vocab`. `Xoh.shape = (m, Tx, len(human_vocab))`\n",
    "- `Yoh`: one-hot version of `Y`, the \"1\" entry's index is mapped to the character thanks to `machine_vocab`. `Yoh.shape = (m, Tx, len(machine_vocab))`. Here, `len(machine_vocab) = 11` since there are 11 characters ('-' as well as 0-9). \n"
   ]
  },
  {
   "cell_type": "markdown",
   "metadata": {},
   "source": [
    "Lets also look at some examples of preprocessed training examples. Feel free to play with `index` in the cell below to navigate the dataset and see how source/target dates are preprocessed. "
   ]
  },
  {
   "cell_type": "code",
   "execution_count": 5,
   "metadata": {},
   "outputs": [
    {
     "name": "stdout",
     "output_type": "stream",
     "text": [
      "Source date: 9 may 1998\n",
      "Target date: 1998-05-09\n",
      "\n",
      "Source after preprocessing (indices): [12  0 24 13 34  0  4 12 12 11 36 36 36 36 36 36 36 36 36 36 36 36 36 36 36\n",
      " 36 36 36 36 36]\n",
      "Target after preprocessing (indices): [ 2 10 10  9  0  1  6  0  1 10]\n",
      "\n",
      "Source after preprocessing (one-hot): [[ 0.  0.  0. ...,  0.  0.  0.]\n",
      " [ 1.  0.  0. ...,  0.  0.  0.]\n",
      " [ 0.  0.  0. ...,  0.  0.  0.]\n",
      " ..., \n",
      " [ 0.  0.  0. ...,  0.  0.  1.]\n",
      " [ 0.  0.  0. ...,  0.  0.  1.]\n",
      " [ 0.  0.  0. ...,  0.  0.  1.]]\n",
      "Target after preprocessing (one-hot): [[ 0.  0.  1.  0.  0.  0.  0.  0.  0.  0.  0.]\n",
      " [ 0.  0.  0.  0.  0.  0.  0.  0.  0.  0.  1.]\n",
      " [ 0.  0.  0.  0.  0.  0.  0.  0.  0.  0.  1.]\n",
      " [ 0.  0.  0.  0.  0.  0.  0.  0.  0.  1.  0.]\n",
      " [ 1.  0.  0.  0.  0.  0.  0.  0.  0.  0.  0.]\n",
      " [ 0.  1.  0.  0.  0.  0.  0.  0.  0.  0.  0.]\n",
      " [ 0.  0.  0.  0.  0.  0.  1.  0.  0.  0.  0.]\n",
      " [ 1.  0.  0.  0.  0.  0.  0.  0.  0.  0.  0.]\n",
      " [ 0.  1.  0.  0.  0.  0.  0.  0.  0.  0.  0.]\n",
      " [ 0.  0.  0.  0.  0.  0.  0.  0.  0.  0.  1.]]\n"
     ]
    }
   ],
   "source": [
    "index = 0\n",
    "print(\"Source date:\", dataset[index][0])\n",
    "print(\"Target date:\", dataset[index][1])\n",
    "print()\n",
    "print(\"Source after preprocessing (indices):\", X[index])\n",
    "print(\"Target after preprocessing (indices):\", Y[index])\n",
    "print()\n",
    "print(\"Source after preprocessing (one-hot):\", Xoh[index])\n",
    "print(\"Target after preprocessing (one-hot):\", Yoh[index])"
   ]
  },
  {
   "cell_type": "markdown",
   "metadata": {},
   "source": [
    "## 2 - Neural machine translation with attention\n",
    "\n",
    "If you had to translate a book's paragraph from French to English, you would not read the whole paragraph, then close the book and translate. Even during the translation process, you would read/re-read and focus on the parts of the French paragraph corresponding to the parts of the English you are writing down. \n",
    "\n",
    "The attention mechanism tells a Neural Machine Translation model where it should pay attention to at any step. \n",
    "\n",
    "\n",
    "### 2.1 - Attention mechanism\n",
    "\n",
    "In this part, you will implement the attention mechanism presented in the lecture videos. Here is a figure to remind you how the model works. The diagram on the left shows the attention model. The diagram on the right shows what one \"Attention\" step does to calculate the attention variables $\\alpha^{\\langle t, t' \\rangle}$, which are used to compute the context variable $context^{\\langle t \\rangle}$ for each timestep in the output ($t=1, \\ldots, T_y$). \n",
    "\n",
    "<table>\n",
    "<td> \n",
    "<img src=\"images/attn_model.png\" style=\"width:500;height:500px;\"> <br>\n",
    "</td> \n",
    "<td> \n",
    "<img src=\"images/attn_mechanism.png\" style=\"width:500;height:500px;\"> <br>\n",
    "</td> \n",
    "</table>\n",
    "<caption><center> **Figure 1**: Neural machine translation with attention</center></caption>\n"
   ]
  },
  {
   "cell_type": "markdown",
   "metadata": {},
   "source": [
    "\n",
    "Here are some properties of the model that you may notice: \n",
    "\n",
    "- There are two separate LSTMs in this model (see diagram on the left). Because the one at the bottom of the picture is a Bi-directional LSTM and comes *before* the attention mechanism, we will call it *pre-attention* Bi-LSTM. The LSTM at the top of the diagram comes *after* the attention mechanism, so we will call it the *post-attention* LSTM. The pre-attention Bi-LSTM goes through $T_x$ time steps; the post-attention LSTM goes through $T_y$ time steps. \n",
    "\n",
    "- The post-attention LSTM passes $s^{\\langle t \\rangle}, c^{\\langle t \\rangle}$ from one time step to the next. In the lecture videos, we were using only a basic RNN for the post-activation sequence model, so the state captured by the RNN output activations $s^{\\langle t\\rangle}$. But since we are using an LSTM here, the LSTM has both the output activation $s^{\\langle t\\rangle}$ and the hidden cell state $c^{\\langle t\\rangle}$. However, unlike previous text generation examples (such as Dinosaurus in week 1), in this model the post-activation LSTM at time $t$ does will not take the specific generated $y^{\\langle t-1 \\rangle}$ as input; it only takes $s^{\\langle t\\rangle}$ and $c^{\\langle t\\rangle}$ as input. We have designed the model this way, because (unlike language generation where adjacent characters are highly correlated) there isn't as strong a dependency between the previous character and the next character in a YYYY-MM-DD date. \n",
    "\n",
    "- We use $a^{\\langle t \\rangle} = [\\overrightarrow{a}^{\\langle t \\rangle}; \\overleftarrow{a}^{\\langle t \\rangle}]$ to represent the concatenation of the activations of both the forward-direction and backward-directions of the pre-attention Bi-LSTM. \n",
    "\n",
    "- The diagram on the right uses a `RepeatVector` node to copy $s^{\\langle t-1 \\rangle}$'s value $T_x$ times, and then `Concatenation` to concatenate $s^{\\langle t-1 \\rangle}$ and $a^{\\langle t \\rangle}$ to compute $e^{\\langle t, t'}$, which is then passed through a softmax to compute $\\alpha^{\\langle t, t' \\rangle}$. We'll explain how to use `RepeatVector` and `Concatenation` in Keras below. \n",
    "\n",
    "Lets implement this model. You will start by implementing two functions: `one_step_attention()` and `model()`.\n",
    "\n",
    "**1) `one_step_attention()`**: At step $t$, given all the hidden states of the Bi-LSTM ($[a^{<1>},a^{<2>}, ..., a^{<T_x>}]$) and the previous hidden state of the second LSTM ($s^{<t-1>}$), `one_step_attention()` will compute the attention weights ($[\\alpha^{<t,1>},\\alpha^{<t,2>}, ..., \\alpha^{<t,T_x>}]$) and output the context vector (see Figure  1 (right) for details):\n",
    "$$context^{<t>} = \\sum_{t' = 0}^{T_x} \\alpha^{<t,t'>}a^{<t'>}\\tag{1}$$ \n",
    "\n",
    "Note that we are denoting the attention in this notebook $context^{\\langle t \\rangle}$. In the lecture videos, the context was denoted $c^{\\langle t \\rangle}$, but here we are calling it $context^{\\langle t \\rangle}$ to avoid confusion with the (post-attention) LSTM's internal memory cell variable, which is sometimes also denoted $c^{\\langle t \\rangle}$. \n",
    "  \n",
    "**2) `model()`**: Implements the entire model. It first runs the input through a Bi-LSTM to get back $[a^{<1>},a^{<2>}, ..., a^{<T_x>}]$. Then, it calls `one_step_attention()` $T_y$ times (`for` loop). At each iteration of this loop, it gives the computed context vector $c^{<t>}$ to the second LSTM, and runs the output of the LSTM through a dense layer with softmax activation to generate a prediction $\\hat{y}^{<t>}$. \n",
    "\n",
    "\n",
    "\n",
    "**Exercise**: Implement `one_step_attention()`. The function `model()` will call the layers in `one_step_attention()` $T_y$ using a for-loop, and it is important that all $T_y$ copies have the same weights. I.e., it should not re-initiaiize the weights every time. In other words, all $T_y$ steps should have shared weights. Here's how you can implement layers with shareable weights in Keras:\n",
    "1. Define the layer objects (as global variables for examples).\n",
    "2. Call these objects when propagating the input.\n",
    "\n",
    "We have defined the layers you need as global variables. Please run the following cells to create them. Please check the Keras documentation to make sure you understand what these layers are: [RepeatVector()](https://keras.io/layers/core/#repeatvector), [Concatenate()](https://keras.io/layers/merge/#concatenate), [Dense()](https://keras.io/layers/core/#dense), [Activation()](https://keras.io/layers/core/#activation), [Dot()](https://keras.io/layers/merge/#dot)."
   ]
  },
  {
   "cell_type": "code",
   "execution_count": 6,
   "metadata": {
    "collapsed": true
   },
   "outputs": [],
   "source": [
    "# Defined shared layers as global variables\n",
    "repeator = RepeatVector(Tx)\n",
    "concatenator = Concatenate(axis=-1)\n",
    "densor1 = Dense(10, activation = \"tanh\")\n",
    "densor2 = Dense(1, activation = \"relu\")\n",
    "activator = Activation(softmax, name='attention_weights') # We are using a custom softmax(axis = 1) loaded in this notebook\n",
    "dotor = Dot(axes = 1)"
   ]
  },
  {
   "cell_type": "markdown",
   "metadata": {},
   "source": [
    "Now you can use these layers to implement `one_step_attention()`. In order to propagate a Keras tensor object X through one of these layers, use `layer(X)` (or `layer([X,Y])` if it requires multiple inputs.), e.g. `densor(X)` will propagate X through the `Dense(1)` layer defined above."
   ]
  },
  {
   "cell_type": "code",
   "execution_count": 7,
   "metadata": {
    "collapsed": true
   },
   "outputs": [],
   "source": [
    "# GRADED FUNCTION: one_step_attention\n",
    "\n",
    "def one_step_attention(a, s_prev):\n",
    "    \"\"\"\n",
    "    Performs one step of attention: Outputs a context vector computed as a dot product of the attention weights\n",
    "    \"alphas\" and the hidden states \"a\" of the Bi-LSTM.\n",
    "    \n",
    "    Arguments:\n",
    "    a -- hidden state output of the Bi-LSTM, numpy-array of shape (m, Tx, 2*n_a)\n",
    "    s_prev -- previous hidden state of the (post-attention) LSTM, numpy-array of shape (m, n_s)\n",
    "    \n",
    "    Returns:\n",
    "    context -- context vector, input of the next (post-attetion) LSTM cell\n",
    "    \"\"\"\n",
    "    \n",
    "    ### START CODE HERE ###\n",
    "    # Use repeator to repeat s_prev to be of shape (m, Tx, n_s) so that you can concatenate it with all hidden states \"a\" (≈ 1 line)\n",
    "    s_prev = repeator(s_prev)\n",
    "    # Use concatenator to concatenate a and s_prev on the last axis (≈ 1 line)\n",
    "    concat = concatenator([a, s_prev])\n",
    "    # Use densor1 to propagate concat through a small fully-connected neural network to compute the \"intermediate energies\" variable e. (≈1 lines)\n",
    "    e = densor1(concat)\n",
    "    # Use densor2 to propagate e through a small fully-connected neural network to compute the \"energies\" variable energies. (≈1 lines)\n",
    "    energies = densor2(e)\n",
    "    # Use \"activator\" on \"energies\" to compute the attention weights \"alphas\" (≈ 1 line)\n",
    "    alphas = activator(energies)\n",
    "    # Use dotor together with \"alphas\" and \"a\" to compute the context vector to be given to the next (post-attention) LSTM-cell (≈ 1 line)\n",
    "    context = dotor([alphas, a])\n",
    "    ### END CODE HERE ###\n",
    "    \n",
    "    return context"
   ]
  },
  {
   "cell_type": "markdown",
   "metadata": {},
   "source": [
    "You will be able to check the expected output of `one_step_attention()` after you've coded the `model()` function."
   ]
  },
  {
   "cell_type": "markdown",
   "metadata": {},
   "source": [
    "**Exercise**: Implement `model()` as explained in figure 2 and the text above. Again, we have defined global layers that will share weights to be used in `model()`."
   ]
  },
  {
   "cell_type": "code",
   "execution_count": 8,
   "metadata": {
    "collapsed": true
   },
   "outputs": [],
   "source": [
    "n_a = 32\n",
    "n_s = 64\n",
    "post_activation_LSTM_cell = LSTM(n_s, return_state = True)\n",
    "output_layer = Dense(len(machine_vocab), activation=softmax)"
   ]
  },
  {
   "cell_type": "markdown",
   "metadata": {},
   "source": [
    "Now you can use these layers $T_y$ times in a `for` loop to generate the outputs, and their parameters will not be reinitialized. You will have to carry out the following steps: \n",
    "\n",
    "1. Propagate the input into a [Bidirectional](https://keras.io/layers/wrappers/#bidirectional) [LSTM](https://keras.io/layers/recurrent/#lstm)\n",
    "2. Iterate for $t = 0, \\dots, T_y-1$: \n",
    "    1. Call `one_step_attention()` on $[\\alpha^{<t,1>},\\alpha^{<t,2>}, ..., \\alpha^{<t,T_x>}]$ and $s^{<t-1>}$ to get the context vector $context^{<t>}$.\n",
    "    2. Give $context^{<t>}$ to the post-attention LSTM cell. Remember pass in the previous hidden-state $s^{\\langle t-1\\rangle}$ and cell-states $c^{\\langle t-1\\rangle}$ of this LSTM using `initial_state= [previous hidden state, previous cell state]`. Get back the new hidden state $s^{<t>}$ and the new cell state $c^{<t>}$.\n",
    "    3. Apply a softmax layer to $s^{<t>}$, get the output. \n",
    "    4. Save the output by adding it to the list of outputs.\n",
    "\n",
    "3. Create your Keras model instance, it should have three inputs (\"inputs\", $s^{<0>}$ and $c^{<0>}$) and output the list of \"outputs\"."
   ]
  },
  {
   "cell_type": "code",
   "execution_count": 9,
   "metadata": {
    "collapsed": true
   },
   "outputs": [],
   "source": [
    "# GRADED FUNCTION: model\n",
    "\n",
    "def model(Tx, Ty, n_a, n_s, human_vocab_size, machine_vocab_size):\n",
    "    \"\"\"\n",
    "    Arguments:\n",
    "    Tx -- length of the input sequence\n",
    "    Ty -- length of the output sequence\n",
    "    n_a -- hidden state size of the Bi-LSTM\n",
    "    n_s -- hidden state size of the post-attention LSTM\n",
    "    human_vocab_size -- size of the python dictionary \"human_vocab\"\n",
    "    machine_vocab_size -- size of the python dictionary \"machine_vocab\"\n",
    "\n",
    "    Returns:\n",
    "    model -- Keras model instance\n",
    "    \"\"\"\n",
    "    \n",
    "    # Define the inputs of your model with a shape (Tx,)\n",
    "    # Define s0 and c0, initial hidden state for the decoder LSTM of shape (n_s,)\n",
    "    X = Input(shape=(Tx, human_vocab_size))\n",
    "    s0 = Input(shape=(n_s,), name='s0')\n",
    "    c0 = Input(shape=(n_s,), name='c0')\n",
    "    s = s0\n",
    "    c = c0\n",
    "    \n",
    "    # Initialize empty list of outputs\n",
    "    outputs = []\n",
    "    \n",
    "    ### START CODE HERE ###\n",
    "    \n",
    "    # Step 1: Define your pre-attention Bi-LSTM. Remember to use return_sequences=True. (≈ 1 line)\n",
    "    a = Bidirectional(LSTM(n_a, return_sequences=True))(X)\n",
    "    \n",
    "    # Step 2: Iterate for Ty steps\n",
    "    for t in range(Ty):\n",
    "    \n",
    "        # Step 2.A: Perform one step of the attention mechanism to get back the context vector at step t (≈ 1 line)\n",
    "        context = one_step_attention(a, s)\n",
    "        \n",
    "        # Step 2.B: Apply the post-attention LSTM cell to the \"context\" vector.\n",
    "        # Don't forget to pass: initial_state = [hidden state, cell state] (≈ 1 line)\n",
    "        s, _, c = post_activation_LSTM_cell(context, initial_state=[s, c])\n",
    "        \n",
    "        # Step 2.C: Apply Dense layer to the hidden state output of the post-attention LSTM (≈ 1 line)\n",
    "        out = output_layer(s)\n",
    "        \n",
    "        # Step 2.D: Append \"out\" to the \"outputs\" list (≈ 1 line)\n",
    "        outputs.append(out)\n",
    "    \n",
    "    # Step 3: Create model instance taking three inputs and returning the list of outputs. (≈ 1 line)\n",
    "    model = Model(inputs=[X, s0, c0], outputs=outputs)\n",
    "    \n",
    "    ### END CODE HERE ###\n",
    "    \n",
    "    return model"
   ]
  },
  {
   "cell_type": "markdown",
   "metadata": {},
   "source": [
    "Run the following cell to create your model."
   ]
  },
  {
   "cell_type": "code",
   "execution_count": 10,
   "metadata": {},
   "outputs": [],
   "source": [
    "model = model(Tx, Ty, n_a, n_s, len(human_vocab), len(machine_vocab))"
   ]
  },
  {
   "cell_type": "markdown",
   "metadata": {},
   "source": [
    "Let's get a summary of the model to check if it matches the expected output."
   ]
  },
  {
   "cell_type": "code",
   "execution_count": 11,
   "metadata": {},
   "outputs": [
    {
     "name": "stdout",
     "output_type": "stream",
     "text": [
      "____________________________________________________________________________________________________\n",
      "Layer (type)                     Output Shape          Param #     Connected to                     \n",
      "====================================================================================================\n",
      "input_1 (InputLayer)             (None, 30, 37)        0                                            \n",
      "____________________________________________________________________________________________________\n",
      "s0 (InputLayer)                  (None, 64)            0                                            \n",
      "____________________________________________________________________________________________________\n",
      "bidirectional_1 (Bidirectional)  (None, 30, 64)        17920       input_1[0][0]                    \n",
      "____________________________________________________________________________________________________\n",
      "repeat_vector_1 (RepeatVector)   (None, 30, 64)        0           s0[0][0]                         \n",
      "                                                                   lstm_1[0][0]                     \n",
      "                                                                   lstm_1[1][0]                     \n",
      "                                                                   lstm_1[2][0]                     \n",
      "                                                                   lstm_1[3][0]                     \n",
      "                                                                   lstm_1[4][0]                     \n",
      "                                                                   lstm_1[5][0]                     \n",
      "                                                                   lstm_1[6][0]                     \n",
      "                                                                   lstm_1[7][0]                     \n",
      "                                                                   lstm_1[8][0]                     \n",
      "____________________________________________________________________________________________________\n",
      "concatenate_1 (Concatenate)      (None, 30, 128)       0           bidirectional_1[0][0]            \n",
      "                                                                   repeat_vector_1[0][0]            \n",
      "                                                                   bidirectional_1[0][0]            \n",
      "                                                                   repeat_vector_1[1][0]            \n",
      "                                                                   bidirectional_1[0][0]            \n",
      "                                                                   repeat_vector_1[2][0]            \n",
      "                                                                   bidirectional_1[0][0]            \n",
      "                                                                   repeat_vector_1[3][0]            \n",
      "                                                                   bidirectional_1[0][0]            \n",
      "                                                                   repeat_vector_1[4][0]            \n",
      "                                                                   bidirectional_1[0][0]            \n",
      "                                                                   repeat_vector_1[5][0]            \n",
      "                                                                   bidirectional_1[0][0]            \n",
      "                                                                   repeat_vector_1[6][0]            \n",
      "                                                                   bidirectional_1[0][0]            \n",
      "                                                                   repeat_vector_1[7][0]            \n",
      "                                                                   bidirectional_1[0][0]            \n",
      "                                                                   repeat_vector_1[8][0]            \n",
      "                                                                   bidirectional_1[0][0]            \n",
      "                                                                   repeat_vector_1[9][0]            \n",
      "____________________________________________________________________________________________________\n",
      "dense_1 (Dense)                  (None, 30, 10)        1290        concatenate_1[0][0]              \n",
      "                                                                   concatenate_1[1][0]              \n",
      "                                                                   concatenate_1[2][0]              \n",
      "                                                                   concatenate_1[3][0]              \n",
      "                                                                   concatenate_1[4][0]              \n",
      "                                                                   concatenate_1[5][0]              \n",
      "                                                                   concatenate_1[6][0]              \n",
      "                                                                   concatenate_1[7][0]              \n",
      "                                                                   concatenate_1[8][0]              \n",
      "                                                                   concatenate_1[9][0]              \n",
      "____________________________________________________________________________________________________\n",
      "dense_2 (Dense)                  (None, 30, 1)         11          dense_1[0][0]                    \n",
      "                                                                   dense_1[1][0]                    \n",
      "                                                                   dense_1[2][0]                    \n",
      "                                                                   dense_1[3][0]                    \n",
      "                                                                   dense_1[4][0]                    \n",
      "                                                                   dense_1[5][0]                    \n",
      "                                                                   dense_1[6][0]                    \n",
      "                                                                   dense_1[7][0]                    \n",
      "                                                                   dense_1[8][0]                    \n",
      "                                                                   dense_1[9][0]                    \n",
      "____________________________________________________________________________________________________\n",
      "attention_weights (Activation)   (None, 30, 1)         0           dense_2[0][0]                    \n",
      "                                                                   dense_2[1][0]                    \n",
      "                                                                   dense_2[2][0]                    \n",
      "                                                                   dense_2[3][0]                    \n",
      "                                                                   dense_2[4][0]                    \n",
      "                                                                   dense_2[5][0]                    \n",
      "                                                                   dense_2[6][0]                    \n",
      "                                                                   dense_2[7][0]                    \n",
      "                                                                   dense_2[8][0]                    \n",
      "                                                                   dense_2[9][0]                    \n",
      "____________________________________________________________________________________________________\n",
      "dot_1 (Dot)                      (None, 1, 64)         0           attention_weights[0][0]          \n",
      "                                                                   bidirectional_1[0][0]            \n",
      "                                                                   attention_weights[1][0]          \n",
      "                                                                   bidirectional_1[0][0]            \n",
      "                                                                   attention_weights[2][0]          \n",
      "                                                                   bidirectional_1[0][0]            \n",
      "                                                                   attention_weights[3][0]          \n",
      "                                                                   bidirectional_1[0][0]            \n",
      "                                                                   attention_weights[4][0]          \n",
      "                                                                   bidirectional_1[0][0]            \n",
      "                                                                   attention_weights[5][0]          \n",
      "                                                                   bidirectional_1[0][0]            \n",
      "                                                                   attention_weights[6][0]          \n",
      "                                                                   bidirectional_1[0][0]            \n",
      "                                                                   attention_weights[7][0]          \n",
      "                                                                   bidirectional_1[0][0]            \n",
      "                                                                   attention_weights[8][0]          \n",
      "                                                                   bidirectional_1[0][0]            \n",
      "                                                                   attention_weights[9][0]          \n",
      "                                                                   bidirectional_1[0][0]            \n",
      "____________________________________________________________________________________________________\n",
      "c0 (InputLayer)                  (None, 64)            0                                            \n",
      "____________________________________________________________________________________________________\n",
      "lstm_1 (LSTM)                    [(None, 64), (None, 6 33024       dot_1[0][0]                      \n",
      "                                                                   s0[0][0]                         \n",
      "                                                                   c0[0][0]                         \n",
      "                                                                   dot_1[1][0]                      \n",
      "                                                                   lstm_1[0][0]                     \n",
      "                                                                   lstm_1[0][2]                     \n",
      "                                                                   dot_1[2][0]                      \n",
      "                                                                   lstm_1[1][0]                     \n",
      "                                                                   lstm_1[1][2]                     \n",
      "                                                                   dot_1[3][0]                      \n",
      "                                                                   lstm_1[2][0]                     \n",
      "                                                                   lstm_1[2][2]                     \n",
      "                                                                   dot_1[4][0]                      \n",
      "                                                                   lstm_1[3][0]                     \n",
      "                                                                   lstm_1[3][2]                     \n",
      "                                                                   dot_1[5][0]                      \n",
      "                                                                   lstm_1[4][0]                     \n",
      "                                                                   lstm_1[4][2]                     \n",
      "                                                                   dot_1[6][0]                      \n",
      "                                                                   lstm_1[5][0]                     \n",
      "                                                                   lstm_1[5][2]                     \n",
      "                                                                   dot_1[7][0]                      \n",
      "                                                                   lstm_1[6][0]                     \n",
      "                                                                   lstm_1[6][2]                     \n",
      "                                                                   dot_1[8][0]                      \n",
      "                                                                   lstm_1[7][0]                     \n",
      "                                                                   lstm_1[7][2]                     \n",
      "                                                                   dot_1[9][0]                      \n",
      "                                                                   lstm_1[8][0]                     \n",
      "                                                                   lstm_1[8][2]                     \n",
      "____________________________________________________________________________________________________\n",
      "dense_3 (Dense)                  (None, 11)            715         lstm_1[0][0]                     \n",
      "                                                                   lstm_1[1][0]                     \n",
      "                                                                   lstm_1[2][0]                     \n",
      "                                                                   lstm_1[3][0]                     \n",
      "                                                                   lstm_1[4][0]                     \n",
      "                                                                   lstm_1[5][0]                     \n",
      "                                                                   lstm_1[6][0]                     \n",
      "                                                                   lstm_1[7][0]                     \n",
      "                                                                   lstm_1[8][0]                     \n",
      "                                                                   lstm_1[9][0]                     \n",
      "====================================================================================================\n",
      "Total params: 52,960\n",
      "Trainable params: 52,960\n",
      "Non-trainable params: 0\n",
      "____________________________________________________________________________________________________\n"
     ]
    }
   ],
   "source": [
    "model.summary()"
   ]
  },
  {
   "cell_type": "markdown",
   "metadata": {},
   "source": [
    "**Expected Output**:\n",
    "\n",
    "Here is the summary you should see\n",
    "<table>\n",
    "    <tr>\n",
    "        <td>\n",
    "            **Total params:**\n",
    "        </td>\n",
    "        <td>\n",
    "         52,960\n",
    "        </td>\n",
    "    </tr>\n",
    "        <tr>\n",
    "        <td>\n",
    "            **Trainable params:**\n",
    "        </td>\n",
    "        <td>\n",
    "         52,960\n",
    "        </td>\n",
    "    </tr>\n",
    "            <tr>\n",
    "        <td>\n",
    "            **Non-trainable params:**\n",
    "        </td>\n",
    "        <td>\n",
    "         0\n",
    "        </td>\n",
    "    </tr>\n",
    "                    <tr>\n",
    "        <td>\n",
    "            **bidirectional_1's output shape **\n",
    "        </td>\n",
    "        <td>\n",
    "         (None, 30, 64)  \n",
    "        </td>\n",
    "    </tr>\n",
    "    <tr>\n",
    "        <td>\n",
    "            **repeat_vector_1's output shape **\n",
    "        </td>\n",
    "        <td>\n",
    "         (None, 30, 64) \n",
    "        </td>\n",
    "    </tr>\n",
    "                <tr>\n",
    "        <td>\n",
    "            **concatenate_1's output shape **\n",
    "        </td>\n",
    "        <td>\n",
    "         (None, 30, 128) \n",
    "        </td>\n",
    "    </tr>\n",
    "            <tr>\n",
    "        <td>\n",
    "            **attention_weights's output shape **\n",
    "        </td>\n",
    "        <td>\n",
    "         (None, 30, 1)  \n",
    "        </td>\n",
    "    </tr>\n",
    "        <tr>\n",
    "        <td>\n",
    "            **dot_1's output shape **\n",
    "        </td>\n",
    "        <td>\n",
    "         (None, 1, 64)\n",
    "        </td>\n",
    "    </tr>\n",
    "           <tr>\n",
    "        <td>\n",
    "            **dense_3's output shape **\n",
    "        </td>\n",
    "        <td>\n",
    "         (None, 11) \n",
    "        </td>\n",
    "    </tr>\n",
    "</table>\n"
   ]
  },
  {
   "cell_type": "markdown",
   "metadata": {},
   "source": [
    "As usual, after creating your model in Keras, you need to compile it and define what loss, optimizer and metrics your are want to use. Compile your model using `categorical_crossentropy` loss, a custom [Adam](https://keras.io/optimizers/#adam) [optimizer](https://keras.io/optimizers/#usage-of-optimizers) (`learning rate = 0.005`, $\\beta_1 = 0.9$, $\\beta_2 = 0.999$, `decay = 0.01`)  and `['accuracy']` metrics:"
   ]
  },
  {
   "cell_type": "code",
   "execution_count": 12,
   "metadata": {
    "collapsed": true
   },
   "outputs": [],
   "source": [
    "### START CODE HERE ### (≈2 lines)\n",
    "opt = Adam(lr=0.005, beta_1=0.9, beta_2=0.999, decay=0.01)\n",
    "model.compile(loss='categorical_crossentropy', optimizer=opt, metrics=['accuracy'])\n",
    "### END CODE HERE ###"
   ]
  },
  {
   "cell_type": "markdown",
   "metadata": {},
   "source": [
    "The last step is to define all your inputs and outputs to fit the model:\n",
    "- You already have X of shape $(m = 10000, T_x = 30)$ containing the training examples.\n",
    "- You need to create `s0` and `c0` to initialize your `post_activation_LSTM_cell` with 0s.\n",
    "- Given the `model()` you coded, you need the \"outputs\" to be a list of 11 elements of shape (m, T_y). So that: `outputs[i][0], ..., outputs[i][Ty]` represent the true labels (characters) corresponding to the $i^{th}$ training example (`X[i]`). More generally, `outputs[i][j]` is the true label of the $j^{th}$ character in the $i^{th}$ training example."
   ]
  },
  {
   "cell_type": "code",
   "execution_count": 13,
   "metadata": {
    "collapsed": true
   },
   "outputs": [],
   "source": [
    "s0 = np.zeros((m, n_s))\n",
    "c0 = np.zeros((m, n_s))\n",
    "outputs = list(Yoh.swapaxes(0,1))"
   ]
  },
  {
   "cell_type": "markdown",
   "metadata": {},
   "source": [
    "Let's now fit the model and run it for one epoch."
   ]
  },
  {
   "cell_type": "code",
   "execution_count": 14,
   "metadata": {},
   "outputs": [
    {
     "name": "stdout",
     "output_type": "stream",
     "text": [
      "Epoch 1/50\n",
      "10000/10000 [==============================] - 31s - loss: 16.1624 - dense_3_loss_1: 1.1966 - dense_3_loss_2: 0.9863 - dense_3_loss_3: 1.7054 - dense_3_loss_4: 2.6520 - dense_3_loss_5: 0.7040 - dense_3_loss_6: 1.2504 - dense_3_loss_7: 2.6539 - dense_3_loss_8: 0.7953 - dense_3_loss_9: 1.6555 - dense_3_loss_10: 2.5631 - dense_3_acc_1: 0.5066 - dense_3_acc_2: 0.6927 - dense_3_acc_3: 0.3491 - dense_3_acc_4: 0.0867 - dense_3_acc_5: 0.9394 - dense_3_acc_6: 0.3895 - dense_3_acc_7: 0.0638 - dense_3_acc_8: 0.9621 - dense_3_acc_9: 0.2620 - dense_3_acc_10: 0.1033    \n",
      "Epoch 2/50\n",
      "10000/10000 [==============================] - 29s - loss: 9.0010 - dense_3_loss_1: 0.2233 - dense_3_loss_2: 0.1411 - dense_3_loss_3: 0.8229 - dense_3_loss_4: 2.1064 - dense_3_loss_5: 0.0238 - dense_3_loss_6: 0.3417 - dense_3_loss_7: 1.9383 - dense_3_loss_8: 0.0129 - dense_3_loss_9: 1.2043 - dense_3_loss_10: 2.1862 - dense_3_acc_1: 0.9566 - dense_3_acc_2: 0.9664 - dense_3_acc_3: 0.7010 - dense_3_acc_4: 0.2267 - dense_3_acc_5: 1.0000 - dense_3_acc_6: 0.8898 - dense_3_acc_7: 0.2824 - dense_3_acc_8: 1.0000 - dense_3_acc_9: 0.4419 - dense_3_acc_10: 0.1929    \n",
      "Epoch 3/50\n",
      "10000/10000 [==============================] - 29s - loss: 7.2802 - dense_3_loss_1: 0.1167 - dense_3_loss_2: 0.0855 - dense_3_loss_3: 0.6099 - dense_3_loss_4: 1.8104 - dense_3_loss_5: 0.0166 - dense_3_loss_6: 0.1835 - dense_3_loss_7: 1.5021 - dense_3_loss_8: 0.0111 - dense_3_loss_9: 1.0290 - dense_3_loss_10: 1.9154 - dense_3_acc_1: 0.9747 - dense_3_acc_2: 0.9759 - dense_3_acc_3: 0.7836 - dense_3_acc_4: 0.3540 - dense_3_acc_5: 1.0000 - dense_3_acc_6: 0.9474 - dense_3_acc_7: 0.4749 - dense_3_acc_8: 1.0000 - dense_3_acc_9: 0.5544 - dense_3_acc_10: 0.3042    \n",
      "Epoch 4/50\n",
      "10000/10000 [==============================] - 29s - loss: 5.8080 - dense_3_loss_1: 0.0898 - dense_3_loss_2: 0.0689 - dense_3_loss_3: 0.4750 - dense_3_loss_4: 1.5161 - dense_3_loss_5: 0.0139 - dense_3_loss_6: 0.1407 - dense_3_loss_7: 1.1399 - dense_3_loss_8: 0.0156 - dense_3_loss_9: 0.8476 - dense_3_loss_10: 1.5005 - dense_3_acc_1: 0.9774 - dense_3_acc_2: 0.9801 - dense_3_acc_3: 0.8380 - dense_3_acc_4: 0.4719 - dense_3_acc_5: 0.9999 - dense_3_acc_6: 0.9597 - dense_3_acc_7: 0.6251 - dense_3_acc_8: 0.9999 - dense_3_acc_9: 0.6474 - dense_3_acc_10: 0.4756    \n",
      "Epoch 5/50\n",
      "10000/10000 [==============================] - 29s - loss: 4.4467 - dense_3_loss_1: 0.0766 - dense_3_loss_2: 0.0597 - dense_3_loss_3: 0.3670 - dense_3_loss_4: 1.1679 - dense_3_loss_5: 0.0099 - dense_3_loss_6: 0.1196 - dense_3_loss_7: 0.8563 - dense_3_loss_8: 0.0156 - dense_3_loss_9: 0.7319 - dense_3_loss_10: 1.0421 - dense_3_acc_1: 0.9792 - dense_3_acc_2: 0.9825 - dense_3_acc_3: 0.8792 - dense_3_acc_4: 0.6395 - dense_3_acc_5: 1.0000 - dense_3_acc_6: 0.9681 - dense_3_acc_7: 0.7289 - dense_3_acc_8: 0.9999 - dense_3_acc_9: 0.7186 - dense_3_acc_10: 0.6572    \n",
      "Epoch 6/50\n",
      "10000/10000 [==============================] - 29s - loss: 3.3976 - dense_3_loss_1: 0.0703 - dense_3_loss_2: 0.0551 - dense_3_loss_3: 0.2975 - dense_3_loss_4: 0.7887 - dense_3_loss_5: 0.0082 - dense_3_loss_6: 0.1070 - dense_3_loss_7: 0.6955 - dense_3_loss_8: 0.0142 - dense_3_loss_9: 0.6506 - dense_3_loss_10: 0.7106 - dense_3_acc_1: 0.9810 - dense_3_acc_2: 0.9832 - dense_3_acc_3: 0.9088 - dense_3_acc_4: 0.7975 - dense_3_acc_5: 1.0000 - dense_3_acc_6: 0.9707 - dense_3_acc_7: 0.7867 - dense_3_acc_8: 0.9999 - dense_3_acc_9: 0.7701 - dense_3_acc_10: 0.7780    \n",
      "Epoch 7/50\n",
      "10000/10000 [==============================] - 31s - loss: 2.6648 - dense_3_loss_1: 0.0630 - dense_3_loss_2: 0.0487 - dense_3_loss_3: 0.2521 - dense_3_loss_4: 0.5210 - dense_3_loss_5: 0.0062 - dense_3_loss_6: 0.0939 - dense_3_loss_7: 0.5751 - dense_3_loss_8: 0.0112 - dense_3_loss_9: 0.5960 - dense_3_loss_10: 0.4975 - dense_3_acc_1: 0.9817 - dense_3_acc_2: 0.9850 - dense_3_acc_3: 0.9275 - dense_3_acc_4: 0.8863 - dense_3_acc_5: 1.0000 - dense_3_acc_6: 0.9750 - dense_3_acc_7: 0.8242 - dense_3_acc_8: 1.0000 - dense_3_acc_9: 0.7962 - dense_3_acc_10: 0.8489    \n",
      "Epoch 8/50\n",
      "10000/10000 [==============================] - 30s - loss: 2.1511 - dense_3_loss_1: 0.0600 - dense_3_loss_2: 0.0428 - dense_3_loss_3: 0.2091 - dense_3_loss_4: 0.3697 - dense_3_loss_5: 0.0048 - dense_3_loss_6: 0.0816 - dense_3_loss_7: 0.4798 - dense_3_loss_8: 0.0095 - dense_3_loss_9: 0.5427 - dense_3_loss_10: 0.3512 - dense_3_acc_1: 0.9820 - dense_3_acc_2: 0.9864 - dense_3_acc_3: 0.9455 - dense_3_acc_4: 0.9240 - dense_3_acc_5: 1.0000 - dense_3_acc_6: 0.9766 - dense_3_acc_7: 0.8606 - dense_3_acc_8: 1.0000 - dense_3_acc_9: 0.8141 - dense_3_acc_10: 0.8958    \n",
      "Epoch 9/50\n",
      "10000/10000 [==============================] - 29s - loss: 1.7774 - dense_3_loss_1: 0.0494 - dense_3_loss_2: 0.0344 - dense_3_loss_3: 0.1692 - dense_3_loss_4: 0.2826 - dense_3_loss_5: 0.0038 - dense_3_loss_6: 0.0708 - dense_3_loss_7: 0.4034 - dense_3_loss_8: 0.0081 - dense_3_loss_9: 0.4902 - dense_3_loss_10: 0.2654 - dense_3_acc_1: 0.9850 - dense_3_acc_2: 0.9896 - dense_3_acc_3: 0.9640 - dense_3_acc_4: 0.9493 - dense_3_acc_5: 1.0000 - dense_3_acc_6: 0.9804 - dense_3_acc_7: 0.8899 - dense_3_acc_8: 0.9999 - dense_3_acc_9: 0.8300 - dense_3_acc_10: 0.9268    \n",
      "Epoch 10/50\n",
      "10000/10000 [==============================] - 30s - loss: 1.4877 - dense_3_loss_1: 0.0421 - dense_3_loss_2: 0.0274 - dense_3_loss_3: 0.1350 - dense_3_loss_4: 0.2234 - dense_3_loss_5: 0.0033 - dense_3_loss_6: 0.0621 - dense_3_loss_7: 0.3424 - dense_3_loss_8: 0.0069 - dense_3_loss_9: 0.4410 - dense_3_loss_10: 0.2040 - dense_3_acc_1: 0.9883 - dense_3_acc_2: 0.9921 - dense_3_acc_3: 0.9732 - dense_3_acc_4: 0.9689 - dense_3_acc_5: 1.0000 - dense_3_acc_6: 0.9834 - dense_3_acc_7: 0.9142 - dense_3_acc_8: 0.9998 - dense_3_acc_9: 0.8427 - dense_3_acc_10: 0.9479    \n",
      "Epoch 11/50\n",
      "10000/10000 [==============================] - 29s - loss: 1.2611 - dense_3_loss_1: 0.0353 - dense_3_loss_2: 0.0211 - dense_3_loss_3: 0.1080 - dense_3_loss_4: 0.1770 - dense_3_loss_5: 0.0029 - dense_3_loss_6: 0.0580 - dense_3_loss_7: 0.2962 - dense_3_loss_8: 0.0062 - dense_3_loss_9: 0.3926 - dense_3_loss_10: 0.1638 - dense_3_acc_1: 0.9910 - dense_3_acc_2: 0.9943 - dense_3_acc_3: 0.9808 - dense_3_acc_4: 0.9860 - dense_3_acc_5: 1.0000 - dense_3_acc_6: 0.9830 - dense_3_acc_7: 0.9288 - dense_3_acc_8: 0.9998 - dense_3_acc_9: 0.8634 - dense_3_acc_10: 0.9629    \n",
      "Epoch 12/50\n",
      "10000/10000 [==============================] - 29s - loss: 1.0776 - dense_3_loss_1: 0.0297 - dense_3_loss_2: 0.0168 - dense_3_loss_3: 0.0858 - dense_3_loss_4: 0.1418 - dense_3_loss_5: 0.0026 - dense_3_loss_6: 0.0529 - dense_3_loss_7: 0.2578 - dense_3_loss_8: 0.0052 - dense_3_loss_9: 0.3508 - dense_3_loss_10: 0.1343 - dense_3_acc_1: 0.9930 - dense_3_acc_2: 0.9961 - dense_3_acc_3: 0.9849 - dense_3_acc_4: 0.9934 - dense_3_acc_5: 1.0000 - dense_3_acc_6: 0.9843 - dense_3_acc_7: 0.9407 - dense_3_acc_8: 0.9998 - dense_3_acc_9: 0.8849 - dense_3_acc_10: 0.9745    \n",
      "Epoch 13/50\n",
      "10000/10000 [==============================] - 29s - loss: 0.9182 - dense_3_loss_1: 0.0249 - dense_3_loss_2: 0.0131 - dense_3_loss_3: 0.0686 - dense_3_loss_4: 0.1138 - dense_3_loss_5: 0.0024 - dense_3_loss_6: 0.0494 - dense_3_loss_7: 0.2283 - dense_3_loss_8: 0.0048 - dense_3_loss_9: 0.3034 - dense_3_loss_10: 0.1095 - dense_3_acc_1: 0.9957 - dense_3_acc_2: 0.9975 - dense_3_acc_3: 0.9884 - dense_3_acc_4: 0.9969 - dense_3_acc_5: 1.0000 - dense_3_acc_6: 0.9843 - dense_3_acc_7: 0.9464 - dense_3_acc_8: 0.9999 - dense_3_acc_9: 0.9068 - dense_3_acc_10: 0.9813    \n",
      "Epoch 14/50\n",
      "10000/10000 [==============================] - 28s - loss: 0.7966 - dense_3_loss_1: 0.0212 - dense_3_loss_2: 0.0104 - dense_3_loss_3: 0.0547 - dense_3_loss_4: 0.0944 - dense_3_loss_5: 0.0022 - dense_3_loss_6: 0.0462 - dense_3_loss_7: 0.2044 - dense_3_loss_8: 0.0044 - dense_3_loss_9: 0.2658 - dense_3_loss_10: 0.0929 - dense_3_acc_1: 0.9972 - dense_3_acc_2: 0.9985 - dense_3_acc_3: 0.9918 - dense_3_acc_4: 0.9980 - dense_3_acc_5: 1.0000 - dense_3_acc_6: 0.9855 - dense_3_acc_7: 0.9516 - dense_3_acc_8: 0.9999 - dense_3_acc_9: 0.9201 - dense_3_acc_10: 0.9847    \n",
      "Epoch 15/50\n"
     ]
    },
    {
     "name": "stdout",
     "output_type": "stream",
     "text": [
      "10000/10000 [==============================] - 30s - loss: 0.6984 - dense_3_loss_1: 0.0183 - dense_3_loss_2: 0.0087 - dense_3_loss_3: 0.0452 - dense_3_loss_4: 0.0791 - dense_3_loss_5: 0.0019 - dense_3_loss_6: 0.0435 - dense_3_loss_7: 0.1851 - dense_3_loss_8: 0.0040 - dense_3_loss_9: 0.2335 - dense_3_loss_10: 0.0791 - dense_3_acc_1: 0.9976 - dense_3_acc_2: 0.9987 - dense_3_acc_3: 0.9947 - dense_3_acc_4: 0.9988 - dense_3_acc_5: 1.0000 - dense_3_acc_6: 0.9851 - dense_3_acc_7: 0.9549 - dense_3_acc_8: 0.9999 - dense_3_acc_9: 0.9327 - dense_3_acc_10: 0.9885    \n",
      "Epoch 16/50\n",
      "10000/10000 [==============================] - 29s - loss: 0.6163 - dense_3_loss_1: 0.0160 - dense_3_loss_2: 0.0075 - dense_3_loss_3: 0.0381 - dense_3_loss_4: 0.0668 - dense_3_loss_5: 0.0018 - dense_3_loss_6: 0.0414 - dense_3_loss_7: 0.1703 - dense_3_loss_8: 0.0038 - dense_3_loss_9: 0.2028 - dense_3_loss_10: 0.0678 - dense_3_acc_1: 0.9979 - dense_3_acc_2: 0.9992 - dense_3_acc_3: 0.9958 - dense_3_acc_4: 0.9992 - dense_3_acc_5: 1.0000 - dense_3_acc_6: 0.9868 - dense_3_acc_7: 0.9578 - dense_3_acc_8: 0.9999 - dense_3_acc_9: 0.9419 - dense_3_acc_10: 0.9913    \n",
      "Epoch 17/50\n",
      "10000/10000 [==============================] - 28s - loss: 0.5449 - dense_3_loss_1: 0.0137 - dense_3_loss_2: 0.0063 - dense_3_loss_3: 0.0318 - dense_3_loss_4: 0.0574 - dense_3_loss_5: 0.0016 - dense_3_loss_6: 0.0387 - dense_3_loss_7: 0.1557 - dense_3_loss_8: 0.0036 - dense_3_loss_9: 0.1770 - dense_3_loss_10: 0.0592 - dense_3_acc_1: 0.9990 - dense_3_acc_2: 0.9994 - dense_3_acc_3: 0.9964 - dense_3_acc_4: 0.9995 - dense_3_acc_5: 1.0000 - dense_3_acc_6: 0.9871 - dense_3_acc_7: 0.9615 - dense_3_acc_8: 1.0000 - dense_3_acc_9: 0.9500 - dense_3_acc_10: 0.9931    \n",
      "Epoch 18/50\n",
      "10000/10000 [==============================] - 28s - loss: 0.4900 - dense_3_loss_1: 0.0125 - dense_3_loss_2: 0.0057 - dense_3_loss_3: 0.0276 - dense_3_loss_4: 0.0502 - dense_3_loss_5: 0.0015 - dense_3_loss_6: 0.0370 - dense_3_loss_7: 0.1451 - dense_3_loss_8: 0.0034 - dense_3_loss_9: 0.1549 - dense_3_loss_10: 0.0521 - dense_3_acc_1: 0.9992 - dense_3_acc_2: 0.9995 - dense_3_acc_3: 0.9970 - dense_3_acc_4: 0.9996 - dense_3_acc_5: 1.0000 - dense_3_acc_6: 0.9881 - dense_3_acc_7: 0.9628 - dense_3_acc_8: 0.9999 - dense_3_acc_9: 0.9578 - dense_3_acc_10: 0.9945    \n",
      "Epoch 19/50\n",
      "10000/10000 [==============================] - 29s - loss: 0.4434 - dense_3_loss_1: 0.0110 - dense_3_loss_2: 0.0050 - dense_3_loss_3: 0.0237 - dense_3_loss_4: 0.0444 - dense_3_loss_5: 0.0014 - dense_3_loss_6: 0.0356 - dense_3_loss_7: 0.1355 - dense_3_loss_8: 0.0032 - dense_3_loss_9: 0.1368 - dense_3_loss_10: 0.0469 - dense_3_acc_1: 0.9991 - dense_3_acc_2: 0.9997 - dense_3_acc_3: 0.9982 - dense_3_acc_4: 0.9995 - dense_3_acc_5: 1.0000 - dense_3_acc_6: 0.9881 - dense_3_acc_7: 0.9654 - dense_3_acc_8: 0.9999 - dense_3_acc_9: 0.9645 - dense_3_acc_10: 0.9955    \n",
      "Epoch 20/50\n",
      "10000/10000 [==============================] - 29s - loss: 0.3997 - dense_3_loss_1: 0.0099 - dense_3_loss_2: 0.0045 - dense_3_loss_3: 0.0209 - dense_3_loss_4: 0.0390 - dense_3_loss_5: 0.0013 - dense_3_loss_6: 0.0340 - dense_3_loss_7: 0.1269 - dense_3_loss_8: 0.0032 - dense_3_loss_9: 0.1182 - dense_3_loss_10: 0.0417 - dense_3_acc_1: 0.9995 - dense_3_acc_2: 0.9998 - dense_3_acc_3: 0.9987 - dense_3_acc_4: 0.9997 - dense_3_acc_5: 1.0000 - dense_3_acc_6: 0.9886 - dense_3_acc_7: 0.9676 - dense_3_acc_8: 1.0000 - dense_3_acc_9: 0.9712 - dense_3_acc_10: 0.9956    \n",
      "Epoch 21/50\n",
      "10000/10000 [==============================] - 29s - loss: 0.3646 - dense_3_loss_1: 0.0090 - dense_3_loss_2: 0.0042 - dense_3_loss_3: 0.0183 - dense_3_loss_4: 0.0353 - dense_3_loss_5: 0.0012 - dense_3_loss_6: 0.0319 - dense_3_loss_7: 0.1197 - dense_3_loss_8: 0.0030 - dense_3_loss_9: 0.1052 - dense_3_loss_10: 0.0368 - dense_3_acc_1: 0.9994 - dense_3_acc_2: 0.9998 - dense_3_acc_3: 0.9991 - dense_3_acc_4: 0.9997 - dense_3_acc_5: 1.0000 - dense_3_acc_6: 0.9892 - dense_3_acc_7: 0.9693 - dense_3_acc_8: 1.0000 - dense_3_acc_9: 0.9779 - dense_3_acc_10: 0.9970    \n",
      "Epoch 22/50\n",
      "10000/10000 [==============================] - 29s - loss: 0.3353 - dense_3_loss_1: 0.0082 - dense_3_loss_2: 0.0038 - dense_3_loss_3: 0.0163 - dense_3_loss_4: 0.0322 - dense_3_loss_5: 0.0011 - dense_3_loss_6: 0.0312 - dense_3_loss_7: 0.1132 - dense_3_loss_8: 0.0028 - dense_3_loss_9: 0.0930 - dense_3_loss_10: 0.0335 - dense_3_acc_1: 0.9997 - dense_3_acc_2: 1.0000 - dense_3_acc_3: 0.9993 - dense_3_acc_4: 0.9998 - dense_3_acc_5: 1.0000 - dense_3_acc_6: 0.9894 - dense_3_acc_7: 0.9702 - dense_3_acc_8: 1.0000 - dense_3_acc_9: 0.9816 - dense_3_acc_10: 0.9978    \n",
      "Epoch 23/50\n",
      "10000/10000 [==============================] - 30s - loss: 0.3083 - dense_3_loss_1: 0.0076 - dense_3_loss_2: 0.0036 - dense_3_loss_3: 0.0149 - dense_3_loss_4: 0.0288 - dense_3_loss_5: 0.0011 - dense_3_loss_6: 0.0294 - dense_3_loss_7: 0.1070 - dense_3_loss_8: 0.0026 - dense_3_loss_9: 0.0827 - dense_3_loss_10: 0.0306 - dense_3_acc_1: 0.9996 - dense_3_acc_2: 0.9998 - dense_3_acc_3: 0.9994 - dense_3_acc_4: 0.9998 - dense_3_acc_5: 1.0000 - dense_3_acc_6: 0.9898 - dense_3_acc_7: 0.9715 - dense_3_acc_8: 1.0000 - dense_3_acc_9: 0.9847 - dense_3_acc_10: 0.9977    \n",
      "Epoch 24/50\n",
      "10000/10000 [==============================] - 29s - loss: 0.2830 - dense_3_loss_1: 0.0069 - dense_3_loss_2: 0.0033 - dense_3_loss_3: 0.0133 - dense_3_loss_4: 0.0268 - dense_3_loss_5: 9.7675e-04 - dense_3_loss_6: 0.0282 - dense_3_loss_7: 0.1014 - dense_3_loss_8: 0.0025 - dense_3_loss_9: 0.0722 - dense_3_loss_10: 0.0275 - dense_3_acc_1: 0.9998 - dense_3_acc_2: 1.0000 - dense_3_acc_3: 0.9994 - dense_3_acc_4: 0.9999 - dense_3_acc_5: 1.0000 - dense_3_acc_6: 0.9901 - dense_3_acc_7: 0.9730 - dense_3_acc_8: 1.0000 - dense_3_acc_9: 0.9860 - dense_3_acc_10: 0.9983    \n",
      "Epoch 25/50\n",
      "10000/10000 [==============================] - 29s - loss: 0.2641 - dense_3_loss_1: 0.0066 - dense_3_loss_2: 0.0031 - dense_3_loss_3: 0.0124 - dense_3_loss_4: 0.0243 - dense_3_loss_5: 9.3192e-04 - dense_3_loss_6: 0.0277 - dense_3_loss_7: 0.0965 - dense_3_loss_8: 0.0025 - dense_3_loss_9: 0.0646 - dense_3_loss_10: 0.0253 - dense_3_acc_1: 0.9999 - dense_3_acc_2: 1.0000 - dense_3_acc_3: 0.9994 - dense_3_acc_4: 0.9998 - dense_3_acc_5: 1.0000 - dense_3_acc_6: 0.9901 - dense_3_acc_7: 0.9752 - dense_3_acc_8: 1.0000 - dense_3_acc_9: 0.9881 - dense_3_acc_10: 0.9981    \n",
      "Epoch 26/50\n",
      "10000/10000 [==============================] - 28s - loss: 0.2460 - dense_3_loss_1: 0.0060 - dense_3_loss_2: 0.0029 - dense_3_loss_3: 0.0112 - dense_3_loss_4: 0.0228 - dense_3_loss_5: 8.9840e-04 - dense_3_loss_6: 0.0266 - dense_3_loss_7: 0.0921 - dense_3_loss_8: 0.0023 - dense_3_loss_9: 0.0579 - dense_3_loss_10: 0.0233 - dense_3_acc_1: 0.9998 - dense_3_acc_2: 1.0000 - dense_3_acc_3: 0.9997 - dense_3_acc_4: 1.0000 - dense_3_acc_5: 1.0000 - dense_3_acc_6: 0.9898 - dense_3_acc_7: 0.9752 - dense_3_acc_8: 1.0000 - dense_3_acc_9: 0.9897 - dense_3_acc_10: 0.9985    \n",
      "Epoch 27/50\n",
      "10000/10000 [==============================] - 29s - loss: 0.2298 - dense_3_loss_1: 0.0056 - dense_3_loss_2: 0.0027 - dense_3_loss_3: 0.0103 - dense_3_loss_4: 0.0211 - dense_3_loss_5: 8.3824e-04 - dense_3_loss_6: 0.0255 - dense_3_loss_7: 0.0875 - dense_3_loss_8: 0.0022 - dense_3_loss_9: 0.0528 - dense_3_loss_10: 0.0212 - dense_3_acc_1: 0.9998 - dense_3_acc_2: 1.0000 - dense_3_acc_3: 0.9998 - dense_3_acc_4: 1.0000 - dense_3_acc_5: 1.0000 - dense_3_acc_6: 0.9910 - dense_3_acc_7: 0.9776 - dense_3_acc_8: 1.0000 - dense_3_acc_9: 0.9903 - dense_3_acc_10: 0.9988    \n",
      "Epoch 28/50\n",
      "10000/10000 [==============================] - 29s - loss: 0.2176 - dense_3_loss_1: 0.0053 - dense_3_loss_2: 0.0026 - dense_3_loss_3: 0.0096 - dense_3_loss_4: 0.0195 - dense_3_loss_5: 8.0130e-04 - dense_3_loss_6: 0.0258 - dense_3_loss_7: 0.0840 - dense_3_loss_8: 0.0021 - dense_3_loss_9: 0.0481 - dense_3_loss_10: 0.0198 - dense_3_acc_1: 0.9999 - dense_3_acc_2: 1.0000 - dense_3_acc_3: 0.9998 - dense_3_acc_4: 1.0000 - dense_3_acc_5: 1.0000 - dense_3_acc_6: 0.9909 - dense_3_acc_7: 0.9772 - dense_3_acc_8: 1.0000 - dense_3_acc_9: 0.9917 - dense_3_acc_10: 0.9992    \n",
      "Epoch 29/50\n"
     ]
    },
    {
     "name": "stdout",
     "output_type": "stream",
     "text": [
      "10000/10000 [==============================] - 29s - loss: 0.2039 - dense_3_loss_1: 0.0049 - dense_3_loss_2: 0.0025 - dense_3_loss_3: 0.0090 - dense_3_loss_4: 0.0184 - dense_3_loss_5: 7.5830e-04 - dense_3_loss_6: 0.0238 - dense_3_loss_7: 0.0805 - dense_3_loss_8: 0.0020 - dense_3_loss_9: 0.0437 - dense_3_loss_10: 0.0182 - dense_3_acc_1: 0.9999 - dense_3_acc_2: 1.0000 - dense_3_acc_3: 0.9998 - dense_3_acc_4: 1.0000 - dense_3_acc_5: 1.0000 - dense_3_acc_6: 0.9904 - dense_3_acc_7: 0.9783 - dense_3_acc_8: 1.0000 - dense_3_acc_9: 0.9929 - dense_3_acc_10: 0.9990    \n",
      "Epoch 30/50\n",
      "10000/10000 [==============================] - 28s - loss: 0.1923 - dense_3_loss_1: 0.0047 - dense_3_loss_2: 0.0023 - dense_3_loss_3: 0.0082 - dense_3_loss_4: 0.0172 - dense_3_loss_5: 7.3626e-04 - dense_3_loss_6: 0.0231 - dense_3_loss_7: 0.0766 - dense_3_loss_8: 0.0020 - dense_3_loss_9: 0.0403 - dense_3_loss_10: 0.0172 - dense_3_acc_1: 0.9999 - dense_3_acc_2: 1.0000 - dense_3_acc_3: 0.9999 - dense_3_acc_4: 1.0000 - dense_3_acc_5: 1.0000 - dense_3_acc_6: 0.9917 - dense_3_acc_7: 0.9807 - dense_3_acc_8: 1.0000 - dense_3_acc_9: 0.9937 - dense_3_acc_10: 0.9991    \n",
      "Epoch 31/50\n",
      "10000/10000 [==============================] - 30s - loss: 0.1807 - dense_3_loss_1: 0.0044 - dense_3_loss_2: 0.0022 - dense_3_loss_3: 0.0077 - dense_3_loss_4: 0.0161 - dense_3_loss_5: 7.0320e-04 - dense_3_loss_6: 0.0225 - dense_3_loss_7: 0.0735 - dense_3_loss_8: 0.0018 - dense_3_loss_9: 0.0362 - dense_3_loss_10: 0.0157 - dense_3_acc_1: 0.9999 - dense_3_acc_2: 1.0000 - dense_3_acc_3: 0.9999 - dense_3_acc_4: 1.0000 - dense_3_acc_5: 1.0000 - dense_3_acc_6: 0.9913 - dense_3_acc_7: 0.9816 - dense_3_acc_8: 1.0000 - dense_3_acc_9: 0.9945 - dense_3_acc_10: 0.9994    \n",
      "Epoch 32/50\n",
      "10000/10000 [==============================] - 29s - loss: 0.1723 - dense_3_loss_1: 0.0041 - dense_3_loss_2: 0.0021 - dense_3_loss_3: 0.0073 - dense_3_loss_4: 0.0153 - dense_3_loss_5: 6.5911e-04 - dense_3_loss_6: 0.0222 - dense_3_loss_7: 0.0707 - dense_3_loss_8: 0.0018 - dense_3_loss_9: 0.0334 - dense_3_loss_10: 0.0148 - dense_3_acc_1: 0.9999 - dense_3_acc_2: 1.0000 - dense_3_acc_3: 0.9999 - dense_3_acc_4: 1.0000 - dense_3_acc_5: 1.0000 - dense_3_acc_6: 0.9910 - dense_3_acc_7: 0.9821 - dense_3_acc_8: 1.0000 - dense_3_acc_9: 0.9950 - dense_3_acc_10: 0.9994    \n",
      "Epoch 33/50\n",
      "10000/10000 [==============================] - 30s - loss: 0.1646 - dense_3_loss_1: 0.0039 - dense_3_loss_2: 0.0020 - dense_3_loss_3: 0.0069 - dense_3_loss_4: 0.0143 - dense_3_loss_5: 6.3151e-04 - dense_3_loss_6: 0.0222 - dense_3_loss_7: 0.0683 - dense_3_loss_8: 0.0017 - dense_3_loss_9: 0.0308 - dense_3_loss_10: 0.0138 - dense_3_acc_1: 0.9999 - dense_3_acc_2: 1.0000 - dense_3_acc_3: 0.9999 - dense_3_acc_4: 1.0000 - dense_3_acc_5: 1.0000 - dense_3_acc_6: 0.9921 - dense_3_acc_7: 0.9827 - dense_3_acc_8: 1.0000 - dense_3_acc_9: 0.9960 - dense_3_acc_10: 0.9995    \n",
      "Epoch 34/50\n",
      "10000/10000 [==============================] - 28s - loss: 0.1569 - dense_3_loss_1: 0.0037 - dense_3_loss_2: 0.0019 - dense_3_loss_3: 0.0065 - dense_3_loss_4: 0.0138 - dense_3_loss_5: 6.0901e-04 - dense_3_loss_6: 0.0206 - dense_3_loss_7: 0.0654 - dense_3_loss_8: 0.0017 - dense_3_loss_9: 0.0296 - dense_3_loss_10: 0.0132 - dense_3_acc_1: 0.9999 - dense_3_acc_2: 1.0000 - dense_3_acc_3: 0.9999 - dense_3_acc_4: 1.0000 - dense_3_acc_5: 1.0000 - dense_3_acc_6: 0.9921 - dense_3_acc_7: 0.9835 - dense_3_acc_8: 1.0000 - dense_3_acc_9: 0.9957 - dense_3_acc_10: 0.9998    \n",
      "Epoch 35/50\n",
      "10000/10000 [==============================] - 28s - loss: 0.1489 - dense_3_loss_1: 0.0036 - dense_3_loss_2: 0.0018 - dense_3_loss_3: 0.0060 - dense_3_loss_4: 0.0131 - dense_3_loss_5: 5.7448e-04 - dense_3_loss_6: 0.0201 - dense_3_loss_7: 0.0630 - dense_3_loss_8: 0.0015 - dense_3_loss_9: 0.0269 - dense_3_loss_10: 0.0123 - dense_3_acc_1: 0.9999 - dense_3_acc_2: 1.0000 - dense_3_acc_3: 0.9999 - dense_3_acc_4: 1.0000 - dense_3_acc_5: 1.0000 - dense_3_acc_6: 0.9926 - dense_3_acc_7: 0.9842 - dense_3_acc_8: 1.0000 - dense_3_acc_9: 0.9963 - dense_3_acc_10: 0.9995    \n",
      "Epoch 36/50\n",
      "10000/10000 [==============================] - 29s - loss: 0.1430 - dense_3_loss_1: 0.0033 - dense_3_loss_2: 0.0018 - dense_3_loss_3: 0.0059 - dense_3_loss_4: 0.0123 - dense_3_loss_5: 5.6120e-04 - dense_3_loss_6: 0.0199 - dense_3_loss_7: 0.0610 - dense_3_loss_8: 0.0015 - dense_3_loss_9: 0.0252 - dense_3_loss_10: 0.0115 - dense_3_acc_1: 0.9999 - dense_3_acc_2: 1.0000 - dense_3_acc_3: 0.9999 - dense_3_acc_4: 1.0000 - dense_3_acc_5: 1.0000 - dense_3_acc_6: 0.9921 - dense_3_acc_7: 0.9838 - dense_3_acc_8: 1.0000 - dense_3_acc_9: 0.9965 - dense_3_acc_10: 0.9998    \n",
      "Epoch 37/50\n",
      "10000/10000 [==============================] - 30s - loss: 0.1365 - dense_3_loss_1: 0.0031 - dense_3_loss_2: 0.0017 - dense_3_loss_3: 0.0054 - dense_3_loss_4: 0.0117 - dense_3_loss_5: 5.4656e-04 - dense_3_loss_6: 0.0189 - dense_3_loss_7: 0.0585 - dense_3_loss_8: 0.0015 - dense_3_loss_9: 0.0241 - dense_3_loss_10: 0.0111 - dense_3_acc_1: 1.0000 - dense_3_acc_2: 1.0000 - dense_3_acc_3: 0.9999 - dense_3_acc_4: 1.0000 - dense_3_acc_5: 1.0000 - dense_3_acc_6: 0.9930 - dense_3_acc_7: 0.9848 - dense_3_acc_8: 1.0000 - dense_3_acc_9: 0.9968 - dense_3_acc_10: 0.9998    \n",
      "Epoch 38/50\n",
      "10000/10000 [==============================] - 28s - loss: 0.1300 - dense_3_loss_1: 0.0030 - dense_3_loss_2: 0.0016 - dense_3_loss_3: 0.0052 - dense_3_loss_4: 0.0113 - dense_3_loss_5: 5.2594e-04 - dense_3_loss_6: 0.0186 - dense_3_loss_7: 0.0561 - dense_3_loss_8: 0.0014 - dense_3_loss_9: 0.0220 - dense_3_loss_10: 0.0103 - dense_3_acc_1: 1.0000 - dense_3_acc_2: 1.0000 - dense_3_acc_3: 0.9999 - dense_3_acc_4: 1.0000 - dense_3_acc_5: 1.0000 - dense_3_acc_6: 0.9931 - dense_3_acc_7: 0.9867 - dense_3_acc_8: 1.0000 - dense_3_acc_9: 0.9977 - dense_3_acc_10: 0.9998    \n",
      "Epoch 39/50\n",
      "10000/10000 [==============================] - 29s - loss: 0.1245 - dense_3_loss_1: 0.0029 - dense_3_loss_2: 0.0016 - dense_3_loss_3: 0.0049 - dense_3_loss_4: 0.0107 - dense_3_loss_5: 5.0817e-04 - dense_3_loss_6: 0.0177 - dense_3_loss_7: 0.0542 - dense_3_loss_8: 0.0014 - dense_3_loss_9: 0.0208 - dense_3_loss_10: 0.0099 - dense_3_acc_1: 1.0000 - dense_3_acc_2: 1.0000 - dense_3_acc_3: 0.9999 - dense_3_acc_4: 1.0000 - dense_3_acc_5: 1.0000 - dense_3_acc_6: 0.9935 - dense_3_acc_7: 0.9867 - dense_3_acc_8: 1.0000 - dense_3_acc_9: 0.9973 - dense_3_acc_10: 0.9999    \n",
      "Epoch 40/50\n",
      "10000/10000 [==============================] - 29s - loss: 0.1205 - dense_3_loss_1: 0.0028 - dense_3_loss_2: 0.0015 - dense_3_loss_3: 0.0047 - dense_3_loss_4: 0.0103 - dense_3_loss_5: 4.9195e-04 - dense_3_loss_6: 0.0177 - dense_3_loss_7: 0.0527 - dense_3_loss_8: 0.0013 - dense_3_loss_9: 0.0196 - dense_3_loss_10: 0.0094 - dense_3_acc_1: 1.0000 - dense_3_acc_2: 1.0000 - dense_3_acc_3: 0.9999 - dense_3_acc_4: 1.0000 - dense_3_acc_5: 1.0000 - dense_3_acc_6: 0.9929 - dense_3_acc_7: 0.9867 - dense_3_acc_8: 1.0000 - dense_3_acc_9: 0.9979 - dense_3_acc_10: 0.9999    \n",
      "Epoch 41/50\n",
      "10000/10000 [==============================] - 29s - loss: 0.1162 - dense_3_loss_1: 0.0027 - dense_3_loss_2: 0.0015 - dense_3_loss_3: 0.0045 - dense_3_loss_4: 0.0097 - dense_3_loss_5: 4.6329e-04 - dense_3_loss_6: 0.0174 - dense_3_loss_7: 0.0514 - dense_3_loss_8: 0.0012 - dense_3_loss_9: 0.0183 - dense_3_loss_10: 0.0091 - dense_3_acc_1: 1.0000 - dense_3_acc_2: 1.0000 - dense_3_acc_3: 0.9999 - dense_3_acc_4: 1.0000 - dense_3_acc_5: 1.0000 - dense_3_acc_6: 0.9936 - dense_3_acc_7: 0.9873 - dense_3_acc_8: 1.0000 - dense_3_acc_9: 0.9980 - dense_3_acc_10: 0.9998    \n",
      "Epoch 42/50\n",
      "10000/10000 [==============================] - 29s - loss: 0.1106 - dense_3_loss_1: 0.0026 - dense_3_loss_2: 0.0014 - dense_3_loss_3: 0.0043 - dense_3_loss_4: 0.0095 - dense_3_loss_5: 4.5973e-04 - dense_3_loss_6: 0.0164 - dense_3_loss_7: 0.0486 - dense_3_loss_8: 0.0012 - dense_3_loss_9: 0.0176 - dense_3_loss_10: 0.0086 - dense_3_acc_1: 1.0000 - dense_3_acc_2: 1.0000 - dense_3_acc_3: 1.0000 - dense_3_acc_4: 1.0000 - dense_3_acc_5: 1.0000 - dense_3_acc_6: 0.9938 - dense_3_acc_7: 0.9881 - dense_3_acc_8: 1.0000 - dense_3_acc_9: 0.9985 - dense_3_acc_10: 0.9998    \n",
      "Epoch 43/50\n"
     ]
    },
    {
     "name": "stdout",
     "output_type": "stream",
     "text": [
      "10000/10000 [==============================] - 30s - loss: 0.1064 - dense_3_loss_1: 0.0025 - dense_3_loss_2: 0.0014 - dense_3_loss_3: 0.0041 - dense_3_loss_4: 0.0089 - dense_3_loss_5: 4.3388e-04 - dense_3_loss_6: 0.0161 - dense_3_loss_7: 0.0472 - dense_3_loss_8: 0.0012 - dense_3_loss_9: 0.0163 - dense_3_loss_10: 0.0082 - dense_3_acc_1: 1.0000 - dense_3_acc_2: 1.0000 - dense_3_acc_3: 1.0000 - dense_3_acc_4: 1.0000 - dense_3_acc_5: 1.0000 - dense_3_acc_6: 0.9945 - dense_3_acc_7: 0.9891 - dense_3_acc_8: 1.0000 - dense_3_acc_9: 0.9986 - dense_3_acc_10: 1.0000    \n",
      "Epoch 44/50\n",
      "10000/10000 [==============================] - 29s - loss: 0.1016 - dense_3_loss_1: 0.0024 - dense_3_loss_2: 0.0013 - dense_3_loss_3: 0.0039 - dense_3_loss_4: 0.0086 - dense_3_loss_5: 4.3050e-04 - dense_3_loss_6: 0.0152 - dense_3_loss_7: 0.0454 - dense_3_loss_8: 0.0011 - dense_3_loss_9: 0.0155 - dense_3_loss_10: 0.0077 - dense_3_acc_1: 1.0000 - dense_3_acc_2: 1.0000 - dense_3_acc_3: 1.0000 - dense_3_acc_4: 1.0000 - dense_3_acc_5: 1.0000 - dense_3_acc_6: 0.9947 - dense_3_acc_7: 0.9895 - dense_3_acc_8: 1.0000 - dense_3_acc_9: 0.9987 - dense_3_acc_10: 1.0000    \n",
      "Epoch 45/50\n",
      "10000/10000 [==============================] - 29s - loss: 0.0988 - dense_3_loss_1: 0.0023 - dense_3_loss_2: 0.0013 - dense_3_loss_3: 0.0038 - dense_3_loss_4: 0.0083 - dense_3_loss_5: 4.1731e-04 - dense_3_loss_6: 0.0150 - dense_3_loss_7: 0.0440 - dense_3_loss_8: 0.0011 - dense_3_loss_9: 0.0151 - dense_3_loss_10: 0.0075 - dense_3_acc_1: 1.0000 - dense_3_acc_2: 1.0000 - dense_3_acc_3: 1.0000 - dense_3_acc_4: 1.0000 - dense_3_acc_5: 1.0000 - dense_3_acc_6: 0.9948 - dense_3_acc_7: 0.9895 - dense_3_acc_8: 1.0000 - dense_3_acc_9: 0.9987 - dense_3_acc_10: 1.0000    \n",
      "Epoch 46/50\n",
      "10000/10000 [==============================] - 29s - loss: 0.0945 - dense_3_loss_1: 0.0022 - dense_3_loss_2: 0.0012 - dense_3_loss_3: 0.0036 - dense_3_loss_4: 0.0080 - dense_3_loss_5: 4.0274e-04 - dense_3_loss_6: 0.0145 - dense_3_loss_7: 0.0426 - dense_3_loss_8: 0.0011 - dense_3_loss_9: 0.0137 - dense_3_loss_10: 0.0071 - dense_3_acc_1: 1.0000 - dense_3_acc_2: 1.0000 - dense_3_acc_3: 1.0000 - dense_3_acc_4: 1.0000 - dense_3_acc_5: 1.0000 - dense_3_acc_6: 0.9953 - dense_3_acc_7: 0.9900 - dense_3_acc_8: 1.0000 - dense_3_acc_9: 0.9992 - dense_3_acc_10: 0.9999    \n",
      "Epoch 47/50\n",
      "10000/10000 [==============================] - 29s - loss: 0.0919 - dense_3_loss_1: 0.0021 - dense_3_loss_2: 0.0012 - dense_3_loss_3: 0.0035 - dense_3_loss_4: 0.0077 - dense_3_loss_5: 3.8305e-04 - dense_3_loss_6: 0.0146 - dense_3_loss_7: 0.0408 - dense_3_loss_8: 0.0010 - dense_3_loss_9: 0.0135 - dense_3_loss_10: 0.0070 - dense_3_acc_1: 1.0000 - dense_3_acc_2: 1.0000 - dense_3_acc_3: 1.0000 - dense_3_acc_4: 1.0000 - dense_3_acc_5: 1.0000 - dense_3_acc_6: 0.9952 - dense_3_acc_7: 0.9907 - dense_3_acc_8: 1.0000 - dense_3_acc_9: 0.9988 - dense_3_acc_10: 1.0000    \n",
      "Epoch 48/50\n",
      "10000/10000 [==============================] - 29s - loss: 0.0893 - dense_3_loss_1: 0.0021 - dense_3_loss_2: 0.0011 - dense_3_loss_3: 0.0033 - dense_3_loss_4: 0.0074 - dense_3_loss_5: 3.8571e-04 - dense_3_loss_6: 0.0142 - dense_3_loss_7: 0.0402 - dense_3_loss_8: 0.0010 - dense_3_loss_9: 0.0129 - dense_3_loss_10: 0.0067 - dense_3_acc_1: 1.0000 - dense_3_acc_2: 1.0000 - dense_3_acc_3: 1.0000 - dense_3_acc_4: 1.0000 - dense_3_acc_5: 1.0000 - dense_3_acc_6: 0.9954 - dense_3_acc_7: 0.9908 - dense_3_acc_8: 1.0000 - dense_3_acc_9: 0.9988 - dense_3_acc_10: 1.0000        \n",
      "Epoch 49/50\n",
      "10000/10000 [==============================] - 29s - loss: 0.0856 - dense_3_loss_1: 0.0020 - dense_3_loss_2: 0.0011 - dense_3_loss_3: 0.0032 - dense_3_loss_4: 0.0072 - dense_3_loss_5: 3.6007e-04 - dense_3_loss_6: 0.0134 - dense_3_loss_7: 0.0387 - dense_3_loss_8: 9.7162e-04 - dense_3_loss_9: 0.0122 - dense_3_loss_10: 0.0064 - dense_3_acc_1: 1.0000 - dense_3_acc_2: 1.0000 - dense_3_acc_3: 1.0000 - dense_3_acc_4: 1.0000 - dense_3_acc_5: 1.0000 - dense_3_acc_6: 0.9951 - dense_3_acc_7: 0.9911 - dense_3_acc_8: 1.0000 - dense_3_acc_9: 0.9993 - dense_3_acc_10: 1.0000    \n",
      "Epoch 50/50\n",
      "10000/10000 [==============================] - 29s - loss: 0.0835 - dense_3_loss_1: 0.0019 - dense_3_loss_2: 0.0011 - dense_3_loss_3: 0.0031 - dense_3_loss_4: 0.0070 - dense_3_loss_5: 3.5699e-04 - dense_3_loss_6: 0.0134 - dense_3_loss_7: 0.0377 - dense_3_loss_8: 9.1806e-04 - dense_3_loss_9: 0.0118 - dense_3_loss_10: 0.0062 - dense_3_acc_1: 1.0000 - dense_3_acc_2: 1.0000 - dense_3_acc_3: 1.0000 - dense_3_acc_4: 1.0000 - dense_3_acc_5: 1.0000 - dense_3_acc_6: 0.9953 - dense_3_acc_7: 0.9924 - dense_3_acc_8: 1.0000 - dense_3_acc_9: 0.9993 - dense_3_acc_10: 1.0000    \n"
     ]
    },
    {
     "data": {
      "text/plain": [
       "<keras.callbacks.History at 0x7f36af358f60>"
      ]
     },
     "execution_count": 14,
     "metadata": {},
     "output_type": "execute_result"
    }
   ],
   "source": [
    "model.fit([Xoh, s0, c0], outputs, epochs=50, batch_size=100)"
   ]
  },
  {
   "cell_type": "markdown",
   "metadata": {},
   "source": [
    "While training you can see the loss as well as the accuracy on each of the 10 positions of the output. The table below gives you an example of what the accuracies could be if the batch had 2 examples: \n",
    "\n",
    "<img src=\"images/table.png\" style=\"width:700;height:200px;\"> <br>\n",
    "<caption><center>Thus, `dense_2_acc_8: 0.89` means that you are predicting the 7th character of the output correctly 89% of the time in the current batch of data. </center></caption>\n",
    "\n",
    "\n",
    "We have run this model for longer, and saved the weights. Run the next cell to load our weights. (By training a model for several minutes, you should be able to obtain a model of similar accuracy, but loading our model will save you time.) "
   ]
  },
  {
   "cell_type": "code",
   "execution_count": null,
   "metadata": {
    "collapsed": true
   },
   "outputs": [],
   "source": [
    "model.load_weights('models/model.h5')"
   ]
  },
  {
   "cell_type": "markdown",
   "metadata": {},
   "source": [
    "You can now see the results on new examples."
   ]
  },
  {
   "cell_type": "code",
   "execution_count": 15,
   "metadata": {},
   "outputs": [
    {
     "name": "stdout",
     "output_type": "stream",
     "text": [
      "source: 3 May 1979\n",
      "output: 1979-05-03\n",
      "source: 5 April 09\n",
      "output: 2999-04-04\n",
      "source: 21th of August 2016\n",
      "output: 2016-08-21\n",
      "source: Tue 10 Jul 2007\n",
      "output: 2007-08-10\n",
      "source: Saturday May 9 2018\n",
      "output: 2018-05-09\n",
      "source: March 3 2001\n",
      "output: 2001-03-03\n",
      "source: March 3rd 2001\n",
      "output: 2001-03-03\n",
      "source: 1 March 2001\n",
      "output: 2001-03-01\n"
     ]
    }
   ],
   "source": [
    "EXAMPLES = ['3 May 1979', '5 April 09', '21th of August 2016', 'Tue 10 Jul 2007', 'Saturday May 9 2018', 'March 3 2001', 'March 3rd 2001', '1 March 2001']\n",
    "for example in EXAMPLES:\n",
    "    \n",
    "    source = string_to_int(example, Tx, human_vocab)\n",
    "    source = np.array(list(map(lambda x: to_categorical(x, num_classes=len(human_vocab)), source))).swapaxes(0,1)\n",
    "    prediction = model.predict([source, s0, c0])\n",
    "    prediction = np.argmax(prediction, axis = -1)\n",
    "    output = [inv_machine_vocab[int(i)] for i in prediction]\n",
    "    \n",
    "    print(\"source:\", example)\n",
    "    print(\"output:\", ''.join(output))"
   ]
  },
  {
   "cell_type": "markdown",
   "metadata": {},
   "source": [
    "You can also change these examples to test with your own examples. The next part will give you a better sense on what the attention mechanism is doing--i.e., what part of the input the network is paying attention to when generating a particular output character. "
   ]
  },
  {
   "cell_type": "markdown",
   "metadata": {},
   "source": [
    "## 3 - Visualizing Attention (Optional / Ungraded)\n",
    "\n",
    "Since the problem has a fixed output length of 10, it is also possible to carry out this task using 10 different softmax units to generate the 10 characters of the output. But one advantage of the attention model is that each part of the output (say the month) knows it needs to depend only on a small part of the input (the characters in the input giving the month). We can  visualize what part of the output is looking at what part of the input.\n",
    "\n",
    "Consider the task of translating \"Saturday 9 May 2018\" to \"2018-05-09\". If we visualize the computed $\\alpha^{\\langle t, t' \\rangle}$ we get this: \n",
    "\n",
    "<img src=\"images/date_attention.png\" style=\"width:600;height:300px;\"> <br>\n",
    "<caption><center> **Figure 8**: Full Attention Map</center></caption>\n",
    "\n",
    "Notice how the output ignores the \"Saturday\" portion of the input. None of the output timesteps are paying much attention to that portion of the input. We see also that 9 has been translated as 09 and May has been correctly translated into 05, with the output paying attention to the parts of the input it needs to to make the translation. The year mostly requires it to pay attention to the input's \"18\" in order to generate \"2018.\" \n",
    "\n"
   ]
  },
  {
   "cell_type": "markdown",
   "metadata": {},
   "source": [
    "### 3.1 - Getting the activations from the network\n",
    "\n",
    "Lets now visualize the attention values in your network. We'll propagate an example through the network, then visualize the values of $\\alpha^{\\langle t, t' \\rangle}$. \n",
    "\n",
    "To figure out where the attention values are located, let's start by printing a summary of the model ."
   ]
  },
  {
   "cell_type": "code",
   "execution_count": 16,
   "metadata": {},
   "outputs": [
    {
     "name": "stdout",
     "output_type": "stream",
     "text": [
      "____________________________________________________________________________________________________\n",
      "Layer (type)                     Output Shape          Param #     Connected to                     \n",
      "====================================================================================================\n",
      "input_1 (InputLayer)             (None, 30, 37)        0                                            \n",
      "____________________________________________________________________________________________________\n",
      "s0 (InputLayer)                  (None, 64)            0                                            \n",
      "____________________________________________________________________________________________________\n",
      "bidirectional_1 (Bidirectional)  (None, 30, 64)        17920       input_1[0][0]                    \n",
      "____________________________________________________________________________________________________\n",
      "repeat_vector_1 (RepeatVector)   (None, 30, 64)        0           s0[0][0]                         \n",
      "                                                                   lstm_1[0][0]                     \n",
      "                                                                   lstm_1[1][0]                     \n",
      "                                                                   lstm_1[2][0]                     \n",
      "                                                                   lstm_1[3][0]                     \n",
      "                                                                   lstm_1[4][0]                     \n",
      "                                                                   lstm_1[5][0]                     \n",
      "                                                                   lstm_1[6][0]                     \n",
      "                                                                   lstm_1[7][0]                     \n",
      "                                                                   lstm_1[8][0]                     \n",
      "____________________________________________________________________________________________________\n",
      "concatenate_1 (Concatenate)      (None, 30, 128)       0           bidirectional_1[0][0]            \n",
      "                                                                   repeat_vector_1[0][0]            \n",
      "                                                                   bidirectional_1[0][0]            \n",
      "                                                                   repeat_vector_1[1][0]            \n",
      "                                                                   bidirectional_1[0][0]            \n",
      "                                                                   repeat_vector_1[2][0]            \n",
      "                                                                   bidirectional_1[0][0]            \n",
      "                                                                   repeat_vector_1[3][0]            \n",
      "                                                                   bidirectional_1[0][0]            \n",
      "                                                                   repeat_vector_1[4][0]            \n",
      "                                                                   bidirectional_1[0][0]            \n",
      "                                                                   repeat_vector_1[5][0]            \n",
      "                                                                   bidirectional_1[0][0]            \n",
      "                                                                   repeat_vector_1[6][0]            \n",
      "                                                                   bidirectional_1[0][0]            \n",
      "                                                                   repeat_vector_1[7][0]            \n",
      "                                                                   bidirectional_1[0][0]            \n",
      "                                                                   repeat_vector_1[8][0]            \n",
      "                                                                   bidirectional_1[0][0]            \n",
      "                                                                   repeat_vector_1[9][0]            \n",
      "____________________________________________________________________________________________________\n",
      "dense_1 (Dense)                  (None, 30, 10)        1290        concatenate_1[0][0]              \n",
      "                                                                   concatenate_1[1][0]              \n",
      "                                                                   concatenate_1[2][0]              \n",
      "                                                                   concatenate_1[3][0]              \n",
      "                                                                   concatenate_1[4][0]              \n",
      "                                                                   concatenate_1[5][0]              \n",
      "                                                                   concatenate_1[6][0]              \n",
      "                                                                   concatenate_1[7][0]              \n",
      "                                                                   concatenate_1[8][0]              \n",
      "                                                                   concatenate_1[9][0]              \n",
      "____________________________________________________________________________________________________\n",
      "dense_2 (Dense)                  (None, 30, 1)         11          dense_1[0][0]                    \n",
      "                                                                   dense_1[1][0]                    \n",
      "                                                                   dense_1[2][0]                    \n",
      "                                                                   dense_1[3][0]                    \n",
      "                                                                   dense_1[4][0]                    \n",
      "                                                                   dense_1[5][0]                    \n",
      "                                                                   dense_1[6][0]                    \n",
      "                                                                   dense_1[7][0]                    \n",
      "                                                                   dense_1[8][0]                    \n",
      "                                                                   dense_1[9][0]                    \n",
      "____________________________________________________________________________________________________\n",
      "attention_weights (Activation)   (None, 30, 1)         0           dense_2[0][0]                    \n",
      "                                                                   dense_2[1][0]                    \n",
      "                                                                   dense_2[2][0]                    \n",
      "                                                                   dense_2[3][0]                    \n",
      "                                                                   dense_2[4][0]                    \n",
      "                                                                   dense_2[5][0]                    \n",
      "                                                                   dense_2[6][0]                    \n",
      "                                                                   dense_2[7][0]                    \n",
      "                                                                   dense_2[8][0]                    \n",
      "                                                                   dense_2[9][0]                    \n",
      "____________________________________________________________________________________________________\n",
      "dot_1 (Dot)                      (None, 1, 64)         0           attention_weights[0][0]          \n",
      "                                                                   bidirectional_1[0][0]            \n",
      "                                                                   attention_weights[1][0]          \n",
      "                                                                   bidirectional_1[0][0]            \n",
      "                                                                   attention_weights[2][0]          \n",
      "                                                                   bidirectional_1[0][0]            \n",
      "                                                                   attention_weights[3][0]          \n",
      "                                                                   bidirectional_1[0][0]            \n",
      "                                                                   attention_weights[4][0]          \n",
      "                                                                   bidirectional_1[0][0]            \n",
      "                                                                   attention_weights[5][0]          \n",
      "                                                                   bidirectional_1[0][0]            \n",
      "                                                                   attention_weights[6][0]          \n",
      "                                                                   bidirectional_1[0][0]            \n",
      "                                                                   attention_weights[7][0]          \n",
      "                                                                   bidirectional_1[0][0]            \n",
      "                                                                   attention_weights[8][0]          \n",
      "                                                                   bidirectional_1[0][0]            \n",
      "                                                                   attention_weights[9][0]          \n",
      "                                                                   bidirectional_1[0][0]            \n",
      "____________________________________________________________________________________________________\n",
      "c0 (InputLayer)                  (None, 64)            0                                            \n",
      "____________________________________________________________________________________________________\n",
      "lstm_1 (LSTM)                    [(None, 64), (None, 6 33024       dot_1[0][0]                      \n",
      "                                                                   s0[0][0]                         \n",
      "                                                                   c0[0][0]                         \n",
      "                                                                   dot_1[1][0]                      \n",
      "                                                                   lstm_1[0][0]                     \n",
      "                                                                   lstm_1[0][2]                     \n",
      "                                                                   dot_1[2][0]                      \n",
      "                                                                   lstm_1[1][0]                     \n",
      "                                                                   lstm_1[1][2]                     \n",
      "                                                                   dot_1[3][0]                      \n",
      "                                                                   lstm_1[2][0]                     \n",
      "                                                                   lstm_1[2][2]                     \n",
      "                                                                   dot_1[4][0]                      \n",
      "                                                                   lstm_1[3][0]                     \n",
      "                                                                   lstm_1[3][2]                     \n",
      "                                                                   dot_1[5][0]                      \n",
      "                                                                   lstm_1[4][0]                     \n",
      "                                                                   lstm_1[4][2]                     \n",
      "                                                                   dot_1[6][0]                      \n",
      "                                                                   lstm_1[5][0]                     \n",
      "                                                                   lstm_1[5][2]                     \n",
      "                                                                   dot_1[7][0]                      \n",
      "                                                                   lstm_1[6][0]                     \n",
      "                                                                   lstm_1[6][2]                     \n",
      "                                                                   dot_1[8][0]                      \n",
      "                                                                   lstm_1[7][0]                     \n",
      "                                                                   lstm_1[7][2]                     \n",
      "                                                                   dot_1[9][0]                      \n",
      "                                                                   lstm_1[8][0]                     \n",
      "                                                                   lstm_1[8][2]                     \n",
      "____________________________________________________________________________________________________\n",
      "dense_3 (Dense)                  (None, 11)            715         lstm_1[0][0]                     \n",
      "                                                                   lstm_1[1][0]                     \n",
      "                                                                   lstm_1[2][0]                     \n",
      "                                                                   lstm_1[3][0]                     \n",
      "                                                                   lstm_1[4][0]                     \n",
      "                                                                   lstm_1[5][0]                     \n",
      "                                                                   lstm_1[6][0]                     \n",
      "                                                                   lstm_1[7][0]                     \n",
      "                                                                   lstm_1[8][0]                     \n",
      "                                                                   lstm_1[9][0]                     \n",
      "====================================================================================================\n",
      "Total params: 52,960\n",
      "Trainable params: 52,960\n",
      "Non-trainable params: 0\n",
      "____________________________________________________________________________________________________\n"
     ]
    }
   ],
   "source": [
    "model.summary()"
   ]
  },
  {
   "cell_type": "markdown",
   "metadata": {},
   "source": [
    "Navigate through the output of `model.summary()` above. You can see that the layer named `attention_weights` outputs the `alphas` of shape (m, 30, 1) before `dot_2` computes the context vector for every time step $t = 0, \\ldots, T_y-1$. Lets get the activations from this layer.\n",
    "\n",
    "The function `attention_map()` pulls out the attention values from your model and plots them."
   ]
  },
  {
   "cell_type": "code",
   "execution_count": 17,
   "metadata": {
    "scrolled": false
   },
   "outputs": [
    {
     "data": {
      "text/plain": [
       "<matplotlib.figure.Figure at 0x7f36af358f98>"
      ]
     },
     "metadata": {},
     "output_type": "display_data"
    },
    {
     "data": {
      "image/png": "[encoded data removed]",
      "text/plain": [
       "<matplotlib.figure.Figure at 0x7f36a733bcf8>"
      ]
     },
     "metadata": {},
     "output_type": "display_data"
    }
   ],
   "source": [
    "attention_map = plot_attention_map(model, human_vocab, inv_machine_vocab, \"Tuesday 09 Oct 1993\", num = 7, n_s = 64)"
   ]
  },
  {
   "cell_type": "markdown",
   "metadata": {},
   "source": [
    "On the generated plot you can observe the values of the attention weights for each character of the predicted output. Examine this plot and check that where the network is paying attention makes sense to you.\n",
    "\n",
    "In the date translation application, you will observe that most of the time attention helps predict the year, and hasn't much impact on predicting the day/month."
   ]
  },
  {
   "cell_type": "markdown",
   "metadata": {},
   "source": [
    "### Congratulations!\n",
    "\n",
    "\n",
    "You have come to the end of this assignment \n",
    "\n",
    "<font color='blue'> **Here's what you should remember from this notebook**:\n",
    "\n",
    "- Machine translation models can be used to map from one sequence to another. They are useful not just for translating human languages (like French->English) but also for tasks like date format translation. \n",
    "- An attention mechanism allows a network to focus on the most relevant parts of the input when producing a specific part of the output. \n",
    "- A network using an attention mechanism can translate from inputs of length $T_x$ to outputs of length $T_y$, where $T_x$ and $T_y$ can be different. \n",
    "- You can visualize attention weights $\\alpha^{\\langle t,t' \\rangle}$ to see what the network is paying attention to while generating each output."
   ]
  },
  {
   "cell_type": "markdown",
   "metadata": {},
   "source": [
    "Congratulations on finishing this assignment! You are now able to implement an attention model and use it to learn complex mappings from one sequence to another. "
   ]
  }
 ],
 "metadata": {
  "coursera": {
   "course_slug": "nlp-sequence-models",
   "graded_item_id": "n16CQ",
   "launcher_item_id": "npjGi"
  },
  "kernelspec": {
   "display_name": "Python 3",
   "language": "python",
   "name": "python3"
  },
  "language_info": {
   "codemirror_mode": {
    "name": "ipython",
    "version": 3
   },
   "file_extension": ".py",
   "mimetype": "text/x-python",
   "name": "python",
   "nbconvert_exporter": "python",
   "pygments_lexer": "ipython3",
   "version": "3.6.0"
  }
 },
 "nbformat": 4,
 "nbformat_minor": 2
}
